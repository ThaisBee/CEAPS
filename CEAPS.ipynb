{
 "cells": [
  {
   "cell_type": "markdown",
   "metadata": {},
   "source": [
    "# DATA SCIENCE USANDO DADOS DO CEAPS  \n",
    "\n",
    "Neste trabalho usaremos um dataset coletado do portal do CEAPS (Cota para Exercício da Atividade Parlamentar dos Senadores). Nesse dataset temos informações a respeito dos gastos declarados dos senadores. O objetivo deste tralho é limpar e tratar os dados para, por fim, realizar análises que podem ser úteis para avaliar o gasto dos senadores.\n",
    "\n",
    "1. Lendo o dataset e concatenado em um único Data Frame\n",
    "2. Explorando o DATASET\n",
    "3. DATA Cleaning\n",
    "    - Limpando a coluna COD_DOCUMENTO\n",
    "    - Limpando a coluna DATA\n",
    "    - Limpando a coluna VALOR_REEMBOLSADO\n",
    "    - Transformando a coluna DOCUMENTO em dados booleanos\n",
    "    - Convertendo variáveis categóricas em variáveis dummies da coluna TIPO_DESPESA\n",
    "    - Removendo as colunas que não participarão da análise dos dados\n",
    "\n",
    "4. Análise dos dados\n",
    "    - Explorando os valores dos gastos ao longo do tempo\n",
    "        * Teste ADF\n",
    "        * Autocorrelation Function\n",
    "        * Partial autocorrelation function\n",
    "    - Modelo SARIMAX\n",
    "        * Grid search e a métrica AIC\n",
    "        * Efetuando previsões\n",
    "        * Cross validation\n",
    "\n",
    "\n",
    "\n",
    "    \n"
   ]
  },
  {
   "cell_type": "markdown",
   "metadata": {},
   "source": [
    "## 1. Lendo o dataset e concatenado em um único Data Frame"
   ]
  },
  {
   "cell_type": "code",
   "execution_count": 1,
   "metadata": {},
   "outputs": [],
   "source": [
    "import pandas as pd\n",
    "import warnings\n",
    "warnings.filterwarnings('ignore')"
   ]
  },
  {
   "cell_type": "markdown",
   "metadata": {},
   "source": [
    "Como o arquivo não abriu imediatamente com o método `read_csv` do pandas, de modo que houve um erro dizendo que o arquivo não poderia ser decodificado, então há a necessidade de determinar o  encoding do arquivo. Para isso, importaremos o `chardet.detect` e prosseguiremos da seguinte maneira:"
   ]
  },
  {
   "cell_type": "code",
   "execution_count": 2,
   "metadata": {},
   "outputs": [
    {
     "data": {
      "text/plain": [
       "{'encoding': 'ISO-8859-1', 'confidence': 0.73, 'language': ''}"
      ]
     },
     "execution_count": 2,
     "metadata": {},
     "output_type": "execute_result"
    }
   ],
   "source": [
    "import chardet\n",
    "with open('dados/despesa_ceaps_2019.csv', 'rb') as rawdata:\n",
    "    result = chardet.detect(rawdata.read(100000))\n",
    "result"
   ]
  },
  {
   "cell_type": "markdown",
   "metadata": {},
   "source": [
    "Agora que sabemos o provável encoding dos dados, isto é, `ISO-8859-1`, vamos usar essa informação no método `read_csv()` do pandas e verificar se todos os arquivos do dataset serão lidos.\n",
    "\n",
    "Quando estamos trabalhando com dados 'crus' ou RAW data, temos que estar atentos para células que estão preenchidas com valores NaN, ou seja, valores não numéricos que não agregam para a análise posterior dos dados. Para isso usaremos o método `isna()` do pandas, somando todos os números para facilitar a compreensão. Além disso, calcularemos a porcentagem de valores NaN por ano para cada uma das colunas.\n"
   ]
  },
  {
   "cell_type": "code",
   "execution_count": 3,
   "metadata": {},
   "outputs": [],
   "source": [
    "df_list=[]\n",
    "isna_by_year=[]\n",
    "anos = range(2008,2023)\n",
    "for ano in anos:\n",
    "    path='dados/despesa_ceaps_'+str(ano)+'.csv'\n",
    "    df = pd.read_csv(path,sep=\";\",skiprows=1,encoding='ISO-8859-1')\n",
    "    df_list.append(df)\n",
    "    isna_by_year.append(df.isna().sum().values/df.shape[0])\n"
   ]
  },
  {
   "cell_type": "markdown",
   "metadata": {},
   "source": [
    "Após criar um dataframe para que arquivo csv, vamos concatenar todos eles em um único data frame."
   ]
  },
  {
   "cell_type": "code",
   "execution_count": 4,
   "metadata": {
    "scrolled": false
   },
   "outputs": [],
   "source": [
    "df = pd.concat(df_list, ignore_index=True)"
   ]
  },
  {
   "cell_type": "markdown",
   "metadata": {},
   "source": [
    "## 2. Explorando o DATASET"
   ]
  },
  {
   "cell_type": "markdown",
   "metadata": {},
   "source": [
    "Agora que temos todo o dataset podemos fazer uma análise exploratória dos dados."
   ]
  },
  {
   "cell_type": "code",
   "execution_count": 5,
   "metadata": {},
   "outputs": [
    {
     "data": {
      "text/html": [
       "<div>\n",
       "<style scoped>\n",
       "    .dataframe tbody tr th:only-of-type {\n",
       "        vertical-align: middle;\n",
       "    }\n",
       "\n",
       "    .dataframe tbody tr th {\n",
       "        vertical-align: top;\n",
       "    }\n",
       "\n",
       "    .dataframe thead th {\n",
       "        text-align: right;\n",
       "    }\n",
       "</style>\n",
       "<table border=\"1\" class=\"dataframe\">\n",
       "  <thead>\n",
       "    <tr style=\"text-align: right;\">\n",
       "      <th></th>\n",
       "      <th>ANO</th>\n",
       "      <th>MES</th>\n",
       "      <th>SENADOR</th>\n",
       "      <th>TIPO_DESPESA</th>\n",
       "      <th>CNPJ_CPF</th>\n",
       "      <th>FORNECEDOR</th>\n",
       "      <th>DOCUMENTO</th>\n",
       "      <th>DATA</th>\n",
       "      <th>DETALHAMENTO</th>\n",
       "      <th>VALOR_REEMBOLSADO</th>\n",
       "      <th>COD_DOCUMENTO</th>\n",
       "    </tr>\n",
       "  </thead>\n",
       "  <tbody>\n",
       "    <tr>\n",
       "      <th>312592</th>\n",
       "      <td>2022</td>\n",
       "      <td>8</td>\n",
       "      <td>ZEQUINHA MARINHO</td>\n",
       "      <td>Aluguel de imóveis para escritório político, c...</td>\n",
       "      <td>04.895.728/0001-80</td>\n",
       "      <td>EQUATORIAL ENERGIA</td>\n",
       "      <td>018516578</td>\n",
       "      <td>08/08/2022</td>\n",
       "      <td>NaN</td>\n",
       "      <td>292,59</td>\n",
       "      <td>2186788.0</td>\n",
       "    </tr>\n",
       "    <tr>\n",
       "      <th>312593</th>\n",
       "      <td>2022</td>\n",
       "      <td>8</td>\n",
       "      <td>ZEQUINHA MARINHO</td>\n",
       "      <td>Aluguel de imóveis para escritório político, c...</td>\n",
       "      <td>04.895.728/0001-80</td>\n",
       "      <td>EQUATORIAL ENERGIA</td>\n",
       "      <td>0202208018625090</td>\n",
       "      <td>08/08/2022</td>\n",
       "      <td>NaN</td>\n",
       "      <td>553,33</td>\n",
       "      <td>2186787.0</td>\n",
       "    </tr>\n",
       "    <tr>\n",
       "      <th>312594</th>\n",
       "      <td>2022</td>\n",
       "      <td>8</td>\n",
       "      <td>ZEQUINHA MARINHO</td>\n",
       "      <td>Locomoção, hospedagem, alimentação, combustíve...</td>\n",
       "      <td>27.522.923/0001-60</td>\n",
       "      <td>Casarao da Vila Restaurante LTDA - ME</td>\n",
       "      <td>000127032</td>\n",
       "      <td>03/08/2022</td>\n",
       "      <td>NaN</td>\n",
       "      <td>26,57</td>\n",
       "      <td>2184892.0</td>\n",
       "    </tr>\n",
       "    <tr>\n",
       "      <th>312595</th>\n",
       "      <td>2022</td>\n",
       "      <td>8</td>\n",
       "      <td>ZEQUINHA MARINHO</td>\n",
       "      <td>Passagens aéreas, aquáticas e terrestres nacio...</td>\n",
       "      <td>22.052.777/0001-32</td>\n",
       "      <td>Exceller Tour</td>\n",
       "      <td>FLXNAO</td>\n",
       "      <td>02/08/2022</td>\n",
       "      <td>Companhia Aérea: GOL, Localizador: FLXNAO. Pas...</td>\n",
       "      <td>3140,46</td>\n",
       "      <td>2185426.0</td>\n",
       "    </tr>\n",
       "    <tr>\n",
       "      <th>312596</th>\n",
       "      <td>2022</td>\n",
       "      <td>8</td>\n",
       "      <td>ZEQUINHA MARINHO</td>\n",
       "      <td>Passagens aéreas, aquáticas e terrestres nacio...</td>\n",
       "      <td>22.052.777/0001-32</td>\n",
       "      <td>Exceller Tour</td>\n",
       "      <td>TKR98A</td>\n",
       "      <td>07/08/2022</td>\n",
       "      <td>Companhia Aérea: AZUL, Localizador: TKR98A. Pa...</td>\n",
       "      <td>2850,9</td>\n",
       "      <td>2185429.0</td>\n",
       "    </tr>\n",
       "  </tbody>\n",
       "</table>\n",
       "</div>"
      ],
      "text/plain": [
       "         ANO  MES           SENADOR  \\\n",
       "312592  2022    8  ZEQUINHA MARINHO   \n",
       "312593  2022    8  ZEQUINHA MARINHO   \n",
       "312594  2022    8  ZEQUINHA MARINHO   \n",
       "312595  2022    8  ZEQUINHA MARINHO   \n",
       "312596  2022    8  ZEQUINHA MARINHO   \n",
       "\n",
       "                                             TIPO_DESPESA            CNPJ_CPF  \\\n",
       "312592  Aluguel de imóveis para escritório político, c...  04.895.728/0001-80   \n",
       "312593  Aluguel de imóveis para escritório político, c...  04.895.728/0001-80   \n",
       "312594  Locomoção, hospedagem, alimentação, combustíve...  27.522.923/0001-60   \n",
       "312595  Passagens aéreas, aquáticas e terrestres nacio...  22.052.777/0001-32   \n",
       "312596  Passagens aéreas, aquáticas e terrestres nacio...  22.052.777/0001-32   \n",
       "\n",
       "                                   FORNECEDOR         DOCUMENTO        DATA  \\\n",
       "312592                     EQUATORIAL ENERGIA         018516578  08/08/2022   \n",
       "312593                     EQUATORIAL ENERGIA  0202208018625090  08/08/2022   \n",
       "312594  Casarao da Vila Restaurante LTDA - ME         000127032  03/08/2022   \n",
       "312595                          Exceller Tour            FLXNAO  02/08/2022   \n",
       "312596                          Exceller Tour            TKR98A  07/08/2022   \n",
       "\n",
       "                                             DETALHAMENTO VALOR_REEMBOLSADO  \\\n",
       "312592                                                NaN            292,59   \n",
       "312593                                                NaN            553,33   \n",
       "312594                                                NaN             26,57   \n",
       "312595  Companhia Aérea: GOL, Localizador: FLXNAO. Pas...           3140,46   \n",
       "312596  Companhia Aérea: AZUL, Localizador: TKR98A. Pa...            2850,9   \n",
       "\n",
       "        COD_DOCUMENTO  \n",
       "312592      2186788.0  \n",
       "312593      2186787.0  \n",
       "312594      2184892.0  \n",
       "312595      2185426.0  \n",
       "312596      2185429.0  "
      ]
     },
     "execution_count": 5,
     "metadata": {},
     "output_type": "execute_result"
    }
   ],
   "source": [
    "df.tail()"
   ]
  },
  {
   "cell_type": "code",
   "execution_count": 6,
   "metadata": {
    "scrolled": false
   },
   "outputs": [
    {
     "name": "stdout",
     "output_type": "stream",
     "text": [
      "O dataframe df possui 312597 linhas e 11 colunas\n"
     ]
    }
   ],
   "source": [
    "print('O dataframe df possui %d linhas e %d colunas'%(df.shape[0],df.shape[1]))"
   ]
  },
  {
   "cell_type": "markdown",
   "metadata": {},
   "source": [
    "Conseguimos informações interessantes com o método `info()` do DataFrame, como, por exemplo, o Data type e a quantidados de valores não nulos."
   ]
  },
  {
   "cell_type": "code",
   "execution_count": 7,
   "metadata": {
    "scrolled": false
   },
   "outputs": [
    {
     "name": "stdout",
     "output_type": "stream",
     "text": [
      "<class 'pandas.core.frame.DataFrame'>\n",
      "RangeIndex: 312597 entries, 0 to 312596\n",
      "Data columns (total 11 columns):\n",
      " #   Column             Non-Null Count   Dtype  \n",
      "---  ------             --------------   -----  \n",
      " 0   ANO                312597 non-null  int64  \n",
      " 1   MES                312597 non-null  int64  \n",
      " 2   SENADOR            312597 non-null  object \n",
      " 3   TIPO_DESPESA       312597 non-null  object \n",
      " 4   CNPJ_CPF           309453 non-null  object \n",
      " 5   FORNECEDOR         309453 non-null  object \n",
      " 6   DOCUMENTO          288099 non-null  object \n",
      " 7   DATA               309453 non-null  object \n",
      " 8   DETALHAMENTO       177658 non-null  object \n",
      " 9   VALOR_REEMBOLSADO  312597 non-null  object \n",
      " 10  COD_DOCUMENTO      312595 non-null  float64\n",
      "dtypes: float64(1), int64(2), object(8)\n",
      "memory usage: 26.2+ MB\n"
     ]
    }
   ],
   "source": [
    "df.info()"
   ]
  },
  {
   "cell_type": "markdown",
   "metadata": {},
   "source": [
    "Verificando se há valores NaN"
   ]
  },
  {
   "cell_type": "code",
   "execution_count": 8,
   "metadata": {
    "scrolled": true
   },
   "outputs": [
    {
     "data": {
      "text/plain": [
       "ANO                       0\n",
       "MES                       0\n",
       "SENADOR                   0\n",
       "TIPO_DESPESA              0\n",
       "CNPJ_CPF               3144\n",
       "FORNECEDOR             3144\n",
       "DOCUMENTO             24498\n",
       "DATA                   3144\n",
       "DETALHAMENTO         134939\n",
       "VALOR_REEMBOLSADO         0\n",
       "COD_DOCUMENTO             2\n",
       "dtype: int64"
      ]
     },
     "execution_count": 8,
     "metadata": {},
     "output_type": "execute_result"
    }
   ],
   "source": [
    "df.isna().sum()"
   ]
  },
  {
   "cell_type": "markdown",
   "metadata": {},
   "source": [
    "Verificando se há valores Null"
   ]
  },
  {
   "cell_type": "code",
   "execution_count": 9,
   "metadata": {
    "scrolled": false
   },
   "outputs": [
    {
     "data": {
      "text/plain": [
       "ANO                       0\n",
       "MES                       0\n",
       "SENADOR                   0\n",
       "TIPO_DESPESA              0\n",
       "CNPJ_CPF               3144\n",
       "FORNECEDOR             3144\n",
       "DOCUMENTO             24498\n",
       "DATA                   3144\n",
       "DETALHAMENTO         134939\n",
       "VALOR_REEMBOLSADO         0\n",
       "COD_DOCUMENTO             2\n",
       "dtype: int64"
      ]
     },
     "execution_count": 9,
     "metadata": {},
     "output_type": "execute_result"
    }
   ],
   "source": [
    "df.isnull().sum()"
   ]
  },
  {
   "cell_type": "markdown",
   "metadata": {},
   "source": [
    "Agora vamos sesparar uma lista com as colunas que apresentam células com valores não numéricos"
   ]
  },
  {
   "cell_type": "code",
   "execution_count": 10,
   "metadata": {},
   "outputs": [],
   "source": [
    "missing_data_columns=['DETALHAMENTO','CNPJ_CPF','DOCUMENTO','DATA','COD_DOCUMENTO','FORNECEDOR']"
   ]
  },
  {
   "cell_type": "markdown",
   "metadata": {},
   "source": [
    "Fração de dados NaN para cada coluna e para cada ano"
   ]
  },
  {
   "cell_type": "code",
   "execution_count": 11,
   "metadata": {
    "scrolled": true
   },
   "outputs": [
    {
     "data": {
      "text/html": [
       "<div>\n",
       "<style scoped>\n",
       "    .dataframe tbody tr th:only-of-type {\n",
       "        vertical-align: middle;\n",
       "    }\n",
       "\n",
       "    .dataframe tbody tr th {\n",
       "        vertical-align: top;\n",
       "    }\n",
       "\n",
       "    .dataframe thead th {\n",
       "        text-align: right;\n",
       "    }\n",
       "</style>\n",
       "<table border=\"1\" class=\"dataframe\">\n",
       "  <thead>\n",
       "    <tr style=\"text-align: right;\">\n",
       "      <th></th>\n",
       "      <th>ANOS</th>\n",
       "      <th>DETALHAMENTO</th>\n",
       "      <th>CNPJ_CPF</th>\n",
       "      <th>DOCUMENTO</th>\n",
       "      <th>DATA</th>\n",
       "      <th>COD_DOCUMENTO</th>\n",
       "      <th>FORNECEDOR</th>\n",
       "    </tr>\n",
       "  </thead>\n",
       "  <tbody>\n",
       "    <tr>\n",
       "      <th>13</th>\n",
       "      <td>2021</td>\n",
       "      <td>0.453200</td>\n",
       "      <td>0.0</td>\n",
       "      <td>0.040114</td>\n",
       "      <td>0.0</td>\n",
       "      <td>0.0</td>\n",
       "      <td>0.0</td>\n",
       "    </tr>\n",
       "    <tr>\n",
       "      <th>14</th>\n",
       "      <td>2022</td>\n",
       "      <td>0.466626</td>\n",
       "      <td>0.0</td>\n",
       "      <td>0.054485</td>\n",
       "      <td>0.0</td>\n",
       "      <td>0.0</td>\n",
       "      <td>0.0</td>\n",
       "    </tr>\n",
       "  </tbody>\n",
       "</table>\n",
       "</div>"
      ],
      "text/plain": [
       "    ANOS  DETALHAMENTO  CNPJ_CPF  DOCUMENTO  DATA  COD_DOCUMENTO  FORNECEDOR\n",
       "13  2021      0.453200       0.0   0.040114   0.0            0.0         0.0\n",
       "14  2022      0.466626       0.0   0.054485   0.0            0.0         0.0"
      ]
     },
     "execution_count": 11,
     "metadata": {},
     "output_type": "execute_result"
    }
   ],
   "source": [
    "df_na=pd.DataFrame(isna_by_year, columns=df.columns)\n",
    "df_na=df_na[missing_data_columns]\n",
    "df_na.insert(0,'ANOS',anos)\n",
    "df_na.tail(2)"
   ]
  },
  {
   "cell_type": "markdown",
   "metadata": {},
   "source": [
    "## 3. DATA Cleaning"
   ]
  },
  {
   "cell_type": "markdown",
   "metadata": {},
   "source": [
    "### Limpando a coluna COD_DOCUMENTO\n",
    "\n",
    "Na sessão Explorando o Data set vimos que a coluna COD_DOCUMENTO apresentou problemas em apenas duas linhas."
   ]
  },
  {
   "cell_type": "code",
   "execution_count": 12,
   "metadata": {},
   "outputs": [],
   "source": [
    "df_tratado=df.copy()"
   ]
  },
  {
   "cell_type": "code",
   "execution_count": 13,
   "metadata": {
    "scrolled": false
   },
   "outputs": [
    {
     "name": "stdout",
     "output_type": "stream",
     "text": [
      "ANO                                                               2015\n",
      "MES                                                                  8\n",
      "SENADOR                                                 EDUARDO AMORIM\n",
      "TIPO_DESPESA         Passagens aéreas, aquáticas e terrestres nacio...\n",
      "CNPJ_CPF                                            13.353.495/0001-84\n",
      "FORNECEDOR                             PROPAGTUR - Propag Turismo Ltda\n",
      "DOCUMENTO                                      SEM FATURA\";02/08/2015\"\n",
      "DATA                 Companhia Aérea: TAM, Localizador: YXGDSJ. Pas...\n",
      "DETALHAMENTO                                                    469,53\n",
      "VALOR_REEMBOLSADO                                              2014675\n",
      "COD_DOCUMENTO                                                      NaN\n",
      "Name: 150213, dtype: object\n",
      "\n",
      "\n",
      "ANO                                                               2015\n",
      "MES                                                                  8\n",
      "SENADOR                                                 EDUARDO AMORIM\n",
      "TIPO_DESPESA         Passagens aéreas, aquáticas e terrestres nacio...\n",
      "CNPJ_CPF                                            13.353.495/0001-84\n",
      "FORNECEDOR                             PROPAGTUR - Propag Turismo Ltda\n",
      "DOCUMENTO                                    ¨¨SEM FATURA\";17/08/2015\"\n",
      "DATA                 Companhia Aérea: AVIANCA, Localizador: ZNEU9F....\n",
      "DETALHAMENTO                                                    460,45\n",
      "VALOR_REEMBOLSADO                                              2016557\n",
      "COD_DOCUMENTO                                                      NaN\n",
      "Name: 150220, dtype: object\n",
      "\n",
      "\n"
     ]
    }
   ],
   "source": [
    "import numpy as np \n",
    "na_index_list=np.where(df['COD_DOCUMENTO'].isna())[0]\n",
    "for i in na_index_list:\n",
    "    print(df.loc[i])\n",
    "    print('\\n')"
   ]
  },
  {
   "cell_type": "markdown",
   "metadata": {},
   "source": [
    "Isso mostra que, para 2 valores do dataframe, não houve separação em colunas considerando o ';'."
   ]
  },
  {
   "cell_type": "code",
   "execution_count": 14,
   "metadata": {},
   "outputs": [],
   "source": [
    "for i in na_index_list:\n",
    "    documento,data=df['DOCUMENTO'].loc[i].split(';')\n",
    "    documento=documento.replace('\\\"','')\n",
    "    data=data.replace('\\\"','')\n",
    "\n",
    "    df_tratado['DOCUMENTO'].loc[i]=documento\n",
    "    df_tratado['DATA'].loc[i]=data\n",
    "    df_tratado['DETALHAMENTO'].loc[i]=df['DATA'].loc[i]\n",
    "    df_tratado['VALOR_REEMBOLSADO'].loc[i]=df['DETALHAMENTO'].loc[i]\n",
    "    df_tratado['COD_DOCUMENTO'].loc[i]=df['VALOR_REEMBOLSADO'].loc[i]"
   ]
  },
  {
   "cell_type": "code",
   "execution_count": 15,
   "metadata": {},
   "outputs": [
    {
     "data": {
      "text/plain": [
       "ANO                                                               2015\n",
       "MES                                                                  8\n",
       "SENADOR                                                 EDUARDO AMORIM\n",
       "TIPO_DESPESA         Passagens aéreas, aquáticas e terrestres nacio...\n",
       "CNPJ_CPF                                            13.353.495/0001-84\n",
       "FORNECEDOR                             PROPAGTUR - Propag Turismo Ltda\n",
       "DOCUMENTO                                                 ¨¨SEM FATURA\n",
       "DATA                                                        17/08/2015\n",
       "DETALHAMENTO         Companhia Aérea: AVIANCA, Localizador: ZNEU9F....\n",
       "VALOR_REEMBOLSADO                                               460,45\n",
       "COD_DOCUMENTO                                                  2016557\n",
       "Name: 150220, dtype: object"
      ]
     },
     "execution_count": 15,
     "metadata": {},
     "output_type": "execute_result"
    }
   ],
   "source": [
    "df_tratado.loc[na_index_list[1]]"
   ]
  },
  {
   "cell_type": "code",
   "execution_count": 16,
   "metadata": {},
   "outputs": [
    {
     "name": "stdout",
     "output_type": "stream",
     "text": [
      "ANO                                                               2015\n",
      "MES                                                                  8\n",
      "SENADOR                                                 EDUARDO AMORIM\n",
      "TIPO_DESPESA         Passagens aéreas, aquáticas e terrestres nacio...\n",
      "CNPJ_CPF                                            13.353.495/0001-84\n",
      "FORNECEDOR                             PROPAGTUR - Propag Turismo Ltda\n",
      "DOCUMENTO                                                 ¨¨SEM FATURA\n",
      "DATA                                                        17/08/2015\n",
      "DETALHAMENTO         Companhia Aérea: AVIANCA, Localizador: ZNEU9F....\n",
      "VALOR_REEMBOLSADO                                               460,45\n",
      "COD_DOCUMENTO                                                  2016557\n",
      "Name: 150220, dtype: object\n"
     ]
    }
   ],
   "source": [
    "i=1\n",
    "print(df_tratado.loc[na_index_list[i]])"
   ]
  },
  {
   "cell_type": "markdown",
   "metadata": {},
   "source": [
    "### Limpando a coluna DATA"
   ]
  },
  {
   "cell_type": "markdown",
   "metadata": {},
   "source": [
    "Observamos na tabela abaixo que, para a coluna DATA, aproximadamente 1% dos dados são NaN"
   ]
  },
  {
   "cell_type": "code",
   "execution_count": 17,
   "metadata": {
    "scrolled": true
   },
   "outputs": [
    {
     "data": {
      "text/plain": [
       "ANO                  0.000000\n",
       "MES                  0.000000\n",
       "SENADOR              0.000000\n",
       "TIPO_DESPESA         0.000000\n",
       "CNPJ_CPF             0.010058\n",
       "FORNECEDOR           0.010058\n",
       "DOCUMENTO            0.078369\n",
       "DATA                 0.010058\n",
       "DETALHAMENTO         0.431671\n",
       "VALOR_REEMBOLSADO    0.000000\n",
       "COD_DOCUMENTO        0.000000\n",
       "dtype: float64"
      ]
     },
     "execution_count": 17,
     "metadata": {},
     "output_type": "execute_result"
    }
   ],
   "source": [
    "df_tratado.isna().sum()/df_tratado.shape[0]"
   ]
  },
  {
   "cell_type": "markdown",
   "metadata": {},
   "source": [
    "Mas como esses valores NaN estão distribuidos ao longo dos anos? Vimos em explorando o dataset que para 2008 e 2009 temos 100% e 42% de valores NaN, respectivamente. Como temos os valores de data para todos os outros anos, isso indica que houve, possivelmente, uma mudança de metodologia na coleta dos dados."
   ]
  },
  {
   "cell_type": "code",
   "execution_count": 18,
   "metadata": {
    "scrolled": false
   },
   "outputs": [],
   "source": [
    "df_tratado[\"DATA\"]=pd.to_datetime(df_tratado[\"DATA\"], errors='coerce')\n",
    "where_is_na=np.where(df_tratado[\"DATA\"].isna())[0]\n",
    "new_date=pd.to_datetime(df_tratado.ANO.astype(str) + '/' + df_tratado.MES.astype(str)+'/01')\n",
    "for i in where_is_na:\n",
    "    df_tratado[\"DATA\"].loc[i]=new_date[i]"
   ]
  },
  {
   "cell_type": "markdown",
   "metadata": {},
   "source": [
    "Agora vamos verificar as correções feitas usando o método `info()`."
   ]
  },
  {
   "cell_type": "code",
   "execution_count": 19,
   "metadata": {
    "scrolled": true
   },
   "outputs": [
    {
     "name": "stdout",
     "output_type": "stream",
     "text": [
      "<class 'pandas.core.frame.DataFrame'>\n",
      "RangeIndex: 312597 entries, 0 to 312596\n",
      "Data columns (total 11 columns):\n",
      " #   Column             Non-Null Count   Dtype         \n",
      "---  ------             --------------   -----         \n",
      " 0   ANO                312597 non-null  int64         \n",
      " 1   MES                312597 non-null  int64         \n",
      " 2   SENADOR            312597 non-null  object        \n",
      " 3   TIPO_DESPESA       312597 non-null  object        \n",
      " 4   CNPJ_CPF           309453 non-null  object        \n",
      " 5   FORNECEDOR         309453 non-null  object        \n",
      " 6   DOCUMENTO          288099 non-null  object        \n",
      " 7   DATA               312597 non-null  datetime64[ns]\n",
      " 8   DETALHAMENTO       177658 non-null  object        \n",
      " 9   VALOR_REEMBOLSADO  312597 non-null  object        \n",
      " 10  COD_DOCUMENTO      312597 non-null  object        \n",
      "dtypes: datetime64[ns](1), int64(2), object(8)\n",
      "memory usage: 26.2+ MB\n"
     ]
    }
   ],
   "source": [
    "df_tratado.info()"
   ]
  },
  {
   "cell_type": "code",
   "execution_count": 20,
   "metadata": {},
   "outputs": [],
   "source": [
    "df_tratado[\"DATA\"]=pd.to_datetime(df_tratado['DATA'])"
   ]
  },
  {
   "cell_type": "code",
   "execution_count": 21,
   "metadata": {},
   "outputs": [
    {
     "data": {
      "text/plain": [
       "array([   0, 1901, 1956, 1957, 1962, 1965, 1977, 1980, 1986, 2000, 2001,\n",
       "       2002, 2003, 2004, 2005, 2006, 2007, 2023, 2041, 2101, 2105, 2106,\n",
       "       2107])"
      ]
     },
     "execution_count": 21,
     "metadata": {},
     "output_type": "execute_result"
    }
   ],
   "source": [
    "#pegando a coluna DATA\n",
    "data=pd.to_datetime(df_tratado['DATA'])#.dt.date\n",
    "#Pegando apenas os anos referentes a data\n",
    "anos_data=[a.year for a in data]\n",
    "#retorna true para os anos fora do período entre 2008 e 2022,e False para os outros\n",
    "anos_fora_bool=[a<2008 or a>2022 for a in anos_data]\n",
    "anos_fora=[a for a in anos_data if a<2008 or a>2022]\n",
    "\n",
    "#Pegando apenas os anos referentes ao período\n",
    "anos_periodo=df_tratado[\"ANO\"]\n",
    "np.unique(anos)\n",
    "\n",
    "anos_data_fora=np.asarray(anos_fora_bool)*np.asarray(anos_data)\n",
    "anos_periodo_fora=np.asarray(anos_fora_bool)*df_tratado[\"ANO\"].values\n",
    "dff=pd.DataFrame()\n",
    "\n",
    "dff['anos_periodo']=anos_periodo_fora\n",
    "dff['anos_data']=anos_data_fora\n",
    "\n",
    "dff=dff[dff['anos_data']!=0]\n",
    "\n",
    "np.unique(anos_data_fora)"
   ]
  },
  {
   "cell_type": "code",
   "execution_count": 22,
   "metadata": {},
   "outputs": [
    {
     "data": {
      "image/png": "[encoded data removed]",
      "text/plain": [
       "<Figure size 432x288 with 1 Axes>"
      ]
     },
     "metadata": {
      "needs_background": "light"
     },
     "output_type": "display_data"
    }
   ],
   "source": [
    "import matplotlib.pyplot as plt\n",
    "\n",
    "plt.hist(dff['anos_periodo'])\n",
    "plt.show()"
   ]
  },
  {
   "cell_type": "code",
   "execution_count": 23,
   "metadata": {},
   "outputs": [
    {
     "data": {
      "image/png": "[encoded data removed]",
      "text/plain": [
       "<Figure size 432x288 with 1 Axes>"
      ]
     },
     "metadata": {
      "needs_background": "light"
     },
     "output_type": "display_data"
    }
   ],
   "source": [
    "plt.hist(dff['anos_data'])\n",
    "plt.show()\n"
   ]
  },
  {
   "cell_type": "code",
   "execution_count": 24,
   "metadata": {},
   "outputs": [
    {
     "name": "stdout",
     "output_type": "stream",
     "text": [
      "Temos que em 99 porcento dos dados a direferença entre ano da data e ano do período é zero.\n"
     ]
    }
   ],
   "source": [
    "u=((anos_data-anos_periodo)==0).sum()\n",
    "print(\"Temos que em %.0f porcento dos dados a direferença entre ano da data e ano do período é zero.\"%(u*100/df_tratado.shape[0]))"
   ]
  },
  {
   "cell_type": "code",
   "execution_count": 25,
   "metadata": {
    "scrolled": true
   },
   "outputs": [],
   "source": [
    "where_years_out=np.where(anos_fora_bool)[0]\n",
    "corrected_dates=[]"
   ]
  },
  {
   "cell_type": "code",
   "execution_count": 26,
   "metadata": {},
   "outputs": [],
   "source": [
    "for i in where_years_out:\n",
    "        d,m,y=df_tratado['DATA'].loc[i].day,df_tratado['DATA'].loc[i].month,df_tratado['DATA'].loc[i].year\n",
    "        corrected_dates.append(str(d)+'/'+str(m)+'/'+str(df_tratado['ANO'].loc[i]))\n",
    "for i in range(len(where_years_out)):\n",
    "        df_tratado['DATA'].loc[where_years_out[i]]=corrected_dates[i]\n",
    "        \n",
    "df_tratado['DATA']=pd.to_datetime(df_tratado['DATA'])\n"
   ]
  },
  {
   "cell_type": "code",
   "execution_count": 27,
   "metadata": {
    "scrolled": true
   },
   "outputs": [
    {
     "name": "stdout",
     "output_type": "stream",
     "text": [
      "<class 'pandas.core.frame.DataFrame'>\n",
      "RangeIndex: 312597 entries, 0 to 312596\n",
      "Data columns (total 11 columns):\n",
      " #   Column             Non-Null Count   Dtype         \n",
      "---  ------             --------------   -----         \n",
      " 0   ANO                312597 non-null  int64         \n",
      " 1   MES                312597 non-null  int64         \n",
      " 2   SENADOR            312597 non-null  object        \n",
      " 3   TIPO_DESPESA       312597 non-null  object        \n",
      " 4   CNPJ_CPF           309453 non-null  object        \n",
      " 5   FORNECEDOR         309453 non-null  object        \n",
      " 6   DOCUMENTO          288099 non-null  object        \n",
      " 7   DATA               312597 non-null  datetime64[ns]\n",
      " 8   DETALHAMENTO       177658 non-null  object        \n",
      " 9   VALOR_REEMBOLSADO  312597 non-null  object        \n",
      " 10  COD_DOCUMENTO      312597 non-null  object        \n",
      "dtypes: datetime64[ns](1), int64(2), object(8)\n",
      "memory usage: 26.2+ MB\n"
     ]
    }
   ],
   "source": [
    "df_tratado.info()"
   ]
  },
  {
   "cell_type": "markdown",
   "metadata": {},
   "source": [
    "Agora vamos concatenar as colunas 'ANO' e 'MES' na coluna 'PERIODO'"
   ]
  },
  {
   "cell_type": "code",
   "execution_count": 28,
   "metadata": {},
   "outputs": [
    {
     "data": {
      "text/html": [
       "<div>\n",
       "<style scoped>\n",
       "    .dataframe tbody tr th:only-of-type {\n",
       "        vertical-align: middle;\n",
       "    }\n",
       "\n",
       "    .dataframe tbody tr th {\n",
       "        vertical-align: top;\n",
       "    }\n",
       "\n",
       "    .dataframe thead th {\n",
       "        text-align: right;\n",
       "    }\n",
       "</style>\n",
       "<table border=\"1\" class=\"dataframe\">\n",
       "  <thead>\n",
       "    <tr style=\"text-align: right;\">\n",
       "      <th></th>\n",
       "      <th>PERIODO</th>\n",
       "      <th>ANO</th>\n",
       "      <th>MES</th>\n",
       "      <th>SENADOR</th>\n",
       "      <th>TIPO_DESPESA</th>\n",
       "      <th>CNPJ_CPF</th>\n",
       "      <th>FORNECEDOR</th>\n",
       "      <th>DOCUMENTO</th>\n",
       "      <th>DATA</th>\n",
       "      <th>DETALHAMENTO</th>\n",
       "      <th>VALOR_REEMBOLSADO</th>\n",
       "      <th>COD_DOCUMENTO</th>\n",
       "    </tr>\n",
       "  </thead>\n",
       "  <tbody>\n",
       "    <tr>\n",
       "      <th>312592</th>\n",
       "      <td>2022-08</td>\n",
       "      <td>2022</td>\n",
       "      <td>8</td>\n",
       "      <td>ZEQUINHA MARINHO</td>\n",
       "      <td>Aluguel de imóveis para escritório político, c...</td>\n",
       "      <td>04.895.728/0001-80</td>\n",
       "      <td>EQUATORIAL ENERGIA</td>\n",
       "      <td>018516578</td>\n",
       "      <td>2022-08-08</td>\n",
       "      <td>NaN</td>\n",
       "      <td>292,59</td>\n",
       "      <td>2.18679e+06</td>\n",
       "    </tr>\n",
       "    <tr>\n",
       "      <th>312593</th>\n",
       "      <td>2022-08</td>\n",
       "      <td>2022</td>\n",
       "      <td>8</td>\n",
       "      <td>ZEQUINHA MARINHO</td>\n",
       "      <td>Aluguel de imóveis para escritório político, c...</td>\n",
       "      <td>04.895.728/0001-80</td>\n",
       "      <td>EQUATORIAL ENERGIA</td>\n",
       "      <td>0202208018625090</td>\n",
       "      <td>2022-08-08</td>\n",
       "      <td>NaN</td>\n",
       "      <td>553,33</td>\n",
       "      <td>2.18679e+06</td>\n",
       "    </tr>\n",
       "    <tr>\n",
       "      <th>312594</th>\n",
       "      <td>2022-08</td>\n",
       "      <td>2022</td>\n",
       "      <td>8</td>\n",
       "      <td>ZEQUINHA MARINHO</td>\n",
       "      <td>Locomoção, hospedagem, alimentação, combustíve...</td>\n",
       "      <td>27.522.923/0001-60</td>\n",
       "      <td>Casarao da Vila Restaurante LTDA - ME</td>\n",
       "      <td>000127032</td>\n",
       "      <td>2022-03-08</td>\n",
       "      <td>NaN</td>\n",
       "      <td>26,57</td>\n",
       "      <td>2.18489e+06</td>\n",
       "    </tr>\n",
       "    <tr>\n",
       "      <th>312595</th>\n",
       "      <td>2022-08</td>\n",
       "      <td>2022</td>\n",
       "      <td>8</td>\n",
       "      <td>ZEQUINHA MARINHO</td>\n",
       "      <td>Passagens aéreas, aquáticas e terrestres nacio...</td>\n",
       "      <td>22.052.777/0001-32</td>\n",
       "      <td>Exceller Tour</td>\n",
       "      <td>FLXNAO</td>\n",
       "      <td>2022-02-08</td>\n",
       "      <td>Companhia Aérea: GOL, Localizador: FLXNAO. Pas...</td>\n",
       "      <td>3140,46</td>\n",
       "      <td>2.18543e+06</td>\n",
       "    </tr>\n",
       "    <tr>\n",
       "      <th>312596</th>\n",
       "      <td>2022-08</td>\n",
       "      <td>2022</td>\n",
       "      <td>8</td>\n",
       "      <td>ZEQUINHA MARINHO</td>\n",
       "      <td>Passagens aéreas, aquáticas e terrestres nacio...</td>\n",
       "      <td>22.052.777/0001-32</td>\n",
       "      <td>Exceller Tour</td>\n",
       "      <td>TKR98A</td>\n",
       "      <td>2022-07-08</td>\n",
       "      <td>Companhia Aérea: AZUL, Localizador: TKR98A. Pa...</td>\n",
       "      <td>2850,9</td>\n",
       "      <td>2.18543e+06</td>\n",
       "    </tr>\n",
       "  </tbody>\n",
       "</table>\n",
       "</div>"
      ],
      "text/plain": [
       "        PERIODO   ANO  MES           SENADOR  \\\n",
       "312592  2022-08  2022    8  ZEQUINHA MARINHO   \n",
       "312593  2022-08  2022    8  ZEQUINHA MARINHO   \n",
       "312594  2022-08  2022    8  ZEQUINHA MARINHO   \n",
       "312595  2022-08  2022    8  ZEQUINHA MARINHO   \n",
       "312596  2022-08  2022    8  ZEQUINHA MARINHO   \n",
       "\n",
       "                                             TIPO_DESPESA            CNPJ_CPF  \\\n",
       "312592  Aluguel de imóveis para escritório político, c...  04.895.728/0001-80   \n",
       "312593  Aluguel de imóveis para escritório político, c...  04.895.728/0001-80   \n",
       "312594  Locomoção, hospedagem, alimentação, combustíve...  27.522.923/0001-60   \n",
       "312595  Passagens aéreas, aquáticas e terrestres nacio...  22.052.777/0001-32   \n",
       "312596  Passagens aéreas, aquáticas e terrestres nacio...  22.052.777/0001-32   \n",
       "\n",
       "                                   FORNECEDOR         DOCUMENTO       DATA  \\\n",
       "312592                     EQUATORIAL ENERGIA         018516578 2022-08-08   \n",
       "312593                     EQUATORIAL ENERGIA  0202208018625090 2022-08-08   \n",
       "312594  Casarao da Vila Restaurante LTDA - ME         000127032 2022-03-08   \n",
       "312595                          Exceller Tour            FLXNAO 2022-02-08   \n",
       "312596                          Exceller Tour            TKR98A 2022-07-08   \n",
       "\n",
       "                                             DETALHAMENTO VALOR_REEMBOLSADO  \\\n",
       "312592                                                NaN            292,59   \n",
       "312593                                                NaN            553,33   \n",
       "312594                                                NaN             26,57   \n",
       "312595  Companhia Aérea: GOL, Localizador: FLXNAO. Pas...           3140,46   \n",
       "312596  Companhia Aérea: AZUL, Localizador: TKR98A. Pa...            2850,9   \n",
       "\n",
       "       COD_DOCUMENTO  \n",
       "312592   2.18679e+06  \n",
       "312593   2.18679e+06  \n",
       "312594   2.18489e+06  \n",
       "312595   2.18543e+06  \n",
       "312596   2.18543e+06  "
      ]
     },
     "execution_count": 28,
     "metadata": {},
     "output_type": "execute_result"
    }
   ],
   "source": [
    "ano_mes=pd.to_datetime(df_tratado.ANO.astype(str) + '/' + df_tratado.MES.astype(str) ).dt.to_period('M')\n",
    "df_tratado.insert(0,'PERIODO',ano_mes)\n",
    "df_tratado.tail()"
   ]
  },
  {
   "cell_type": "markdown",
   "metadata": {},
   "source": [
    "### Limpando a coluna VALOR_REEMBOLSADO"
   ]
  },
  {
   "cell_type": "markdown",
   "metadata": {},
   "source": [
    "Outra informação importante que tiramos do data frame usando o método `df.info()` é que a coluna VALOR_REEMBOLSADO não está sendo lida como sendo de um tipo numérico, mas sim como sendo do tipo object. Portanto, vamos converter a coluna VALOR_REEMBOLSADO para valor numérico da seguinte maneira:"
   ]
  },
  {
   "cell_type": "code",
   "execution_count": 29,
   "metadata": {
    "scrolled": true
   },
   "outputs": [
    {
     "name": "stdout",
     "output_type": "stream",
     "text": [
      "Temos que 1 de 312597 valores não foram convertidos para numero.\n"
     ]
    }
   ],
   "source": [
    "valor_remb=pd.to_numeric(df_tratado['VALOR_REEMBOLSADO'].str.replace(',','.'), errors='coerce')\n",
    "where_is_na=np.where(valor_remb.isna())[0]\n",
    "\n",
    "print(\"Temos que %d de %d valores não foram convertidos para numero.\"%(len(where_is_na),df_tratado.shape[0]))"
   ]
  },
  {
   "cell_type": "code",
   "execution_count": 30,
   "metadata": {
    "scrolled": true
   },
   "outputs": [
    {
     "name": "stdout",
     "output_type": "stream",
     "text": [
      "[115962]\n"
     ]
    },
    {
     "data": {
      "text/plain": [
       "PERIODO                                                        2013-02\n",
       "ANO                                                               2013\n",
       "MES                                                                  2\n",
       "SENADOR                                                RICARDO FERRAÇO\n",
       "TIPO_DESPESA         Passagens aéreas, aquáticas e terrestres nacio...\n",
       "CNPJ_CPF                                            02.012.862/0001-60\n",
       "FORNECEDOR                                                         TAM\n",
       "DOCUMENTO                                                9572462859757\n",
       "DATA                                               2013-04-02 00:00:00\n",
       "DETALHAMENTO         CNPJ: 02.012.862/0001-60 FORNECEDOR: TAM DOCUM...\n",
       "VALOR_REEMBOLSADO                                          1\\r\\n675,55\n",
       "COD_DOCUMENTO                                                   698982\n",
       "Name: 115962, dtype: object"
      ]
     },
     "execution_count": 30,
     "metadata": {},
     "output_type": "execute_result"
    }
   ],
   "source": [
    "print(where_is_na)\n",
    "df_tratado.loc[where_is_na[0]]"
   ]
  },
  {
   "cell_type": "code",
   "execution_count": 31,
   "metadata": {
    "scrolled": true
   },
   "outputs": [
    {
     "data": {
      "text/plain": [
       "count    312597.000000\n",
       "mean       1005.278140\n",
       "std        2561.660456\n",
       "min       -1500.000000\n",
       "25%         100.000000\n",
       "50%         280.000000\n",
       "75%         994.080000\n",
       "max      270000.000000\n",
       "Name: VALOR_REEMBOLSADO, dtype: float64"
      ]
     },
     "execution_count": 31,
     "metadata": {},
     "output_type": "execute_result"
    }
   ],
   "source": [
    "valor_remb[where_is_na[0]]=675.55\n",
    "df_tratado['VALOR_REEMBOLSADO']=valor_remb\n",
    "df_tratado['VALOR_REEMBOLSADO'].describe()"
   ]
  },
  {
   "cell_type": "markdown",
   "metadata": {},
   "source": [
    "O método `describe()` revelou que há valores negativos na coluna 'VALOR_REEMBOLSADO'. Portanto vamos investigar esses valores e o que podemos fazer sobre isso."
   ]
  },
  {
   "cell_type": "code",
   "execution_count": 32,
   "metadata": {},
   "outputs": [
    {
     "name": "stdout",
     "output_type": "stream",
     "text": [
      "A coluna 'VALOR_REEMBOLSADO' apresentou 3 valores negativos \n",
      "\n"
     ]
    }
   ],
   "source": [
    "negativos=np.where(valor_remb<0)[0]\n",
    "print(\"A coluna 'VALOR_REEMBOLSADO' apresentou %d valores negativos\"%(len(negativos)),'\\n')"
   ]
  },
  {
   "cell_type": "markdown",
   "metadata": {},
   "source": [
    "Como exitem poucos valores negativos, vamos olhá-los individualmente."
   ]
  },
  {
   "cell_type": "code",
   "execution_count": 33,
   "metadata": {
    "scrolled": true
   },
   "outputs": [
    {
     "name": "stdout",
     "output_type": "stream",
     "text": [
      "ANO                                                               2015\n",
      "MES                                                                  2\n",
      "SENADOR                                                 GLADSON CAMELI\n",
      "TIPO_DESPESA         Aluguel de imóveis para escritório político, c...\n",
      "CNPJ_CPF                                            63.600.449/0001-00\n",
      "FORNECEDOR           Arras Adm. de Bens Imóveis Limpeza e Conservaç...\n",
      "DOCUMENTO                                                          NaN\n",
      "DATA                                                        15/01/2015\n",
      "DETALHAMENTO         Contrato de locação de Imóvel comercial do esc...\n",
      "VALOR_REEMBOLSADO                                                -1500\n",
      "COD_DOCUMENTO                                              2.00123e+06\n",
      "Name: 152315, dtype: object \n",
      "\n",
      "ANO                                                               2015\n",
      "MES                                                                  1\n",
      "SENADOR                                             RANDOLFE RODRIGUES\n",
      "TIPO_DESPESA         Passagens aéreas, aquáticas e terrestres nacio...\n",
      "CNPJ_CPF                                            02.012.862/0001-60\n",
      "FORNECEDOR                                       Tam Linhas Aereas S/A\n",
      "DOCUMENTO                                                9572104373256\n",
      "DATA                                                        28/01/2015\n",
      "DETALHAMENTO         9572100929351 - R$ 1.298,93 (1º bilhete emitid...\n",
      "VALOR_REEMBOLSADO                                                   -9\n",
      "COD_DOCUMENTO                                              2.00036e+06\n",
      "Name: 163225, dtype: object \n",
      "\n",
      "ANO                                                               2017\n",
      "MES                                                                  5\n",
      "SENADOR                                                   DÁRIO BERGER\n",
      "TIPO_DESPESA         Contratação de consultorias, assessorias, pesq...\n",
      "CNPJ_CPF                                            73.228.876/0001-63\n",
      "FORNECEDOR                                      TV CLIPAGEM LTDA. EPP.\n",
      "DOCUMENTO                                                       001661\n",
      "DATA                                                        02/06/2017\n",
      "DETALHAMENTO         Despesa com Monitoramento de Informação Jornal...\n",
      "VALOR_REEMBOLSADO                                               -243,4\n",
      "COD_DOCUMENTO                                              2.06857e+06\n",
      "Name: 201499, dtype: object \n",
      "\n"
     ]
    }
   ],
   "source": [
    "for i in negativos:\n",
    "    print(df.loc[i],'\\n')"
   ]
  },
  {
   "cell_type": "code",
   "execution_count": 34,
   "metadata": {},
   "outputs": [
    {
     "name": "stdout",
     "output_type": "stream",
     "text": [
      "Contrato de locação de Imóvel comercial do escritório de apoio do Senador Gladson Cameli no Estado \n",
      "\n",
      "9572100929351 - R$ 1.298,93 (1º bilhete emitido) 9572102224403 - R$ 1.418,93 (1ª remarcação) 9572104023443 - R$ 1.498,93 (2ª remarcação) 9572104373256 - R$ 2.412,03 (3ª remarcação - bilhete utilizado) \n",
      "\n",
      "Despesa com Monitoramento de Informação Jornalística em Mídia Eletrônica e Imprensa \n",
      "\n"
     ]
    }
   ],
   "source": [
    "for i in negativos:\n",
    "    print(df['DETALHAMENTO'].loc[i],'\\n')\n",
    "    "
   ]
  },
  {
   "cell_type": "markdown",
   "metadata": {},
   "source": [
    "Como não conseguimos inferir um novo número para essas linhas iremos excluí-las."
   ]
  },
  {
   "cell_type": "code",
   "execution_count": 35,
   "metadata": {},
   "outputs": [],
   "source": [
    "df_tratado=df_tratado.drop(index=negativos).reset_index()"
   ]
  },
  {
   "cell_type": "markdown",
   "metadata": {},
   "source": [
    "Agora vamos verificar as correções feitas usando o método `info()`."
   ]
  },
  {
   "cell_type": "code",
   "execution_count": 36,
   "metadata": {
    "scrolled": false
   },
   "outputs": [
    {
     "name": "stdout",
     "output_type": "stream",
     "text": [
      "<class 'pandas.core.frame.DataFrame'>\n",
      "RangeIndex: 312594 entries, 0 to 312593\n",
      "Data columns (total 13 columns):\n",
      " #   Column             Non-Null Count   Dtype         \n",
      "---  ------             --------------   -----         \n",
      " 0   index              312594 non-null  int64         \n",
      " 1   PERIODO            312594 non-null  period[M]     \n",
      " 2   ANO                312594 non-null  int64         \n",
      " 3   MES                312594 non-null  int64         \n",
      " 4   SENADOR            312594 non-null  object        \n",
      " 5   TIPO_DESPESA       312594 non-null  object        \n",
      " 6   CNPJ_CPF           309450 non-null  object        \n",
      " 7   FORNECEDOR         309450 non-null  object        \n",
      " 8   DOCUMENTO          288097 non-null  object        \n",
      " 9   DATA               312594 non-null  datetime64[ns]\n",
      " 10  DETALHAMENTO       177655 non-null  object        \n",
      " 11  VALOR_REEMBOLSADO  312594 non-null  float64       \n",
      " 12  COD_DOCUMENTO      312594 non-null  object        \n",
      "dtypes: datetime64[ns](1), float64(1), int64(3), object(7), period[M](1)\n",
      "memory usage: 31.0+ MB\n"
     ]
    }
   ],
   "source": [
    "df_tratado.info()"
   ]
  },
  {
   "cell_type": "markdown",
   "metadata": {},
   "source": [
    "### Transformando a coluna DOCUMENTO em dados booleanos\n",
    "Vamos transformar a coluna DOCUMENTO em dados booleanos, de modo que o valor True representa a situação em que o senador incluiu o documento e o False representa que o senador não o incluiu."
   ]
  },
  {
   "cell_type": "code",
   "execution_count": 37,
   "metadata": {},
   "outputs": [
    {
     "name": "stdout",
     "output_type": "stream",
     "text": [
      "<class 'pandas.core.frame.DataFrame'>\n",
      "RangeIndex: 312594 entries, 0 to 312593\n",
      "Data columns (total 13 columns):\n",
      " #   Column             Non-Null Count   Dtype         \n",
      "---  ------             --------------   -----         \n",
      " 0   index              312594 non-null  int64         \n",
      " 1   PERIODO            312594 non-null  period[M]     \n",
      " 2   ANO                312594 non-null  int64         \n",
      " 3   MES                312594 non-null  int64         \n",
      " 4   SENADOR            312594 non-null  object        \n",
      " 5   TIPO_DESPESA       312594 non-null  object        \n",
      " 6   CNPJ_CPF           309450 non-null  object        \n",
      " 7   FORNECEDOR         309450 non-null  object        \n",
      " 8   DOCUMENTO          312594 non-null  bool          \n",
      " 9   DATA               312594 non-null  datetime64[ns]\n",
      " 10  DETALHAMENTO       177655 non-null  object        \n",
      " 11  VALOR_REEMBOLSADO  312594 non-null  float64       \n",
      " 12  COD_DOCUMENTO      312594 non-null  object        \n",
      "dtypes: bool(1), datetime64[ns](1), float64(1), int64(3), object(6), period[M](1)\n",
      "memory usage: 28.9+ MB\n"
     ]
    }
   ],
   "source": [
    "df_tratado['DOCUMENTO']=pd.to_numeric(df_tratado['DOCUMENTO'].isna()==False)\n",
    "df_tratado.info()"
   ]
  },
  {
   "cell_type": "markdown",
   "metadata": {},
   "source": [
    "### Convertendo variáveis categóricas em variáveis dummies da coluna TIPO_DESPESA\t"
   ]
  },
  {
   "cell_type": "markdown",
   "metadata": {},
   "source": [
    "Convertendo variáveis categóricas em variáveis dummies conseguimos gerar novas colunas com informações  sobre os tipos de despesa que podem ser analisadas."
   ]
  },
  {
   "cell_type": "code",
   "execution_count": 38,
   "metadata": {},
   "outputs": [
    {
     "data": {
      "text/html": [
       "<div>\n",
       "<style scoped>\n",
       "    .dataframe tbody tr th:only-of-type {\n",
       "        vertical-align: middle;\n",
       "    }\n",
       "\n",
       "    .dataframe tbody tr th {\n",
       "        vertical-align: top;\n",
       "    }\n",
       "\n",
       "    .dataframe thead th {\n",
       "        text-align: right;\n",
       "    }\n",
       "</style>\n",
       "<table border=\"1\" class=\"dataframe\">\n",
       "  <thead>\n",
       "    <tr style=\"text-align: right;\">\n",
       "      <th></th>\n",
       "      <th>Aluguel de imóveis para escritório político, compreendendo despesas concernentes a eles.</th>\n",
       "      <th>Aquisição de material de consumo para uso no escritório político, inclusive aquisição ou locação de software, despesas postais, aquisição de publicações, locação de móveis e de equipamentos.</th>\n",
       "      <th>Contratação de consultorias, assessorias, pesquisas, trabalhos técnicos e outros serviços de apoio ao exercício do mandato parlamentar</th>\n",
       "      <th>Divulgação da atividade parlamentar</th>\n",
       "      <th>Locomoção, hospedagem, alimentação, combustíveis e lubrificantes</th>\n",
       "      <th>Passagens aéreas, aquáticas e terrestres nacionais</th>\n",
       "      <th>Serviços de Segurança Privada</th>\n",
       "    </tr>\n",
       "  </thead>\n",
       "  <tbody>\n",
       "    <tr>\n",
       "      <th>0</th>\n",
       "      <td>0</td>\n",
       "      <td>0</td>\n",
       "      <td>1</td>\n",
       "      <td>0</td>\n",
       "      <td>0</td>\n",
       "      <td>0</td>\n",
       "      <td>0</td>\n",
       "    </tr>\n",
       "    <tr>\n",
       "      <th>1</th>\n",
       "      <td>0</td>\n",
       "      <td>0</td>\n",
       "      <td>0</td>\n",
       "      <td>0</td>\n",
       "      <td>1</td>\n",
       "      <td>0</td>\n",
       "      <td>0</td>\n",
       "    </tr>\n",
       "  </tbody>\n",
       "</table>\n",
       "</div>"
      ],
      "text/plain": [
       "   Aluguel de imóveis para escritório político, compreendendo despesas concernentes a eles.  \\\n",
       "0                                                  0                                          \n",
       "1                                                  0                                          \n",
       "\n",
       "   Aquisição de material de consumo para uso no escritório político, inclusive aquisição ou locação de software, despesas postais, aquisição de publicações, locação de móveis e de equipamentos.   \\\n",
       "0                                                  0                                                                                                                                                 \n",
       "1                                                  0                                                                                                                                                 \n",
       "\n",
       "   Contratação de consultorias, assessorias, pesquisas, trabalhos técnicos e outros serviços de apoio ao exercício do mandato parlamentar  \\\n",
       "0                                                  1                                                                                        \n",
       "1                                                  0                                                                                        \n",
       "\n",
       "   Divulgação da atividade parlamentar  \\\n",
       "0                                    0   \n",
       "1                                    0   \n",
       "\n",
       "   Locomoção, hospedagem, alimentação, combustíveis e lubrificantes  \\\n",
       "0                                                  0                  \n",
       "1                                                  1                  \n",
       "\n",
       "   Passagens aéreas, aquáticas e terrestres nacionais  \\\n",
       "0                                                  0    \n",
       "1                                                  0    \n",
       "\n",
       "   Serviços de Segurança Privada  \n",
       "0                              0  \n",
       "1                              0  "
      ]
     },
     "execution_count": 38,
     "metadata": {},
     "output_type": "execute_result"
    }
   ],
   "source": [
    "dummies=pd.get_dummies(df_tratado['TIPO_DESPESA'])\n",
    "col=dummies.columns\n",
    "dummies=pd.get_dummies(df_tratado['TIPO_DESPESA'])\n",
    "dummies.head(2)"
   ]
  },
  {
   "cell_type": "markdown",
   "metadata": {},
   "source": [
    "Como os nomes das colunas estão muito extensos, farei um dicionário para esses nomes da seguinte maneira:\n",
    " \n",
    "* **DESPESA_0**: Aluguel de imóveis para escritório político, compreendendo despesas concernentes a eles.\n",
    "* **DESPESA_1**: Aquisição de material de consumo para uso no escritório político, inclusive aquisição ou locação de software, despesas postais, aquisição de publicações, locação de móveis e de equipamentos. \n",
    "* **DESPESA_2**: Contratação de consultorias, assessorias, pesquisas, trabalhos técnicos e outros serviços de apoio ao exercício do mandato parlamentar\n",
    "* **DESPESA_3**: Divulgação da atividade parlamentar\n",
    "* **DESPESA_4**: Locomoção, hospedagem, alimentação, combustíveis e lubrificantes\n",
    "* **DESPESA_5**: Passagens aéreas, aquáticas e terrestres nacionais\n",
    "* **DESPESA_6**: Serviços de Segurança Privada"
   ]
  },
  {
   "cell_type": "code",
   "execution_count": 39,
   "metadata": {
    "scrolled": true
   },
   "outputs": [
    {
     "data": {
      "text/html": [
       "<div>\n",
       "<style scoped>\n",
       "    .dataframe tbody tr th:only-of-type {\n",
       "        vertical-align: middle;\n",
       "    }\n",
       "\n",
       "    .dataframe tbody tr th {\n",
       "        vertical-align: top;\n",
       "    }\n",
       "\n",
       "    .dataframe thead th {\n",
       "        text-align: right;\n",
       "    }\n",
       "</style>\n",
       "<table border=\"1\" class=\"dataframe\">\n",
       "  <thead>\n",
       "    <tr style=\"text-align: right;\">\n",
       "      <th></th>\n",
       "      <th>DESPESA_0</th>\n",
       "      <th>DESPESA_1</th>\n",
       "      <th>DESPESA_2</th>\n",
       "      <th>DESPESA_3</th>\n",
       "      <th>DESPESA_4</th>\n",
       "      <th>DESPESA_5</th>\n",
       "      <th>DESPESA_6</th>\n",
       "    </tr>\n",
       "  </thead>\n",
       "  <tbody>\n",
       "    <tr>\n",
       "      <th>0</th>\n",
       "      <td>0</td>\n",
       "      <td>0</td>\n",
       "      <td>1</td>\n",
       "      <td>0</td>\n",
       "      <td>0</td>\n",
       "      <td>0</td>\n",
       "      <td>0</td>\n",
       "    </tr>\n",
       "    <tr>\n",
       "      <th>1</th>\n",
       "      <td>0</td>\n",
       "      <td>0</td>\n",
       "      <td>0</td>\n",
       "      <td>0</td>\n",
       "      <td>1</td>\n",
       "      <td>0</td>\n",
       "      <td>0</td>\n",
       "    </tr>\n",
       "  </tbody>\n",
       "</table>\n",
       "</div>"
      ],
      "text/plain": [
       "   DESPESA_0  DESPESA_1  DESPESA_2  DESPESA_3  DESPESA_4  DESPESA_5  DESPESA_6\n",
       "0          0          0          1          0          0          0          0\n",
       "1          0          0          0          0          1          0          0"
      ]
     },
     "execution_count": 39,
     "metadata": {},
     "output_type": "execute_result"
    }
   ],
   "source": [
    "dict_col={}\n",
    "for i in range(len(col)):\n",
    "    dict_col[col[i]]='DESPESA_'+str(i)\n",
    "dummies=dummies.rename(columns=dict_col)\n",
    "dummies.head(2)"
   ]
  },
  {
   "cell_type": "code",
   "execution_count": 40,
   "metadata": {
    "scrolled": true
   },
   "outputs": [
    {
     "name": "stdout",
     "output_type": "stream",
     "text": [
      "<class 'pandas.core.frame.DataFrame'>\n",
      "RangeIndex: 312594 entries, 0 to 312593\n",
      "Data columns (total 20 columns):\n",
      " #   Column             Non-Null Count   Dtype         \n",
      "---  ------             --------------   -----         \n",
      " 0   index              312594 non-null  int64         \n",
      " 1   PERIODO            312594 non-null  period[M]     \n",
      " 2   ANO                312594 non-null  int64         \n",
      " 3   MES                312594 non-null  int64         \n",
      " 4   SENADOR            312594 non-null  object        \n",
      " 5   TIPO_DESPESA       312594 non-null  object        \n",
      " 6   CNPJ_CPF           309450 non-null  object        \n",
      " 7   FORNECEDOR         309450 non-null  object        \n",
      " 8   DOCUMENTO          312594 non-null  bool          \n",
      " 9   DATA               312594 non-null  datetime64[ns]\n",
      " 10  DETALHAMENTO       177655 non-null  object        \n",
      " 11  VALOR_REEMBOLSADO  312594 non-null  float64       \n",
      " 12  COD_DOCUMENTO      312594 non-null  object        \n",
      " 13  DESPESA_0          312594 non-null  uint8         \n",
      " 14  DESPESA_1          312594 non-null  uint8         \n",
      " 15  DESPESA_2          312594 non-null  uint8         \n",
      " 16  DESPESA_3          312594 non-null  uint8         \n",
      " 17  DESPESA_4          312594 non-null  uint8         \n",
      " 18  DESPESA_5          312594 non-null  uint8         \n",
      " 19  DESPESA_6          312594 non-null  uint8         \n",
      "dtypes: bool(1), datetime64[ns](1), float64(1), int64(3), object(6), period[M](1), uint8(7)\n",
      "memory usage: 31.0+ MB\n"
     ]
    }
   ],
   "source": [
    "df_tratado=pd.concat([df_tratado,dummies],axis=1)\n",
    "df_tratado.info()"
   ]
  },
  {
   "cell_type": "markdown",
   "metadata": {},
   "source": [
    "### Removendo as colunas que não participarão da análise dos dados\n",
    "* **'ANO' e 'MES'**\n",
    "    - As colunas 'ANO' e 'MES' foram concatenadas na colunas 'PERIODO'\n",
    "\n",
    "* **'DETALHAMENTO'**\n",
    "    - A coluna 'DETALHAMENTO' te muitos valores ausentes e não será usada nas análises.\n",
    "    \n",
    "* **'COD_DOCUMENTO'**\n",
    "    - A coluna 'COD_DOCUMENTO' possuem informação que não serão úteis nas análises.\n",
    "    \n",
    "* **'CNPJ_CPF' e 'FORNECEDOR'**\n",
    "    - Como vimos, quando estavamos explorando os dados, as colunas 'CNPJ_CPF', 'FORNECEDOR' e 'DATA' não apareceram apenas em 2008 e em parte de 2009, de modo que não seria interessante transformar os dados 'CNPJ_CPF' e 'FORNECEDOR' em dados booleanos. \n",
    " \n",
    "* **'TIPO_DESPESA'**\n",
    "    - A coluna 'TIPO_DESPESA' não é mais necessária pois foi transformada em colunas com variáveis dummy."
   ]
  },
  {
   "cell_type": "code",
   "execution_count": 41,
   "metadata": {},
   "outputs": [],
   "source": [
    "remove_columns=['ANO','MES','DETALHAMENTO','COD_DOCUMENTO','CNPJ_CPF','FORNECEDOR','TIPO_DESPESA']\n",
    "df_tratado=df_tratado.drop(remove_columns,axis=1)"
   ]
  },
  {
   "cell_type": "code",
   "execution_count": 42,
   "metadata": {},
   "outputs": [
    {
     "data": {
      "text/html": [
       "<div>\n",
       "<style scoped>\n",
       "    .dataframe tbody tr th:only-of-type {\n",
       "        vertical-align: middle;\n",
       "    }\n",
       "\n",
       "    .dataframe tbody tr th {\n",
       "        vertical-align: top;\n",
       "    }\n",
       "\n",
       "    .dataframe thead th {\n",
       "        text-align: right;\n",
       "    }\n",
       "</style>\n",
       "<table border=\"1\" class=\"dataframe\">\n",
       "  <thead>\n",
       "    <tr style=\"text-align: right;\">\n",
       "      <th></th>\n",
       "      <th>index</th>\n",
       "      <th>PERIODO</th>\n",
       "      <th>SENADOR</th>\n",
       "      <th>DOCUMENTO</th>\n",
       "      <th>DATA</th>\n",
       "      <th>VALOR_REEMBOLSADO</th>\n",
       "      <th>DESPESA_0</th>\n",
       "      <th>DESPESA_1</th>\n",
       "      <th>DESPESA_2</th>\n",
       "      <th>DESPESA_3</th>\n",
       "      <th>DESPESA_4</th>\n",
       "      <th>DESPESA_5</th>\n",
       "      <th>DESPESA_6</th>\n",
       "    </tr>\n",
       "  </thead>\n",
       "  <tbody>\n",
       "    <tr>\n",
       "      <th>0</th>\n",
       "      <td>0</td>\n",
       "      <td>2008-09</td>\n",
       "      <td>ADA MELLO</td>\n",
       "      <td>False</td>\n",
       "      <td>2008-09-01</td>\n",
       "      <td>12351.52</td>\n",
       "      <td>0</td>\n",
       "      <td>0</td>\n",
       "      <td>1</td>\n",
       "      <td>0</td>\n",
       "      <td>0</td>\n",
       "      <td>0</td>\n",
       "      <td>0</td>\n",
       "    </tr>\n",
       "    <tr>\n",
       "      <th>1</th>\n",
       "      <td>1</td>\n",
       "      <td>2008-09</td>\n",
       "      <td>ADA MELLO</td>\n",
       "      <td>False</td>\n",
       "      <td>2008-09-01</td>\n",
       "      <td>386.60</td>\n",
       "      <td>0</td>\n",
       "      <td>0</td>\n",
       "      <td>0</td>\n",
       "      <td>0</td>\n",
       "      <td>1</td>\n",
       "      <td>0</td>\n",
       "      <td>0</td>\n",
       "    </tr>\n",
       "  </tbody>\n",
       "</table>\n",
       "</div>"
      ],
      "text/plain": [
       "   index  PERIODO    SENADOR  DOCUMENTO       DATA  VALOR_REEMBOLSADO  \\\n",
       "0      0  2008-09  ADA MELLO      False 2008-09-01           12351.52   \n",
       "1      1  2008-09  ADA MELLO      False 2008-09-01             386.60   \n",
       "\n",
       "   DESPESA_0  DESPESA_1  DESPESA_2  DESPESA_3  DESPESA_4  DESPESA_5  DESPESA_6  \n",
       "0          0          0          1          0          0          0          0  \n",
       "1          0          0          0          0          1          0          0  "
      ]
     },
     "execution_count": 42,
     "metadata": {},
     "output_type": "execute_result"
    }
   ],
   "source": [
    "df_tratado.head(2)"
   ]
  },
  {
   "cell_type": "code",
   "execution_count": 43,
   "metadata": {},
   "outputs": [
    {
     "name": "stdout",
     "output_type": "stream",
     "text": [
      "<class 'pandas.core.frame.DataFrame'>\n",
      "RangeIndex: 312594 entries, 0 to 312593\n",
      "Data columns (total 13 columns):\n",
      " #   Column             Non-Null Count   Dtype         \n",
      "---  ------             --------------   -----         \n",
      " 0   index              312594 non-null  int64         \n",
      " 1   PERIODO            312594 non-null  period[M]     \n",
      " 2   SENADOR            312594 non-null  object        \n",
      " 3   DOCUMENTO          312594 non-null  bool          \n",
      " 4   DATA               312594 non-null  datetime64[ns]\n",
      " 5   VALOR_REEMBOLSADO  312594 non-null  float64       \n",
      " 6   DESPESA_0          312594 non-null  uint8         \n",
      " 7   DESPESA_1          312594 non-null  uint8         \n",
      " 8   DESPESA_2          312594 non-null  uint8         \n",
      " 9   DESPESA_3          312594 non-null  uint8         \n",
      " 10  DESPESA_4          312594 non-null  uint8         \n",
      " 11  DESPESA_5          312594 non-null  uint8         \n",
      " 12  DESPESA_6          312594 non-null  uint8         \n",
      "dtypes: bool(1), datetime64[ns](1), float64(1), int64(1), object(1), period[M](1), uint8(7)\n",
      "memory usage: 14.3+ MB\n"
     ]
    }
   ],
   "source": [
    "df_tratado.info()"
   ]
  },
  {
   "cell_type": "markdown",
   "metadata": {},
   "source": [
    "Agora temos nossos dados limpos e prontos para análises!"
   ]
  },
  {
   "cell_type": "markdown",
   "metadata": {},
   "source": [
    "## 4. Análise dos dados"
   ]
  },
  {
   "cell_type": "markdown",
   "metadata": {},
   "source": [
    "### Explorando os valores dos gastos ao longo do tempo\n",
    "\n",
    "Temos como objetivo fazer uma análise exploratória para nos ajudar na criação de um modelo para esta série temporal. Para isso, consideraremos apenas dados a partir de 2018.\n"
   ]
  },
  {
   "cell_type": "code",
   "execution_count": 127,
   "metadata": {
    "scrolled": false
   },
   "outputs": [
    {
     "data": {
      "text/html": [
       "<div>\n",
       "<style scoped>\n",
       "    .dataframe tbody tr th:only-of-type {\n",
       "        vertical-align: middle;\n",
       "    }\n",
       "\n",
       "    .dataframe tbody tr th {\n",
       "        vertical-align: top;\n",
       "    }\n",
       "\n",
       "    .dataframe thead th {\n",
       "        text-align: right;\n",
       "    }\n",
       "</style>\n",
       "<table border=\"1\" class=\"dataframe\">\n",
       "  <thead>\n",
       "    <tr style=\"text-align: right;\">\n",
       "      <th></th>\n",
       "      <th>VALOR_REEMBOLSADO</th>\n",
       "    </tr>\n",
       "    <tr>\n",
       "      <th>PERIODO</th>\n",
       "      <th></th>\n",
       "    </tr>\n",
       "  </thead>\n",
       "  <tbody>\n",
       "    <tr>\n",
       "      <th>2022-05</th>\n",
       "      <td>2466599.08</td>\n",
       "    </tr>\n",
       "    <tr>\n",
       "      <th>2022-06</th>\n",
       "      <td>2094922.43</td>\n",
       "    </tr>\n",
       "    <tr>\n",
       "      <th>2022-07</th>\n",
       "      <td>2013869.35</td>\n",
       "    </tr>\n",
       "    <tr>\n",
       "      <th>2022-08</th>\n",
       "      <td>1571113.25</td>\n",
       "    </tr>\n",
       "    <tr>\n",
       "      <th>2022-09</th>\n",
       "      <td>353477.49</td>\n",
       "    </tr>\n",
       "  </tbody>\n",
       "</table>\n",
       "</div>"
      ],
      "text/plain": [
       "         VALOR_REEMBOLSADO\n",
       "PERIODO                   \n",
       "2022-05         2466599.08\n",
       "2022-06         2094922.43\n",
       "2022-07         2013869.35\n",
       "2022-08         1571113.25\n",
       "2022-09          353477.49"
      ]
     },
     "execution_count": 127,
     "metadata": {},
     "output_type": "execute_result"
    }
   ],
   "source": [
    "df_filtrado=df_tratado[['PERIODO','VALOR_REEMBOLSADO']]\n",
    "df_filtrado=df_filtrado[df_tratado['PERIODO']>'2018-01-01'].groupby('PERIODO').sum()\n",
    "df_filtrado.tail()\n"
   ]
  },
  {
   "cell_type": "code",
   "execution_count": 131,
   "metadata": {},
   "outputs": [
    {
     "data": {
      "text/plain": [
       "56"
      ]
     },
     "execution_count": 131,
     "metadata": {},
     "output_type": "execute_result"
    }
   ],
   "source": [
    "#criando uma lista de strings com as datas\n",
    "datas=[(str(x.year)+'-'+('%02d'%(x.month)) ) for x in df_filtrado.index]\n",
    "len(datas)"
   ]
  },
  {
   "cell_type": "code",
   "execution_count": 132,
   "metadata": {
    "scrolled": true
   },
   "outputs": [
    {
     "data": {
      "image/png": "[encoded data removed]",
      "text/plain": [
       "<Figure size 1800x576 with 1 Axes>"
      ]
     },
     "metadata": {
      "needs_background": "light"
     },
     "output_type": "display_data"
    }
   ],
   "source": [
    "import matplotlib.pyplot as plt\n",
    "import seaborn as sns\n",
    "\n",
    "plt.figure(figsize=(25,8))\n",
    "fig = plt.bar(datas,df_filtrado.VALOR_REEMBOLSADO/10**6)\n",
    "plt.title(\"Valor reembolsado pelos senadores\", size = 20)\n",
    "plt.xlabel(\"Data\",size=20)\n",
    "plt.ylabel('Milhões de Reais',size=20)\n",
    "plt.xticks(np.arange(1,len(datas),2),rotation=75,size=15)\n",
    "plt.show()"
   ]
  },
  {
   "cell_type": "markdown",
   "metadata": {},
   "source": [
    "Usando o método barplot do seaborn, conseguimos observar as médias de gastos dos senadores, com as linhas verticais representando o intervalo de confiança."
   ]
  },
  {
   "cell_type": "code",
   "execution_count": 126,
   "metadata": {
    "scrolled": true
   },
   "outputs": [
    {
     "data": {
      "text/plain": [
       "Text(0.5, 1.0, 'Valor reembolsado pelos senadores em cada mês \\n considerando os anos --')"
      ]
     },
     "execution_count": 126,
     "metadata": {},
     "output_type": "execute_result"
    },
    {
     "data": {
      "image/png": "[encoded data removed]",
      "text/plain": [
       "<Figure size 432x288 with 1 Axes>"
      ]
     },
     "metadata": {
      "needs_background": "light"
     },
     "output_type": "display_data"
    }
   ],
   "source": [
    "sns.barplot(x=df_filtrado.index.month,y=df_filtrado.VALOR_REEMBOLSADO.values/10**6)\n",
    "plt.xlabel('Mês')\n",
    "plt.ylabel('Milhões de Reais')\n",
    "plt.title('Valor reembolsado pelos senadores em cada mês \\n considerando os anos --')\n",
    "\n"
   ]
  },
  {
   "cell_type": "code",
   "execution_count": 50,
   "metadata": {},
   "outputs": [],
   "source": [
    "#isso permite que a gente decomponha em tendencia, sazionalidade,ruido\n",
    "from statsmodels.tsa.seasonal import seasonal_decompose\n",
    "# permite que a gente plot isso\n",
    "from statsmodels.tsa.seasonal import STL"
   ]
  },
  {
   "cell_type": "markdown",
   "metadata": {},
   "source": [
    "É natural escolhermos uma frequência de 12 meses para os dados. Com isso, faremos a decomposição dos valores observados entre a tendência e sazonalidade apresentadas."
   ]
  },
  {
   "cell_type": "code",
   "execution_count": 51,
   "metadata": {
    "scrolled": true
   },
   "outputs": [
    {
     "data": {
      "image/png": "[encoded data removed]",
      "text/plain": [
       "<Figure size 1440x504 with 1 Axes>"
      ]
     },
     "metadata": {
      "needs_background": "light"
     },
     "output_type": "display_data"
    }
   ],
   "source": [
    "resultados = seasonal_decompose(df_filtrado.VALOR_REEMBOLSADO,freq=12)\n",
    "resultados\n",
    "\n",
    "plt.figure(figsize=(20,7))\n",
    "plt.plot(datas,resultados.observed.values,color='red',label='Observado')\n",
    "plt.plot(datas,resultados.trend.values,color='blue',label='Tendência')\n",
    "plt.plot(datas,resultados.seasonal.values,color='green',label='Sazonalidade')\n",
    "plt.legend(fontsize=18)\n",
    "plt.xticks(np.arange(1,len(datas),2),rotation=75,size=15)\n",
    "plt.show()\n",
    "    \n",
    "\n"
   ]
  },
  {
   "cell_type": "markdown",
   "metadata": {},
   "source": [
    "Para facilitar a notação criaremos a variável y com o valor reembolsado."
   ]
  },
  {
   "cell_type": "code",
   "execution_count": 52,
   "metadata": {},
   "outputs": [
    {
     "data": {
      "text/plain": [
       "PERIODO\n",
       "2018-02    2108974.19\n",
       "2018-03    2605619.03\n",
       "2018-04    2349894.82\n",
       "2018-05    2273119.95\n",
       "2018-06    2106459.89\n",
       "Freq: M, Name: VALOR_REEMBOLSADO, dtype: float64"
      ]
     },
     "execution_count": 52,
     "metadata": {},
     "output_type": "execute_result"
    }
   ],
   "source": [
    "y = df_filtrado['VALOR_REEMBOLSADO']\n",
    "y.head()"
   ]
  },
  {
   "cell_type": "markdown",
   "metadata": {},
   "source": [
    "#### Teste ADF\n",
    "\n",
    "Para verificar a estacionariedade da série aplicaremos o teste de Augmented Dickey-Fuller (ADF). Em que a hipótese nula consiste na existência de não estacionariedade na série e a hipótese alternativa consiste na existência de estacionariedade."
   ]
  },
  {
   "cell_type": "code",
   "execution_count": 53,
   "metadata": {},
   "outputs": [
    {
     "name": "stdout",
     "output_type": "stream",
     "text": [
      "(-3.528246160119168, 0.007290623072815247, 0, 55, {'1%': -3.5552728880540942, '5%': -2.9157312396694217, '10%': -2.5956695041322315}, 1263.6768394019482)\n",
      "p-valor: 0.007290623072815247\n"
     ]
    }
   ],
   "source": [
    "from statsmodels.tsa.stattools import adfuller\n",
    "print(adfuller(y.dropna()))\n",
    "print('p-valor:',adfuller(y.dropna())[1] )"
   ]
  },
  {
   "cell_type": "markdown",
   "metadata": {},
   "source": [
    "Segundo o teste ADF, quando o p-valor está abaixo de 0.05. Como vimos acima, nosso p-valor é de aproximadamente 0.005, podemos rejeitar a hipotese nula com um nível de confiança de 95%, de modo que nossa série será considerada estacionária. O que não é o caso, já que existe uma sazonalidade. No entanto esse teste não é o suficiente para determinar essa característica."
   ]
  },
  {
   "cell_type": "markdown",
   "metadata": {},
   "source": [
    "#### Autocorrelation Function\n",
    "\n",
    "Quando computamos a ACF, ou seja Autocorrelation Function, muitas vezes vimos uma tendência, que pode desaparecer com a diferenciação da série. Dessa forma, removemos a componente de autocorrelação e é por isso que conseguimos transformar a serie temporal em uma série estacionária."
   ]
  },
  {
   "cell_type": "code",
   "execution_count": 105,
   "metadata": {
    "scrolled": false
   },
   "outputs": [
    {
     "data": {
      "image/png": "[encoded data removed]",
      "text/plain": [
       "<Figure size 720x720 with 3 Axes>"
      ]
     },
     "metadata": {
      "needs_background": "light"
     },
     "output_type": "display_data"
    }
   ],
   "source": [
    "from statsmodels.graphics.tsaplots import plot_acf,plot_pacf\n",
    "def plotarACF(y1,y2,y3):\n",
    "    fig = plt.figure(figsize=(10,10))\n",
    "    ax1 = fig.add_subplot(311)#3 linhas, 1 coluna, graph 1\n",
    "    fig = plot_acf(y1,ax=ax1,title='Original')\n",
    "    ax2 = fig.add_subplot(312)#3 linhas, 1 coluna, graph 2\n",
    "    fig = plot_acf(y2,ax=ax2,title='1ª Diferenciação')\n",
    "    ax3 = fig.add_subplot(313)#3 linhas, 1 coluna, graph 2\n",
    "    fig = plot_acf(y3,ax=ax3,title='2ª Diferenciação')\n",
    "    plt.show()\n",
    "plotarACF(y,y.diff().dropna(),y.diff().diff().dropna())"
   ]
  },
  {
   "cell_type": "markdown",
   "metadata": {},
   "source": [
    "#### Partial autocorrelation function\n",
    "\n",
    "A PACF, ou seja, Partial autocorrelation function, determina a correlação entre o dado observado e o resíduo. Ou seja, os valores que ficam após removermos os efeitos já explicados pelos lags anteriores. Se existir qualquer informação residual importante nestes resíduos, vamos identificar com a autocorrelação parcial."
   ]
  },
  {
   "cell_type": "code",
   "execution_count": 104,
   "metadata": {
    "scrolled": false
   },
   "outputs": [
    {
     "data": {
      "image/png": "[encoded data removed]",
      "text/plain": [
       "<Figure size 720x720 with 3 Axes>"
      ]
     },
     "metadata": {
      "needs_background": "light"
     },
     "output_type": "display_data"
    }
   ],
   "source": [
    "def plotarPACF(y1,y2,y3):\n",
    "    fig = plt.figure(figsize=(10,10))\n",
    "    ax1 = fig.add_subplot(311)#3 linhas, 1 coluna, graph 1\n",
    "    fig = plot_pacf(y1,ax=ax1,title='Original')\n",
    "    ax2 = fig.add_subplot(312)#3 linhas, 1 coluna, graph 2\n",
    "    fig = plot_pacf(y2,ax=ax2,title='1ª Diferenciação')\n",
    "    ax3 = fig.add_subplot(313)#3 linhas, 1 coluna, graph 2\n",
    "    fig = plot_acf(y3,ax=ax3,title='2ª Diferenciação')\n",
    "    plt.show()\n",
    "plotarPACF(y,y.diff().dropna(),y.diff().diff().dropna())\n"
   ]
  },
  {
   "cell_type": "markdown",
   "metadata": {},
   "source": [
    "Conhecendo os dados, e observando os gáficos de PACF conseguimos identificar a sazonalidade de 12 meses quando observamos o lag 12 com um valor acima do intervalo de confiança. "
   ]
  },
  {
   "cell_type": "markdown",
   "metadata": {},
   "source": [
    "### Modelo SARIMAX\n",
    "\n",
    "Usaremos o modelo SARIMAX (Sazonal autorregressivo Integrado de Médias Móveis com Covariáveis), pois assumindo sazonalidade e considerando efeitos exogenos, ou seja, considerando variáveis externas que podem influenciar na previsão.\n"
   ]
  },
  {
   "cell_type": "markdown",
   "metadata": {},
   "source": [
    "#### Grid search e a métrica AIC\n",
    "\n",
    "O modelo SARIMAX precisa dos (p, d, q) devido ao modelo ARIMA, e os parâmetros (P, D, Q) devido a sazonalidade.\n",
    "* p é o número de termos da regressão.\n",
    "* d é o número de vezes que diferenciamos a série para deixá-la estacionárias.\n",
    "* q ordem da média móvel.\n",
    "    "
   ]
  },
  {
   "cell_type": "code",
   "execution_count": 67,
   "metadata": {
    "scrolled": true
   },
   "outputs": [
    {
     "data": {
      "text/plain": [
       "[(0, 0, 0),\n",
       " (0, 0, 1),\n",
       " (0, 1, 0),\n",
       " (0, 1, 1),\n",
       " (1, 0, 0),\n",
       " (1, 0, 1),\n",
       " (1, 1, 0),\n",
       " (1, 1, 1)]"
      ]
     },
     "execution_count": 67,
     "metadata": {},
     "output_type": "execute_result"
    }
   ],
   "source": [
    "import itertools\n",
    "p=d=q=range(0,2)\n",
    "pdq = list(itertools.product(p, d, q))\n",
    "pdq[:10]"
   ]
  },
  {
   "cell_type": "code",
   "execution_count": 68,
   "metadata": {},
   "outputs": [
    {
     "data": {
      "text/plain": [
       "[(0, 0, 0, 12),\n",
       " (0, 0, 1, 12),\n",
       " (0, 1, 0, 12),\n",
       " (0, 1, 1, 12),\n",
       " (1, 0, 0, 12),\n",
       " (1, 0, 1, 12),\n",
       " (1, 1, 0, 12),\n",
       " (1, 1, 1, 12)]"
      ]
     },
     "execution_count": 68,
     "metadata": {},
     "output_type": "execute_result"
    }
   ],
   "source": [
    "seasonal_pdq = [(x[0],x[1],x[2],12) for x in pdq]\n",
    "seasonal_pdq"
   ]
  },
  {
   "cell_type": "code",
   "execution_count": 69,
   "metadata": {
    "scrolled": true
   },
   "outputs": [
    {
     "name": "stdout",
     "output_type": "stream",
     "text": [
      "Examples of parameter combinations for Seasonal ARIMA...\n",
      "SARIMAX: (0, 0, 1) x (0, 0, 1, 12)\n",
      "SARIMAX: (0, 0, 1) x (0, 1, 0, 12)\n",
      "SARIMAX: (0, 1, 0) x (0, 1, 1, 12)\n",
      "SARIMAX: (0, 1, 0) x (1, 0, 0, 12)\n"
     ]
    }
   ],
   "source": [
    "p = d = q = range(0, 2)\n",
    "pdq = list(itertools.product(p, d, q))\n",
    "seasonal_pdq = [(x[0], x[1], x[2], 12) for x in list(itertools.product(p, d, q))]\n",
    "print('Examples of parameter combinations for Seasonal ARIMA...')\n",
    "print('SARIMAX: {} x {}'.format(pdq[1], seasonal_pdq[1]))\n",
    "print('SARIMAX: {} x {}'.format(pdq[1], seasonal_pdq[2]))\n",
    "print('SARIMAX: {} x {}'.format(pdq[2], seasonal_pdq[3]))\n",
    "print('SARIMAX: {} x {}'.format(pdq[2], seasonal_pdq[4]))"
   ]
  },
  {
   "cell_type": "markdown",
   "metadata": {},
   "source": [
    "**AIC** significa critério de informação arcaic e ele basicamente vai comparar o resultado que você obteve com os dados observádos, através de uma métrica de distância. De modo que, quanto menor o valor do AIC melhor foi o fit."
   ]
  },
  {
   "cell_type": "code",
   "execution_count": 70,
   "metadata": {},
   "outputs": [],
   "source": [
    "import statsmodels.api as sm\n",
    "aic_lista = []\n",
    "par_lista = []\n",
    "for param in pdq:\n",
    "    for param_seasonal in seasonal_pdq:\n",
    "        mod = sm.tsa.statespace.SARIMAX(y,\n",
    "                                       order=param,\n",
    "                                       seasonal_order=param_seasonal)\n",
    "        results = mod.fit()\n",
    "        par_lista.append('ARIMA{}x{} - AIC {}'.format(param, param_seasonal, results.aic))\n",
    "        aic_lista.append(results.aic)"
   ]
  },
  {
   "cell_type": "code",
   "execution_count": 71,
   "metadata": {
    "scrolled": true
   },
   "outputs": [
    {
     "data": {
      "text/plain": [
       "'ARIMA(0, 1, 0)x(1, 1, 0, 12) - AIC 1231.3453145114186'"
      ]
     },
     "execution_count": 71,
     "metadata": {},
     "output_type": "execute_result"
    }
   ],
   "source": [
    "par_lista[aic_lista.index(min(aic_lista))]\n"
   ]
  },
  {
   "cell_type": "code",
   "execution_count": 74,
   "metadata": {
    "scrolled": true
   },
   "outputs": [
    {
     "data": {
      "image/png": "[encoded data removed]",
      "text/plain": [
       "<Figure size 1152x576 with 4 Axes>"
      ]
     },
     "metadata": {
      "needs_background": "light"
     },
     "output_type": "display_data"
    }
   ],
   "source": [
    "mod = sm.tsa.statespace.SARIMAX(y,\n",
    "                               order = (0, 1, 0),\n",
    "                               seasonal_order=(1, 1, 0, 12))#sazonalidade\n",
    "results = mod.fit()\n",
    "results.plot_diagnostics(figsize=(16,8))\n",
    "plt.show()"
   ]
  },
  {
   "cell_type": "markdown",
   "metadata": {},
   "source": [
    "No primeiro gráfico temos os resíduos, onde conseguimos tirar uma impressão inicial de como eles estão distribuídos. \n",
    "\n",
    "No histograma a gente vai ter o KDE, que é a distribuição dos resíduos. Queremos que essa distribuição seja uma normal,que está representado por N(0,1). Com isso vemos que os erros aparentam ter uma distribuição aproximadamente normal que não apresenta grandes deformidades para a esquerda ou para a direita.\n",
    "\n",
    "No correlogram, onde vemos as autocorrelações residuais, vemos que o nosso modelo conseguiu transformar nossa série temporal em uma série estacionária."
   ]
  },
  {
   "cell_type": "markdown",
   "metadata": {},
   "source": [
    "#### Efetuando previsões"
   ]
  },
  {
   "cell_type": "code",
   "execution_count": 118,
   "metadata": {},
   "outputs": [
    {
     "data": {
      "image/png": "[encoded data removed]",
      "text/plain": [
       "<Figure size 1008x504 with 1 Axes>"
      ]
     },
     "metadata": {
      "needs_background": "light"
     },
     "output_type": "display_data"
    }
   ],
   "source": [
    "#Previsões dentro da amostra e fora da amostra\n",
    "pred=results.get_prediction(end=pd.to_datetime('2023-2'),dynamic=False)\n",
    "\n",
    "#Intervalo de confiança\n",
    "pred_ic= pred.conf_int()\n",
    "\n",
    "#plot\n",
    "ax=y.plot(label='Observado', figsize=(14,7))\n",
    "pred.predicted_mean.plot(ax=ax, label='Previsto')\n",
    "ax.fill_between(pred_ic.index, pred_ic.iloc[:,0], pred_ic.iloc[:,1], color='k', alpha=0.25)\n",
    "ax.set_xlabel('Data')\n",
    "ax.set_ylabel('Valor reembolsado pelos senadores (R$)')\n",
    "plt.grid(10)\n",
    "plt.legend()\n",
    "plt.show()"
   ]
  },
  {
   "cell_type": "code",
   "execution_count": 117,
   "metadata": {
    "scrolled": true
   },
   "outputs": [
    {
     "data": {
      "image/png": "[encoded data removed]",
      "text/plain": [
       "<Figure size 1008x504 with 1 Axes>"
      ]
     },
     "metadata": {
      "needs_background": "light"
     },
     "output_type": "display_data"
    }
   ],
   "source": [
    "#Previsões considerando 6 passos depois dos dados fitados\n",
    "pred_uc = results.get_forecast(steps=6)\n",
    "\n",
    "#intervalo de confiança das previsões\n",
    "pred_ic = pred_uc.conf_int()\n",
    "\n",
    "#plot\n",
    "ax=y.plot(label='Observado', figsize=(14,7))\n",
    "pred_uc.predicted_mean.plot(ax=ax, label='Previsto')\n",
    "results.fittedvalues.plot(ax=ax, label='Fit')\n",
    "ax.fill_between(pred_ic.index, pred_ic.iloc[:,0], pred_ic.iloc[:,1], color='k', alpha=0.25)\n",
    "ax.set_xlabel('Data')\n",
    "ax.set_ylabel('Valor reembolsado pelos senadores (R$)')\n",
    "plt.legend()\n",
    "plt.show()"
   ]
  },
  {
   "cell_type": "code",
   "execution_count": 77,
   "metadata": {},
   "outputs": [
    {
     "data": {
      "text/plain": [
       "Period('2018-03', 'M')"
      ]
     },
     "execution_count": 77,
     "metadata": {},
     "output_type": "execute_result"
    }
   ],
   "source": [
    " y.iloc[1:2].index[0]"
   ]
  },
  {
   "cell_type": "markdown",
   "metadata": {},
   "source": [
    "#### Cross Validation"
   ]
  },
  {
   "cell_type": "markdown",
   "metadata": {},
   "source": [
    "Faremos uma validação denominada cross-validation que consiste em:\n",
    "\n",
    "    1) Fitar um modelo em uma amostra para treino.\n",
    "    2) Efetuar a previsão para n passos.\n",
    "    3) Expandir a amostra para incluir o próximo observável.\n",
    "    4) Calcular os erros das previsões, erros relativos aos valores verdadeiros do \n",
    "    dataset.\n",
    "Então repetiremos isso recursivamente.\n"
   ]
  },
  {
   "cell_type": "code",
   "execution_count": 113,
   "metadata": {
    "scrolled": false
   },
   "outputs": [
    {
     "data": {
      "text/html": [
       "<div>\n",
       "<style scoped>\n",
       "    .dataframe tbody tr th:only-of-type {\n",
       "        vertical-align: middle;\n",
       "    }\n",
       "\n",
       "    .dataframe tbody tr th {\n",
       "        vertical-align: top;\n",
       "    }\n",
       "\n",
       "    .dataframe thead th {\n",
       "        text-align: right;\n",
       "    }\n",
       "</style>\n",
       "<table border=\"1\" class=\"dataframe\">\n",
       "  <thead>\n",
       "    <tr style=\"text-align: right;\">\n",
       "      <th></th>\n",
       "      <th>2021-09</th>\n",
       "      <th>2021-10</th>\n",
       "      <th>2021-11</th>\n",
       "      <th>2021-12</th>\n",
       "      <th>2022-01</th>\n",
       "      <th>2022-02</th>\n",
       "      <th>2022-03</th>\n",
       "      <th>2022-04</th>\n",
       "      <th>2022-05</th>\n",
       "      <th>2022-06</th>\n",
       "      <th>2022-07</th>\n",
       "      <th>2022-08</th>\n",
       "      <th>2022-09</th>\n",
       "    </tr>\n",
       "    <tr>\n",
       "      <th>Forecasted</th>\n",
       "      <th></th>\n",
       "      <th></th>\n",
       "      <th></th>\n",
       "      <th></th>\n",
       "      <th></th>\n",
       "      <th></th>\n",
       "      <th></th>\n",
       "      <th></th>\n",
       "      <th></th>\n",
       "      <th></th>\n",
       "      <th></th>\n",
       "      <th></th>\n",
       "      <th></th>\n",
       "    </tr>\n",
       "  </thead>\n",
       "  <tbody>\n",
       "    <tr>\n",
       "      <th>2021-10</th>\n",
       "      <td>-115178.696827</td>\n",
       "      <td>NaN</td>\n",
       "      <td>NaN</td>\n",
       "      <td>NaN</td>\n",
       "      <td>NaN</td>\n",
       "      <td>NaN</td>\n",
       "      <td>NaN</td>\n",
       "      <td>NaN</td>\n",
       "      <td>NaN</td>\n",
       "      <td>NaN</td>\n",
       "      <td>NaN</td>\n",
       "      <td>NaN</td>\n",
       "      <td>NaN</td>\n",
       "    </tr>\n",
       "    <tr>\n",
       "      <th>2021-11</th>\n",
       "      <td>75066.646691</td>\n",
       "      <td>190245.343518</td>\n",
       "      <td>NaN</td>\n",
       "      <td>NaN</td>\n",
       "      <td>NaN</td>\n",
       "      <td>NaN</td>\n",
       "      <td>NaN</td>\n",
       "      <td>NaN</td>\n",
       "      <td>NaN</td>\n",
       "      <td>NaN</td>\n",
       "      <td>NaN</td>\n",
       "      <td>NaN</td>\n",
       "      <td>NaN</td>\n",
       "    </tr>\n",
       "    <tr>\n",
       "      <th>2021-12</th>\n",
       "      <td>-618861.590117</td>\n",
       "      <td>-503682.893290</td>\n",
       "      <td>-693928.236809</td>\n",
       "      <td>NaN</td>\n",
       "      <td>NaN</td>\n",
       "      <td>NaN</td>\n",
       "      <td>NaN</td>\n",
       "      <td>NaN</td>\n",
       "      <td>NaN</td>\n",
       "      <td>NaN</td>\n",
       "      <td>NaN</td>\n",
       "      <td>NaN</td>\n",
       "      <td>NaN</td>\n",
       "    </tr>\n",
       "    <tr>\n",
       "      <th>2022-01</th>\n",
       "      <td>NaN</td>\n",
       "      <td>90418.006235</td>\n",
       "      <td>-99827.337283</td>\n",
       "      <td>5.941009e+05</td>\n",
       "      <td>NaN</td>\n",
       "      <td>NaN</td>\n",
       "      <td>NaN</td>\n",
       "      <td>NaN</td>\n",
       "      <td>NaN</td>\n",
       "      <td>NaN</td>\n",
       "      <td>NaN</td>\n",
       "      <td>NaN</td>\n",
       "      <td>NaN</td>\n",
       "    </tr>\n",
       "    <tr>\n",
       "      <th>2022-02</th>\n",
       "      <td>NaN</td>\n",
       "      <td>NaN</td>\n",
       "      <td>-79612.146604</td>\n",
       "      <td>6.143161e+05</td>\n",
       "      <td>20215.190679</td>\n",
       "      <td>NaN</td>\n",
       "      <td>NaN</td>\n",
       "      <td>NaN</td>\n",
       "      <td>NaN</td>\n",
       "      <td>NaN</td>\n",
       "      <td>NaN</td>\n",
       "      <td>NaN</td>\n",
       "      <td>NaN</td>\n",
       "    </tr>\n",
       "    <tr>\n",
       "      <th>2022-03</th>\n",
       "      <td>NaN</td>\n",
       "      <td>NaN</td>\n",
       "      <td>NaN</td>\n",
       "      <td>1.084300e+06</td>\n",
       "      <td>490198.667174</td>\n",
       "      <td>469983.476495</td>\n",
       "      <td>NaN</td>\n",
       "      <td>NaN</td>\n",
       "      <td>NaN</td>\n",
       "      <td>NaN</td>\n",
       "      <td>NaN</td>\n",
       "      <td>NaN</td>\n",
       "      <td>NaN</td>\n",
       "    </tr>\n",
       "    <tr>\n",
       "      <th>2022-04</th>\n",
       "      <td>NaN</td>\n",
       "      <td>NaN</td>\n",
       "      <td>NaN</td>\n",
       "      <td>NaN</td>\n",
       "      <td>414390.010806</td>\n",
       "      <td>394174.820127</td>\n",
       "      <td>-75808.656368</td>\n",
       "      <td>NaN</td>\n",
       "      <td>NaN</td>\n",
       "      <td>NaN</td>\n",
       "      <td>NaN</td>\n",
       "      <td>NaN</td>\n",
       "      <td>NaN</td>\n",
       "    </tr>\n",
       "    <tr>\n",
       "      <th>2022-05</th>\n",
       "      <td>NaN</td>\n",
       "      <td>NaN</td>\n",
       "      <td>NaN</td>\n",
       "      <td>NaN</td>\n",
       "      <td>NaN</td>\n",
       "      <td>345033.248343</td>\n",
       "      <td>-124950.228152</td>\n",
       "      <td>-49141.571784</td>\n",
       "      <td>NaN</td>\n",
       "      <td>NaN</td>\n",
       "      <td>NaN</td>\n",
       "      <td>NaN</td>\n",
       "      <td>NaN</td>\n",
       "    </tr>\n",
       "    <tr>\n",
       "      <th>2022-06</th>\n",
       "      <td>NaN</td>\n",
       "      <td>NaN</td>\n",
       "      <td>NaN</td>\n",
       "      <td>NaN</td>\n",
       "      <td>NaN</td>\n",
       "      <td>NaN</td>\n",
       "      <td>-520234.806216</td>\n",
       "      <td>-444426.149848</td>\n",
       "      <td>-3.952846e+05</td>\n",
       "      <td>NaN</td>\n",
       "      <td>NaN</td>\n",
       "      <td>NaN</td>\n",
       "      <td>NaN</td>\n",
       "    </tr>\n",
       "    <tr>\n",
       "      <th>2022-07</th>\n",
       "      <td>NaN</td>\n",
       "      <td>NaN</td>\n",
       "      <td>NaN</td>\n",
       "      <td>NaN</td>\n",
       "      <td>NaN</td>\n",
       "      <td>NaN</td>\n",
       "      <td>NaN</td>\n",
       "      <td>-529897.854605</td>\n",
       "      <td>-4.807563e+05</td>\n",
       "      <td>-8.547170e+04</td>\n",
       "      <td>NaN</td>\n",
       "      <td>NaN</td>\n",
       "      <td>NaN</td>\n",
       "    </tr>\n",
       "    <tr>\n",
       "      <th>2022-08</th>\n",
       "      <td>NaN</td>\n",
       "      <td>NaN</td>\n",
       "      <td>NaN</td>\n",
       "      <td>NaN</td>\n",
       "      <td>NaN</td>\n",
       "      <td>NaN</td>\n",
       "      <td>NaN</td>\n",
       "      <td>NaN</td>\n",
       "      <td>-1.211818e+06</td>\n",
       "      <td>-8.165337e+05</td>\n",
       "      <td>-7.310620e+05</td>\n",
       "      <td>NaN</td>\n",
       "      <td>NaN</td>\n",
       "    </tr>\n",
       "    <tr>\n",
       "      <th>2022-09</th>\n",
       "      <td>NaN</td>\n",
       "      <td>NaN</td>\n",
       "      <td>NaN</td>\n",
       "      <td>NaN</td>\n",
       "      <td>NaN</td>\n",
       "      <td>NaN</td>\n",
       "      <td>NaN</td>\n",
       "      <td>NaN</td>\n",
       "      <td>NaN</td>\n",
       "      <td>-1.996365e+06</td>\n",
       "      <td>-1.910893e+06</td>\n",
       "      <td>-1.179831e+06</td>\n",
       "      <td>NaN</td>\n",
       "    </tr>\n",
       "    <tr>\n",
       "      <th>2022-10</th>\n",
       "      <td>NaN</td>\n",
       "      <td>NaN</td>\n",
       "      <td>NaN</td>\n",
       "      <td>NaN</td>\n",
       "      <td>NaN</td>\n",
       "      <td>NaN</td>\n",
       "      <td>NaN</td>\n",
       "      <td>NaN</td>\n",
       "      <td>NaN</td>\n",
       "      <td>NaN</td>\n",
       "      <td>NaN</td>\n",
       "      <td>NaN</td>\n",
       "      <td>NaN</td>\n",
       "    </tr>\n",
       "    <tr>\n",
       "      <th>2022-11</th>\n",
       "      <td>NaN</td>\n",
       "      <td>NaN</td>\n",
       "      <td>NaN</td>\n",
       "      <td>NaN</td>\n",
       "      <td>NaN</td>\n",
       "      <td>NaN</td>\n",
       "      <td>NaN</td>\n",
       "      <td>NaN</td>\n",
       "      <td>NaN</td>\n",
       "      <td>NaN</td>\n",
       "      <td>NaN</td>\n",
       "      <td>NaN</td>\n",
       "      <td>NaN</td>\n",
       "    </tr>\n",
       "    <tr>\n",
       "      <th>2022-12</th>\n",
       "      <td>NaN</td>\n",
       "      <td>NaN</td>\n",
       "      <td>NaN</td>\n",
       "      <td>NaN</td>\n",
       "      <td>NaN</td>\n",
       "      <td>NaN</td>\n",
       "      <td>NaN</td>\n",
       "      <td>NaN</td>\n",
       "      <td>NaN</td>\n",
       "      <td>NaN</td>\n",
       "      <td>NaN</td>\n",
       "      <td>NaN</td>\n",
       "      <td>NaN</td>\n",
       "    </tr>\n",
       "  </tbody>\n",
       "</table>\n",
       "</div>"
      ],
      "text/plain": [
       "                  2021-09        2021-10        2021-11       2021-12  \\\n",
       "Forecasted                                                              \n",
       "2021-10    -115178.696827            NaN            NaN           NaN   \n",
       "2021-11      75066.646691  190245.343518            NaN           NaN   \n",
       "2021-12    -618861.590117 -503682.893290 -693928.236809           NaN   \n",
       "2022-01               NaN   90418.006235  -99827.337283  5.941009e+05   \n",
       "2022-02               NaN            NaN  -79612.146604  6.143161e+05   \n",
       "2022-03               NaN            NaN            NaN  1.084300e+06   \n",
       "2022-04               NaN            NaN            NaN           NaN   \n",
       "2022-05               NaN            NaN            NaN           NaN   \n",
       "2022-06               NaN            NaN            NaN           NaN   \n",
       "2022-07               NaN            NaN            NaN           NaN   \n",
       "2022-08               NaN            NaN            NaN           NaN   \n",
       "2022-09               NaN            NaN            NaN           NaN   \n",
       "2022-10               NaN            NaN            NaN           NaN   \n",
       "2022-11               NaN            NaN            NaN           NaN   \n",
       "2022-12               NaN            NaN            NaN           NaN   \n",
       "\n",
       "                  2022-01        2022-02        2022-03        2022-04  \\\n",
       "Forecasted                                                               \n",
       "2021-10               NaN            NaN            NaN            NaN   \n",
       "2021-11               NaN            NaN            NaN            NaN   \n",
       "2021-12               NaN            NaN            NaN            NaN   \n",
       "2022-01               NaN            NaN            NaN            NaN   \n",
       "2022-02      20215.190679            NaN            NaN            NaN   \n",
       "2022-03     490198.667174  469983.476495            NaN            NaN   \n",
       "2022-04     414390.010806  394174.820127  -75808.656368            NaN   \n",
       "2022-05               NaN  345033.248343 -124950.228152  -49141.571784   \n",
       "2022-06               NaN            NaN -520234.806216 -444426.149848   \n",
       "2022-07               NaN            NaN            NaN -529897.854605   \n",
       "2022-08               NaN            NaN            NaN            NaN   \n",
       "2022-09               NaN            NaN            NaN            NaN   \n",
       "2022-10               NaN            NaN            NaN            NaN   \n",
       "2022-11               NaN            NaN            NaN            NaN   \n",
       "2022-12               NaN            NaN            NaN            NaN   \n",
       "\n",
       "                 2022-05       2022-06       2022-07       2022-08  2022-09  \n",
       "Forecasted                                                                   \n",
       "2021-10              NaN           NaN           NaN           NaN      NaN  \n",
       "2021-11              NaN           NaN           NaN           NaN      NaN  \n",
       "2021-12              NaN           NaN           NaN           NaN      NaN  \n",
       "2022-01              NaN           NaN           NaN           NaN      NaN  \n",
       "2022-02              NaN           NaN           NaN           NaN      NaN  \n",
       "2022-03              NaN           NaN           NaN           NaN      NaN  \n",
       "2022-04              NaN           NaN           NaN           NaN      NaN  \n",
       "2022-05              NaN           NaN           NaN           NaN      NaN  \n",
       "2022-06    -3.952846e+05           NaN           NaN           NaN      NaN  \n",
       "2022-07    -4.807563e+05 -8.547170e+04           NaN           NaN      NaN  \n",
       "2022-08    -1.211818e+06 -8.165337e+05 -7.310620e+05           NaN      NaN  \n",
       "2022-09              NaN -1.996365e+06 -1.910893e+06 -1.179831e+06      NaN  \n",
       "2022-10              NaN           NaN           NaN           NaN      NaN  \n",
       "2022-11              NaN           NaN           NaN           NaN      NaN  \n",
       "2022-12              NaN           NaN           NaN           NaN      NaN  "
      ]
     },
     "execution_count": 113,
     "metadata": {},
     "output_type": "execute_result"
    }
   ],
   "source": [
    "# Setup forecasts\n",
    "#Faremos previsões considerando 3 passos\n",
    "nforecasts = 3\n",
    "forecasts = {}\n",
    "\n",
    "#Escolheremos o treino inicial como 80% dos dados\n",
    "nobs = len(y)\n",
    "n_init_training = int(nobs * 0.8)\n",
    "training_y = y.iloc[:n_init_training]\n",
    "\n",
    "#1) Fitar um modelo em uma amostra para treino.\n",
    "mod = sm.tsa.statespace.SARIMAX(training_y,order = (0, 1, 0),seasonal_order=(1, 1, 0, 12))\n",
    "res = mod.fit(\n",
    "    \n",
    "#2) Efetuar a previsão para n passos escolhidos\n",
    "forecasts[training_y.index[-1]] = res.forecast(steps=nforecasts)\n",
    "\n",
    "# Repete para toda a amostra\n",
    "for t in range(n_init_training, nobs):\n",
    "    #3) Expandir a amostra para incluir o próximo observável.\n",
    "    updated_y = y.iloc[t:t+1]\n",
    "    res = res.append(updated_y, refit=False)\n",
    "    #Salvando o conjunto de previsões\n",
    "    forecasts[updated_y.index[0]] = res.forecast(steps=nforecasts)\n",
    "# Combinando as previsões em um dataframe\n",
    "forecasts = pd.concat(forecasts, axis=1)\n",
    "\n",
    "# 4) Calcular os erros das previsões, erros relativos aos valores verdadeiros do dataset.\n",
    "forecast_errors = forecasts.apply(lambda column: y - column).reindex(forecasts.index)\n",
    "forecast_errors.index=forecast_errors.index.rename('Forecasted')\n",
    "forecast_errors\n"
   ]
  },
  {
   "cell_type": "code",
   "execution_count": 114,
   "metadata": {
    "scrolled": true
   },
   "outputs": [
    {
     "data": {
      "text/html": [
       "<div>\n",
       "<style scoped>\n",
       "    .dataframe tbody tr th:only-of-type {\n",
       "        vertical-align: middle;\n",
       "    }\n",
       "\n",
       "    .dataframe tbody tr th {\n",
       "        vertical-align: top;\n",
       "    }\n",
       "\n",
       "    .dataframe thead th {\n",
       "        text-align: right;\n",
       "    }\n",
       "</style>\n",
       "<table border=\"1\" class=\"dataframe\">\n",
       "  <thead>\n",
       "    <tr style=\"text-align: right;\">\n",
       "      <th></th>\n",
       "      <th>2021-09</th>\n",
       "      <th>2021-10</th>\n",
       "      <th>2021-11</th>\n",
       "      <th>2021-12</th>\n",
       "      <th>2022-01</th>\n",
       "      <th>2022-02</th>\n",
       "      <th>2022-03</th>\n",
       "      <th>2022-04</th>\n",
       "      <th>2022-05</th>\n",
       "      <th>2022-06</th>\n",
       "      <th>2022-07</th>\n",
       "      <th>2022-08</th>\n",
       "      <th>2022-09</th>\n",
       "    </tr>\n",
       "    <tr>\n",
       "      <th>horizonte</th>\n",
       "      <th></th>\n",
       "      <th></th>\n",
       "      <th></th>\n",
       "      <th></th>\n",
       "      <th></th>\n",
       "      <th></th>\n",
       "      <th></th>\n",
       "      <th></th>\n",
       "      <th></th>\n",
       "      <th></th>\n",
       "      <th></th>\n",
       "      <th></th>\n",
       "      <th></th>\n",
       "    </tr>\n",
       "  </thead>\n",
       "  <tbody>\n",
       "    <tr>\n",
       "      <th>1</th>\n",
       "      <td>-115178.696827</td>\n",
       "      <td>190245.343518</td>\n",
       "      <td>-693928.236809</td>\n",
       "      <td>5.941009e+05</td>\n",
       "      <td>20215.190679</td>\n",
       "      <td>469983.476495</td>\n",
       "      <td>-75808.656368</td>\n",
       "      <td>-49141.571784</td>\n",
       "      <td>-3.952846e+05</td>\n",
       "      <td>-8.547170e+04</td>\n",
       "      <td>-7.310620e+05</td>\n",
       "      <td>-1.179831e+06</td>\n",
       "      <td>NaN</td>\n",
       "    </tr>\n",
       "    <tr>\n",
       "      <th>2</th>\n",
       "      <td>75066.646691</td>\n",
       "      <td>-503682.893290</td>\n",
       "      <td>-99827.337283</td>\n",
       "      <td>6.143161e+05</td>\n",
       "      <td>490198.667174</td>\n",
       "      <td>394174.820127</td>\n",
       "      <td>-124950.228152</td>\n",
       "      <td>-444426.149848</td>\n",
       "      <td>-4.807563e+05</td>\n",
       "      <td>-8.165337e+05</td>\n",
       "      <td>-1.910893e+06</td>\n",
       "      <td>NaN</td>\n",
       "      <td>NaN</td>\n",
       "    </tr>\n",
       "    <tr>\n",
       "      <th>3</th>\n",
       "      <td>-618861.590117</td>\n",
       "      <td>90418.006235</td>\n",
       "      <td>-79612.146604</td>\n",
       "      <td>1.084300e+06</td>\n",
       "      <td>414390.010806</td>\n",
       "      <td>345033.248343</td>\n",
       "      <td>-520234.806216</td>\n",
       "      <td>-529897.854605</td>\n",
       "      <td>-1.211818e+06</td>\n",
       "      <td>-1.996365e+06</td>\n",
       "      <td>NaN</td>\n",
       "      <td>NaN</td>\n",
       "      <td>NaN</td>\n",
       "    </tr>\n",
       "  </tbody>\n",
       "</table>\n",
       "</div>"
      ],
      "text/plain": [
       "                 2021-09        2021-10        2021-11       2021-12  \\\n",
       "horizonte                                                              \n",
       "1         -115178.696827  190245.343518 -693928.236809  5.941009e+05   \n",
       "2           75066.646691 -503682.893290  -99827.337283  6.143161e+05   \n",
       "3         -618861.590117   90418.006235  -79612.146604  1.084300e+06   \n",
       "\n",
       "                 2022-01        2022-02        2022-03        2022-04  \\\n",
       "horizonte                                                               \n",
       "1           20215.190679  469983.476495  -75808.656368  -49141.571784   \n",
       "2          490198.667174  394174.820127 -124950.228152 -444426.149848   \n",
       "3          414390.010806  345033.248343 -520234.806216 -529897.854605   \n",
       "\n",
       "                2022-05       2022-06       2022-07       2022-08  2022-09  \n",
       "horizonte                                                                   \n",
       "1         -3.952846e+05 -8.547170e+04 -7.310620e+05 -1.179831e+06      NaN  \n",
       "2         -4.807563e+05 -8.165337e+05 -1.910893e+06           NaN      NaN  \n",
       "3         -1.211818e+06 -1.996365e+06           NaN           NaN      NaN  "
      ]
     },
     "execution_count": 114,
     "metadata": {},
     "output_type": "execute_result"
    }
   ],
   "source": [
    "# Mudando os indíces de forecasted para horizonte, de modo que para cada data, mostraremos apenas \n",
    "#os 3 valores previstos\n",
    "def flatten(column):\n",
    "    return column.dropna().reset_index(drop=True)\n",
    "\n",
    "flattened = forecast_errors.apply(flatten)\n",
    "flattened.index = (flattened.index + 1).rename('horizonte')\n",
    "\n",
    "df_flattened=pd.DataFrame(flattened)\n",
    "flattened"
   ]
  },
  {
   "cell_type": "code",
   "execution_count": 115,
   "metadata": {},
   "outputs": [
    {
     "data": {
      "text/html": [
       "<div>\n",
       "<style scoped>\n",
       "    .dataframe tbody tr th:only-of-type {\n",
       "        vertical-align: middle;\n",
       "    }\n",
       "\n",
       "    .dataframe tbody tr th {\n",
       "        vertical-align: top;\n",
       "    }\n",
       "\n",
       "    .dataframe thead th {\n",
       "        text-align: right;\n",
       "    }\n",
       "</style>\n",
       "<table border=\"1\" class=\"dataframe\">\n",
       "  <thead>\n",
       "    <tr style=\"text-align: right;\">\n",
       "      <th></th>\n",
       "      <th>0</th>\n",
       "    </tr>\n",
       "    <tr>\n",
       "      <th>horizonte</th>\n",
       "      <th></th>\n",
       "    </tr>\n",
       "  </thead>\n",
       "  <tbody>\n",
       "    <tr>\n",
       "      <th>1</th>\n",
       "      <td>516673.244640</td>\n",
       "    </tr>\n",
       "    <tr>\n",
       "      <th>2</th>\n",
       "      <td>726438.565048</td>\n",
       "    </tr>\n",
       "    <tr>\n",
       "      <th>3</th>\n",
       "      <td>887095.672803</td>\n",
       "    </tr>\n",
       "  </tbody>\n",
       "</table>\n",
       "</div>"
      ],
      "text/plain": [
       "                       0\n",
       "horizonte               \n",
       "1          516673.244640\n",
       "2          726438.565048\n",
       "3          887095.672803"
      ]
     },
     "execution_count": 115,
     "metadata": {},
     "output_type": "execute_result"
    }
   ],
   "source": [
    "#Calculando o rms do erro, ou seja, o rmse\n",
    "rmse = (flattened**2).mean(axis=1)**0.5\n",
    "df_rmse=pd.DataFrame(rmse)\n",
    "df_rmse"
   ]
  },
  {
   "cell_type": "code",
   "execution_count": 116,
   "metadata": {},
   "outputs": [
    {
     "data": {
      "text/plain": [
       "710069.160830543"
      ]
     },
     "execution_count": 116,
     "metadata": {},
     "output_type": "execute_result"
    }
   ],
   "source": [
    "rmse.mean()"
   ]
  },
  {
   "cell_type": "markdown",
   "metadata": {},
   "source": [
    "Com isso temos que a média do rms dos erros, dados pelo cross validation calculado, foi de aproximadamente 0.7 milhões de reais. O que nos ajuda como uma estimativa dos erros do nosso modelo."
   ]
  }
 ],
 "metadata": {
  "kernelspec": {
   "display_name": "Python 3",
   "language": "python",
   "name": "python3"
  },
  "language_info": {
   "codemirror_mode": {
    "name": "ipython",
    "version": 3
   },
   "file_extension": ".py",
   "mimetype": "text/x-python",
   "name": "python",
   "nbconvert_exporter": "python",
   "pygments_lexer": "ipython3",
   "version": "3.8.5"
  }
 },
 "nbformat": 4,
 "nbformat_minor": 4
}
