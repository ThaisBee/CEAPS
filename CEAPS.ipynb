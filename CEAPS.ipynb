{
 "cells": [
  {
   "cell_type": "markdown",
   "metadata": {},
   "source": [
    "# DATA SCIENCE USANDO DADOS DO CEAPS  \n",
    "\n",
    "Neste trabalho usaremos um dataset coletado do portal do CEAPS (Cota para Exercício da Atividade Parlamentar dos Senadores). Nesse dataset temos informações a respeito dos gastos declarados dos senadores. O objetivo deste tralho é limpar e tratar os dados para, por fim, realizar análises que podem ser úteis para avaliar o gasto dos senadores.\n",
    "\n",
    "1. Lendo o dataset e concatenado em um único Data Frame\n",
    "2. Explorando o DATASET\n",
    "3. DATA Cleaning\n",
    "    - Limpando a coluna COD_DOCUMENTO\n",
    "    - Limpando a coluna DATA\n",
    "    - Limpando a coluna VALOR_REEMBOLSADO\n",
    "    - Transformando a coluna DOCUMENTO em dados booleanos\n",
    "    - Convertendo variáveis categóricas em variáveis dummies da coluna TIPO_DESPESA\n",
    "    - Removendo as colunas que não participarão da análise dos dados\n",
    "\n",
    "    \n"
   ]
  },
  {
   "cell_type": "markdown",
   "metadata": {},
   "source": [
    "## 1. Lendo o dataset e concatenado em um único Data Frame"
   ]
  },
  {
   "cell_type": "code",
   "execution_count": 1,
   "metadata": {},
   "outputs": [],
   "source": [
    "import pandas as pd\n",
    "import warnings\n",
    "warnings.filterwarnings('ignore')"
   ]
  },
  {
   "cell_type": "markdown",
   "metadata": {},
   "source": [
    "Como o arquivo não abriu imediatamente com o método `read_csv` do pandas, de modo que houve um erro dizendo que o arquivo não poderia ser decodificado, então há a necessidade de determinar o  encoding do arquivo. Para isso, importaremos o `chardet.detect` e prosseguiremos da seguinte maneira:"
   ]
  },
  {
   "cell_type": "code",
   "execution_count": 2,
   "metadata": {},
   "outputs": [
    {
     "data": {
      "text/plain": [
       "{'encoding': 'ISO-8859-1', 'confidence': 0.73, 'language': ''}"
      ]
     },
     "execution_count": 2,
     "metadata": {},
     "output_type": "execute_result"
    }
   ],
   "source": [
    "import chardet\n",
    "with open('dados/despesa_ceaps_2019.csv', 'rb') as rawdata:\n",
    "    result = chardet.detect(rawdata.read(100000))\n",
    "result"
   ]
  },
  {
   "cell_type": "markdown",
   "metadata": {},
   "source": [
    "Agora que sabemos o provável encoding dos dados, isto é, `ISO-8859-1`, vamos usar essa informação no método `read_csv()` do pandas e verificar se todos os arquivos do dataset serão lidos.\n",
    "\n",
    "Quando estamos trabalhando com dados 'crus' ou RAW data, temos que estar atentos para células que estão preenchidas com valores NaN, ou seja, valores não numéricos que não agregam para a análise posterior dos dados. Para isso usaremos o método `isna()` do pandas, somando todos os números para facilitar a compreensão. Além disso, calcularemos a porcentagem de valores NaN por ano para cada uma das colunas.\n"
   ]
  },
  {
   "cell_type": "code",
   "execution_count": 3,
   "metadata": {},
   "outputs": [],
   "source": [
    "df_list=[]\n",
    "isna_by_year=[]\n",
    "anos = range(2008,2023)\n",
    "for ano in anos:\n",
    "    path='dados/despesa_ceaps_'+str(ano)+'.csv'\n",
    "    df = pd.read_csv(path,sep=\";\",skiprows=1,encoding='ISO-8859-1')\n",
    "    df_list.append(df)\n",
    "    isna_by_year.append(df.isna().sum().values/df.shape[0])\n"
   ]
  },
  {
   "cell_type": "markdown",
   "metadata": {},
   "source": [
    "Após criar um dataframe para que arquivo csv, vamos concatenar todos eles em um único data frame."
   ]
  },
  {
   "cell_type": "code",
   "execution_count": 4,
   "metadata": {
    "scrolled": false
   },
   "outputs": [],
   "source": [
    "df = pd.concat(df_list, ignore_index=True)"
   ]
  },
  {
   "cell_type": "markdown",
   "metadata": {},
   "source": [
    "## 2. Explorando o DATASET"
   ]
  },
  {
   "cell_type": "markdown",
   "metadata": {},
   "source": [
    "Agora que temos todo o dataset podemos fazer uma análise exploratória dos dados."
   ]
  },
  {
   "cell_type": "code",
   "execution_count": 5,
   "metadata": {},
   "outputs": [
    {
     "data": {
      "text/html": [
       "<div>\n",
       "<style scoped>\n",
       "    .dataframe tbody tr th:only-of-type {\n",
       "        vertical-align: middle;\n",
       "    }\n",
       "\n",
       "    .dataframe tbody tr th {\n",
       "        vertical-align: top;\n",
       "    }\n",
       "\n",
       "    .dataframe thead th {\n",
       "        text-align: right;\n",
       "    }\n",
       "</style>\n",
       "<table border=\"1\" class=\"dataframe\">\n",
       "  <thead>\n",
       "    <tr style=\"text-align: right;\">\n",
       "      <th></th>\n",
       "      <th>ANO</th>\n",
       "      <th>MES</th>\n",
       "      <th>SENADOR</th>\n",
       "      <th>TIPO_DESPESA</th>\n",
       "      <th>CNPJ_CPF</th>\n",
       "      <th>FORNECEDOR</th>\n",
       "      <th>DOCUMENTO</th>\n",
       "      <th>DATA</th>\n",
       "      <th>DETALHAMENTO</th>\n",
       "      <th>VALOR_REEMBOLSADO</th>\n",
       "      <th>COD_DOCUMENTO</th>\n",
       "    </tr>\n",
       "  </thead>\n",
       "  <tbody>\n",
       "    <tr>\n",
       "      <th>312592</th>\n",
       "      <td>2022</td>\n",
       "      <td>8</td>\n",
       "      <td>ZEQUINHA MARINHO</td>\n",
       "      <td>Aluguel de imóveis para escritório político, c...</td>\n",
       "      <td>04.895.728/0001-80</td>\n",
       "      <td>EQUATORIAL ENERGIA</td>\n",
       "      <td>018516578</td>\n",
       "      <td>08/08/2022</td>\n",
       "      <td>NaN</td>\n",
       "      <td>292,59</td>\n",
       "      <td>2186788.0</td>\n",
       "    </tr>\n",
       "    <tr>\n",
       "      <th>312593</th>\n",
       "      <td>2022</td>\n",
       "      <td>8</td>\n",
       "      <td>ZEQUINHA MARINHO</td>\n",
       "      <td>Aluguel de imóveis para escritório político, c...</td>\n",
       "      <td>04.895.728/0001-80</td>\n",
       "      <td>EQUATORIAL ENERGIA</td>\n",
       "      <td>0202208018625090</td>\n",
       "      <td>08/08/2022</td>\n",
       "      <td>NaN</td>\n",
       "      <td>553,33</td>\n",
       "      <td>2186787.0</td>\n",
       "    </tr>\n",
       "    <tr>\n",
       "      <th>312594</th>\n",
       "      <td>2022</td>\n",
       "      <td>8</td>\n",
       "      <td>ZEQUINHA MARINHO</td>\n",
       "      <td>Locomoção, hospedagem, alimentação, combustíve...</td>\n",
       "      <td>27.522.923/0001-60</td>\n",
       "      <td>Casarao da Vila Restaurante LTDA - ME</td>\n",
       "      <td>000127032</td>\n",
       "      <td>03/08/2022</td>\n",
       "      <td>NaN</td>\n",
       "      <td>26,57</td>\n",
       "      <td>2184892.0</td>\n",
       "    </tr>\n",
       "    <tr>\n",
       "      <th>312595</th>\n",
       "      <td>2022</td>\n",
       "      <td>8</td>\n",
       "      <td>ZEQUINHA MARINHO</td>\n",
       "      <td>Passagens aéreas, aquáticas e terrestres nacio...</td>\n",
       "      <td>22.052.777/0001-32</td>\n",
       "      <td>Exceller Tour</td>\n",
       "      <td>FLXNAO</td>\n",
       "      <td>02/08/2022</td>\n",
       "      <td>Companhia Aérea: GOL, Localizador: FLXNAO. Pas...</td>\n",
       "      <td>3140,46</td>\n",
       "      <td>2185426.0</td>\n",
       "    </tr>\n",
       "    <tr>\n",
       "      <th>312596</th>\n",
       "      <td>2022</td>\n",
       "      <td>8</td>\n",
       "      <td>ZEQUINHA MARINHO</td>\n",
       "      <td>Passagens aéreas, aquáticas e terrestres nacio...</td>\n",
       "      <td>22.052.777/0001-32</td>\n",
       "      <td>Exceller Tour</td>\n",
       "      <td>TKR98A</td>\n",
       "      <td>07/08/2022</td>\n",
       "      <td>Companhia Aérea: AZUL, Localizador: TKR98A. Pa...</td>\n",
       "      <td>2850,9</td>\n",
       "      <td>2185429.0</td>\n",
       "    </tr>\n",
       "  </tbody>\n",
       "</table>\n",
       "</div>"
      ],
      "text/plain": [
       "         ANO  MES           SENADOR  \\\n",
       "312592  2022    8  ZEQUINHA MARINHO   \n",
       "312593  2022    8  ZEQUINHA MARINHO   \n",
       "312594  2022    8  ZEQUINHA MARINHO   \n",
       "312595  2022    8  ZEQUINHA MARINHO   \n",
       "312596  2022    8  ZEQUINHA MARINHO   \n",
       "\n",
       "                                             TIPO_DESPESA            CNPJ_CPF  \\\n",
       "312592  Aluguel de imóveis para escritório político, c...  04.895.728/0001-80   \n",
       "312593  Aluguel de imóveis para escritório político, c...  04.895.728/0001-80   \n",
       "312594  Locomoção, hospedagem, alimentação, combustíve...  27.522.923/0001-60   \n",
       "312595  Passagens aéreas, aquáticas e terrestres nacio...  22.052.777/0001-32   \n",
       "312596  Passagens aéreas, aquáticas e terrestres nacio...  22.052.777/0001-32   \n",
       "\n",
       "                                   FORNECEDOR         DOCUMENTO        DATA  \\\n",
       "312592                     EQUATORIAL ENERGIA         018516578  08/08/2022   \n",
       "312593                     EQUATORIAL ENERGIA  0202208018625090  08/08/2022   \n",
       "312594  Casarao da Vila Restaurante LTDA - ME         000127032  03/08/2022   \n",
       "312595                          Exceller Tour            FLXNAO  02/08/2022   \n",
       "312596                          Exceller Tour            TKR98A  07/08/2022   \n",
       "\n",
       "                                             DETALHAMENTO VALOR_REEMBOLSADO  \\\n",
       "312592                                                NaN            292,59   \n",
       "312593                                                NaN            553,33   \n",
       "312594                                                NaN             26,57   \n",
       "312595  Companhia Aérea: GOL, Localizador: FLXNAO. Pas...           3140,46   \n",
       "312596  Companhia Aérea: AZUL, Localizador: TKR98A. Pa...            2850,9   \n",
       "\n",
       "        COD_DOCUMENTO  \n",
       "312592      2186788.0  \n",
       "312593      2186787.0  \n",
       "312594      2184892.0  \n",
       "312595      2185426.0  \n",
       "312596      2185429.0  "
      ]
     },
     "execution_count": 5,
     "metadata": {},
     "output_type": "execute_result"
    }
   ],
   "source": [
    "df.tail()"
   ]
  },
  {
   "cell_type": "code",
   "execution_count": 6,
   "metadata": {
    "scrolled": false
   },
   "outputs": [
    {
     "name": "stdout",
     "output_type": "stream",
     "text": [
      "O dataframe df possui 312597 linhas e 11 colunas\n"
     ]
    }
   ],
   "source": [
    "print('O dataframe df possui %d linhas e %d colunas'%(df.shape[0],df.shape[1]))"
   ]
  },
  {
   "cell_type": "markdown",
   "metadata": {},
   "source": [
    "Conseguimos informações interessantes com o método `info()` do DataFrame, como, por exemplo, o Data type e a quantidados de valores não nulos."
   ]
  },
  {
   "cell_type": "code",
   "execution_count": 7,
   "metadata": {
    "scrolled": false
   },
   "outputs": [
    {
     "name": "stdout",
     "output_type": "stream",
     "text": [
      "<class 'pandas.core.frame.DataFrame'>\n",
      "RangeIndex: 312597 entries, 0 to 312596\n",
      "Data columns (total 11 columns):\n",
      " #   Column             Non-Null Count   Dtype  \n",
      "---  ------             --------------   -----  \n",
      " 0   ANO                312597 non-null  int64  \n",
      " 1   MES                312597 non-null  int64  \n",
      " 2   SENADOR            312597 non-null  object \n",
      " 3   TIPO_DESPESA       312597 non-null  object \n",
      " 4   CNPJ_CPF           309453 non-null  object \n",
      " 5   FORNECEDOR         309453 non-null  object \n",
      " 6   DOCUMENTO          288099 non-null  object \n",
      " 7   DATA               309453 non-null  object \n",
      " 8   DETALHAMENTO       177658 non-null  object \n",
      " 9   VALOR_REEMBOLSADO  312597 non-null  object \n",
      " 10  COD_DOCUMENTO      312595 non-null  float64\n",
      "dtypes: float64(1), int64(2), object(8)\n",
      "memory usage: 26.2+ MB\n"
     ]
    }
   ],
   "source": [
    "df.info()"
   ]
  },
  {
   "cell_type": "markdown",
   "metadata": {},
   "source": [
    "Verificando se há valores NaN"
   ]
  },
  {
   "cell_type": "code",
   "execution_count": 8,
   "metadata": {
    "scrolled": true
   },
   "outputs": [
    {
     "data": {
      "text/plain": [
       "ANO                       0\n",
       "MES                       0\n",
       "SENADOR                   0\n",
       "TIPO_DESPESA              0\n",
       "CNPJ_CPF               3144\n",
       "FORNECEDOR             3144\n",
       "DOCUMENTO             24498\n",
       "DATA                   3144\n",
       "DETALHAMENTO         134939\n",
       "VALOR_REEMBOLSADO         0\n",
       "COD_DOCUMENTO             2\n",
       "dtype: int64"
      ]
     },
     "execution_count": 8,
     "metadata": {},
     "output_type": "execute_result"
    }
   ],
   "source": [
    "df.isna().sum()"
   ]
  },
  {
   "cell_type": "markdown",
   "metadata": {},
   "source": [
    "Verificando se há valores Null"
   ]
  },
  {
   "cell_type": "code",
   "execution_count": 9,
   "metadata": {
    "scrolled": false
   },
   "outputs": [
    {
     "data": {
      "text/plain": [
       "ANO                       0\n",
       "MES                       0\n",
       "SENADOR                   0\n",
       "TIPO_DESPESA              0\n",
       "CNPJ_CPF               3144\n",
       "FORNECEDOR             3144\n",
       "DOCUMENTO             24498\n",
       "DATA                   3144\n",
       "DETALHAMENTO         134939\n",
       "VALOR_REEMBOLSADO         0\n",
       "COD_DOCUMENTO             2\n",
       "dtype: int64"
      ]
     },
     "execution_count": 9,
     "metadata": {},
     "output_type": "execute_result"
    }
   ],
   "source": [
    "df.isnull().sum()"
   ]
  },
  {
   "cell_type": "markdown",
   "metadata": {},
   "source": [
    "Agora vamos sesparar uma lista com as colunas que apresentam células com valores não numéricos"
   ]
  },
  {
   "cell_type": "code",
   "execution_count": 10,
   "metadata": {},
   "outputs": [],
   "source": [
    "missing_data_columns=['DETALHAMENTO','CNPJ_CPF','DOCUMENTO','DATA','COD_DOCUMENTO','FORNECEDOR']"
   ]
  },
  {
   "cell_type": "markdown",
   "metadata": {},
   "source": [
    "Fração de dados NaN para cada coluna e para cada ano"
   ]
  },
  {
   "cell_type": "code",
   "execution_count": 11,
   "metadata": {
    "scrolled": true
   },
   "outputs": [
    {
     "data": {
      "text/html": [
       "<div>\n",
       "<style scoped>\n",
       "    .dataframe tbody tr th:only-of-type {\n",
       "        vertical-align: middle;\n",
       "    }\n",
       "\n",
       "    .dataframe tbody tr th {\n",
       "        vertical-align: top;\n",
       "    }\n",
       "\n",
       "    .dataframe thead th {\n",
       "        text-align: right;\n",
       "    }\n",
       "</style>\n",
       "<table border=\"1\" class=\"dataframe\">\n",
       "  <thead>\n",
       "    <tr style=\"text-align: right;\">\n",
       "      <th></th>\n",
       "      <th>ANOS</th>\n",
       "      <th>DETALHAMENTO</th>\n",
       "      <th>CNPJ_CPF</th>\n",
       "      <th>DOCUMENTO</th>\n",
       "      <th>DATA</th>\n",
       "      <th>COD_DOCUMENTO</th>\n",
       "      <th>FORNECEDOR</th>\n",
       "    </tr>\n",
       "  </thead>\n",
       "  <tbody>\n",
       "    <tr>\n",
       "      <th>13</th>\n",
       "      <td>2021</td>\n",
       "      <td>0.453200</td>\n",
       "      <td>0.0</td>\n",
       "      <td>0.040114</td>\n",
       "      <td>0.0</td>\n",
       "      <td>0.0</td>\n",
       "      <td>0.0</td>\n",
       "    </tr>\n",
       "    <tr>\n",
       "      <th>14</th>\n",
       "      <td>2022</td>\n",
       "      <td>0.466626</td>\n",
       "      <td>0.0</td>\n",
       "      <td>0.054485</td>\n",
       "      <td>0.0</td>\n",
       "      <td>0.0</td>\n",
       "      <td>0.0</td>\n",
       "    </tr>\n",
       "  </tbody>\n",
       "</table>\n",
       "</div>"
      ],
      "text/plain": [
       "    ANOS  DETALHAMENTO  CNPJ_CPF  DOCUMENTO  DATA  COD_DOCUMENTO  FORNECEDOR\n",
       "13  2021      0.453200       0.0   0.040114   0.0            0.0         0.0\n",
       "14  2022      0.466626       0.0   0.054485   0.0            0.0         0.0"
      ]
     },
     "execution_count": 11,
     "metadata": {},
     "output_type": "execute_result"
    }
   ],
   "source": [
    "df_na=pd.DataFrame(isna_by_year, columns=df.columns)\n",
    "df_na=df_na[missing_data_columns]\n",
    "df_na.insert(0,'ANOS',anos)\n",
    "df_na.tail(2)"
   ]
  },
  {
   "cell_type": "markdown",
   "metadata": {},
   "source": [
    "## 3. DATA Cleaning"
   ]
  },
  {
   "cell_type": "markdown",
   "metadata": {},
   "source": [
    "### Limpando a coluna COD_DOCUMENTO\n",
    "\n",
    "Na sessão Explorando o Data set vimos que a coluna COD_DOCUMENTO apresentou problemas em apenas duas linhas."
   ]
  },
  {
   "cell_type": "code",
   "execution_count": 12,
   "metadata": {},
   "outputs": [],
   "source": [
    "df_tratado=df.copy()"
   ]
  },
  {
   "cell_type": "code",
   "execution_count": 13,
   "metadata": {
    "scrolled": false
   },
   "outputs": [
    {
     "name": "stdout",
     "output_type": "stream",
     "text": [
      "ANO                                                               2015\n",
      "MES                                                                  8\n",
      "SENADOR                                                 EDUARDO AMORIM\n",
      "TIPO_DESPESA         Passagens aéreas, aquáticas e terrestres nacio...\n",
      "CNPJ_CPF                                            13.353.495/0001-84\n",
      "FORNECEDOR                             PROPAGTUR - Propag Turismo Ltda\n",
      "DOCUMENTO                                      SEM FATURA\";02/08/2015\"\n",
      "DATA                 Companhia Aérea: TAM, Localizador: YXGDSJ. Pas...\n",
      "DETALHAMENTO                                                    469,53\n",
      "VALOR_REEMBOLSADO                                              2014675\n",
      "COD_DOCUMENTO                                                      NaN\n",
      "Name: 150213, dtype: object\n",
      "\n",
      "\n",
      "ANO                                                               2015\n",
      "MES                                                                  8\n",
      "SENADOR                                                 EDUARDO AMORIM\n",
      "TIPO_DESPESA         Passagens aéreas, aquáticas e terrestres nacio...\n",
      "CNPJ_CPF                                            13.353.495/0001-84\n",
      "FORNECEDOR                             PROPAGTUR - Propag Turismo Ltda\n",
      "DOCUMENTO                                    ¨¨SEM FATURA\";17/08/2015\"\n",
      "DATA                 Companhia Aérea: AVIANCA, Localizador: ZNEU9F....\n",
      "DETALHAMENTO                                                    460,45\n",
      "VALOR_REEMBOLSADO                                              2016557\n",
      "COD_DOCUMENTO                                                      NaN\n",
      "Name: 150220, dtype: object\n",
      "\n",
      "\n"
     ]
    }
   ],
   "source": [
    "import numpy as np \n",
    "na_index_list=np.where(df['COD_DOCUMENTO'].isna())[0]\n",
    "for i in na_index_list:\n",
    "    print(df.loc[i])\n",
    "    print('\\n')"
   ]
  },
  {
   "cell_type": "markdown",
   "metadata": {},
   "source": [
    "Isso mostra que, para 2 valores do dataframe, não houve separação em colunas considerando o ';'."
   ]
  },
  {
   "cell_type": "code",
   "execution_count": 14,
   "metadata": {},
   "outputs": [],
   "source": [
    "for i in na_index_list:\n",
    "    documento,data=df['DOCUMENTO'].loc[i].split(';')\n",
    "    documento=documento.replace('\\\"','')\n",
    "    data=data.replace('\\\"','')\n",
    "\n",
    "    df_tratado['DOCUMENTO'].loc[i]=documento\n",
    "    df_tratado['DATA'].loc[i]=data\n",
    "    df_tratado['DETALHAMENTO'].loc[i]=df['DATA'].loc[i]\n",
    "    df_tratado['VALOR_REEMBOLSADO'].loc[i]=df['DETALHAMENTO'].loc[i]\n",
    "    df_tratado['COD_DOCUMENTO'].loc[i]=df['VALOR_REEMBOLSADO'].loc[i]"
   ]
  },
  {
   "cell_type": "code",
   "execution_count": 15,
   "metadata": {},
   "outputs": [
    {
     "data": {
      "text/plain": [
       "ANO                                                               2015\n",
       "MES                                                                  8\n",
       "SENADOR                                                 EDUARDO AMORIM\n",
       "TIPO_DESPESA         Passagens aéreas, aquáticas e terrestres nacio...\n",
       "CNPJ_CPF                                            13.353.495/0001-84\n",
       "FORNECEDOR                             PROPAGTUR - Propag Turismo Ltda\n",
       "DOCUMENTO                                                 ¨¨SEM FATURA\n",
       "DATA                                                        17/08/2015\n",
       "DETALHAMENTO         Companhia Aérea: AVIANCA, Localizador: ZNEU9F....\n",
       "VALOR_REEMBOLSADO                                               460,45\n",
       "COD_DOCUMENTO                                                  2016557\n",
       "Name: 150220, dtype: object"
      ]
     },
     "execution_count": 15,
     "metadata": {},
     "output_type": "execute_result"
    }
   ],
   "source": [
    "df_tratado.loc[na_index_list[1]]"
   ]
  },
  {
   "cell_type": "code",
   "execution_count": 16,
   "metadata": {},
   "outputs": [
    {
     "name": "stdout",
     "output_type": "stream",
     "text": [
      "ANO                                                               2015\n",
      "MES                                                                  8\n",
      "SENADOR                                                 EDUARDO AMORIM\n",
      "TIPO_DESPESA         Passagens aéreas, aquáticas e terrestres nacio...\n",
      "CNPJ_CPF                                            13.353.495/0001-84\n",
      "FORNECEDOR                             PROPAGTUR - Propag Turismo Ltda\n",
      "DOCUMENTO                                                 ¨¨SEM FATURA\n",
      "DATA                                                        17/08/2015\n",
      "DETALHAMENTO         Companhia Aérea: AVIANCA, Localizador: ZNEU9F....\n",
      "VALOR_REEMBOLSADO                                               460,45\n",
      "COD_DOCUMENTO                                                  2016557\n",
      "Name: 150220, dtype: object\n"
     ]
    }
   ],
   "source": [
    "i=1\n",
    "print(df_tratado.loc[na_index_list[i]])"
   ]
  },
  {
   "cell_type": "markdown",
   "metadata": {},
   "source": [
    "### Limpando a coluna DATA"
   ]
  },
  {
   "cell_type": "markdown",
   "metadata": {},
   "source": [
    "Observamos na tabela abaixo que, para a coluna DATA, aproximadamente 1% dos dados são NaN"
   ]
  },
  {
   "cell_type": "code",
   "execution_count": 17,
   "metadata": {
    "scrolled": true
   },
   "outputs": [
    {
     "data": {
      "text/plain": [
       "ANO                  0.000000\n",
       "MES                  0.000000\n",
       "SENADOR              0.000000\n",
       "TIPO_DESPESA         0.000000\n",
       "CNPJ_CPF             0.010058\n",
       "FORNECEDOR           0.010058\n",
       "DOCUMENTO            0.078369\n",
       "DATA                 0.010058\n",
       "DETALHAMENTO         0.431671\n",
       "VALOR_REEMBOLSADO    0.000000\n",
       "COD_DOCUMENTO        0.000000\n",
       "dtype: float64"
      ]
     },
     "execution_count": 17,
     "metadata": {},
     "output_type": "execute_result"
    }
   ],
   "source": [
    "df_tratado.isna().sum()/df_tratado.shape[0]"
   ]
  },
  {
   "cell_type": "markdown",
   "metadata": {},
   "source": [
    "Mas como esses valores NaN estão distribuidos ao longo dos anos? Vimos em explorando o dataset que para 2008 e 2009 temos 100% e 42% de valores NaN, respectivamente. Como temos os valores de data para todos os outros anos, isso indica que houve, possivelmente, uma mudança de metodologia na coleta dos dados."
   ]
  },
  {
   "cell_type": "code",
   "execution_count": 18,
   "metadata": {
    "scrolled": false
   },
   "outputs": [],
   "source": [
    "df_tratado[\"DATA\"]=pd.to_datetime(df_tratado[\"DATA\"], errors='coerce')\n",
    "where_is_na=np.where(df_tratado[\"DATA\"].isna())[0]\n",
    "new_date=pd.to_datetime(df_tratado.ANO.astype(str) + '/' + df_tratado.MES.astype(str)+'/01')\n",
    "for i in where_is_na:\n",
    "    df_tratado[\"DATA\"].loc[i]=new_date[i]"
   ]
  },
  {
   "cell_type": "markdown",
   "metadata": {},
   "source": [
    "Agora vamos verificar as correções feitas usando o método `info()`."
   ]
  },
  {
   "cell_type": "code",
   "execution_count": 19,
   "metadata": {
    "scrolled": true
   },
   "outputs": [
    {
     "name": "stdout",
     "output_type": "stream",
     "text": [
      "<class 'pandas.core.frame.DataFrame'>\n",
      "RangeIndex: 312597 entries, 0 to 312596\n",
      "Data columns (total 11 columns):\n",
      " #   Column             Non-Null Count   Dtype         \n",
      "---  ------             --------------   -----         \n",
      " 0   ANO                312597 non-null  int64         \n",
      " 1   MES                312597 non-null  int64         \n",
      " 2   SENADOR            312597 non-null  object        \n",
      " 3   TIPO_DESPESA       312597 non-null  object        \n",
      " 4   CNPJ_CPF           309453 non-null  object        \n",
      " 5   FORNECEDOR         309453 non-null  object        \n",
      " 6   DOCUMENTO          288099 non-null  object        \n",
      " 7   DATA               312597 non-null  datetime64[ns]\n",
      " 8   DETALHAMENTO       177658 non-null  object        \n",
      " 9   VALOR_REEMBOLSADO  312597 non-null  object        \n",
      " 10  COD_DOCUMENTO      312597 non-null  object        \n",
      "dtypes: datetime64[ns](1), int64(2), object(8)\n",
      "memory usage: 26.2+ MB\n"
     ]
    }
   ],
   "source": [
    "df_tratado.info()"
   ]
  },
  {
   "cell_type": "code",
   "execution_count": 20,
   "metadata": {},
   "outputs": [],
   "source": [
    "df_tratado[\"DATA\"]=pd.to_datetime(df_tratado['DATA'])"
   ]
  },
  {
   "cell_type": "code",
   "execution_count": 21,
   "metadata": {},
   "outputs": [
    {
     "data": {
      "text/plain": [
       "array([   0, 1901, 1956, 1957, 1962, 1965, 1977, 1980, 1986, 2000, 2001,\n",
       "       2002, 2003, 2004, 2005, 2006, 2007, 2023, 2041, 2101, 2105, 2106,\n",
       "       2107])"
      ]
     },
     "execution_count": 21,
     "metadata": {},
     "output_type": "execute_result"
    }
   ],
   "source": [
    "#pegando a coluna DATA\n",
    "data=pd.to_datetime(df_tratado['DATA'])#.dt.date\n",
    "#Pegando apenas os anos referentes a data\n",
    "anos_data=[a.year for a in data]\n",
    "#retorna true para os anos fora do período entre 2008 e 2022,e False para os outros\n",
    "anos_fora_bool=[a<2008 or a>2022 for a in anos_data]\n",
    "anos_fora=[a for a in anos_data if a<2008 or a>2022]\n",
    "\n",
    "#Pegando apenas os anos referentes ao período\n",
    "anos_periodo=df_tratado[\"ANO\"]\n",
    "np.unique(anos)\n",
    "\n",
    "anos_data_fora=np.asarray(anos_fora_bool)*np.asarray(anos_data)\n",
    "anos_periodo_fora=np.asarray(anos_fora_bool)*df_tratado[\"ANO\"].values\n",
    "dff=pd.DataFrame()\n",
    "\n",
    "dff['anos_periodo']=anos_periodo_fora\n",
    "dff['anos_data']=anos_data_fora\n",
    "\n",
    "dff=dff[dff['anos_data']!=0]\n",
    "\n",
    "np.unique(anos_data_fora)"
   ]
  },
  {
   "cell_type": "code",
   "execution_count": 22,
   "metadata": {},
   "outputs": [
    {
     "data": {
      "image/png": "[encoded data removed]",
      "text/plain": [
       "<Figure size 432x288 with 1 Axes>"
      ]
     },
     "metadata": {
      "needs_background": "light"
     },
     "output_type": "display_data"
    }
   ],
   "source": [
    "import matplotlib.pyplot as plt\n",
    "\n",
    "plt.hist(dff['anos_periodo'])\n",
    "plt.show()"
   ]
  },
  {
   "cell_type": "code",
   "execution_count": 23,
   "metadata": {},
   "outputs": [
    {
     "data": {
      "image/png": "[encoded data removed]",
      "text/plain": [
       "<Figure size 432x288 with 1 Axes>"
      ]
     },
     "metadata": {
      "needs_background": "light"
     },
     "output_type": "display_data"
    }
   ],
   "source": [
    "plt.hist(dff['anos_data'])\n",
    "plt.show()\n"
   ]
  },
  {
   "cell_type": "code",
   "execution_count": 24,
   "metadata": {},
   "outputs": [
    {
     "name": "stdout",
     "output_type": "stream",
     "text": [
      "Temos que em 99 porcento dos dados a direferença entre ano da data e ano do período é zero.\n"
     ]
    }
   ],
   "source": [
    "u=((anos_data-anos_periodo)==0).sum()\n",
    "print(\"Temos que em %.0f porcento dos dados a direferença entre ano da data e ano do período é zero.\"%(u*100/df_tratado.shape[0]))"
   ]
  },
  {
   "cell_type": "code",
   "execution_count": 25,
   "metadata": {
    "scrolled": true
   },
   "outputs": [],
   "source": [
    "where_years_out=np.where(anos_fora_bool)[0]\n",
    "corrected_dates=[]"
   ]
  },
  {
   "cell_type": "code",
   "execution_count": 26,
   "metadata": {},
   "outputs": [],
   "source": [
    "for i in where_years_out:\n",
    "        d,m,y=df_tratado['DATA'].loc[i].day,df_tratado['DATA'].loc[i].month,df_tratado['DATA'].loc[i].year\n",
    "        corrected_dates.append(str(d)+'/'+str(m)+'/'+str(df_tratado['ANO'].loc[i]))\n",
    "for i in range(len(where_years_out)):\n",
    "        df_tratado['DATA'].loc[where_years_out[i]]=corrected_dates[i]\n",
    "        \n",
    "df_tratado['DATA']=pd.to_datetime(df_tratado['DATA'])\n"
   ]
  },
  {
   "cell_type": "code",
   "execution_count": 27,
   "metadata": {
    "scrolled": true
   },
   "outputs": [
    {
     "name": "stdout",
     "output_type": "stream",
     "text": [
      "<class 'pandas.core.frame.DataFrame'>\n",
      "RangeIndex: 312597 entries, 0 to 312596\n",
      "Data columns (total 11 columns):\n",
      " #   Column             Non-Null Count   Dtype         \n",
      "---  ------             --------------   -----         \n",
      " 0   ANO                312597 non-null  int64         \n",
      " 1   MES                312597 non-null  int64         \n",
      " 2   SENADOR            312597 non-null  object        \n",
      " 3   TIPO_DESPESA       312597 non-null  object        \n",
      " 4   CNPJ_CPF           309453 non-null  object        \n",
      " 5   FORNECEDOR         309453 non-null  object        \n",
      " 6   DOCUMENTO          288099 non-null  object        \n",
      " 7   DATA               312597 non-null  datetime64[ns]\n",
      " 8   DETALHAMENTO       177658 non-null  object        \n",
      " 9   VALOR_REEMBOLSADO  312597 non-null  object        \n",
      " 10  COD_DOCUMENTO      312597 non-null  object        \n",
      "dtypes: datetime64[ns](1), int64(2), object(8)\n",
      "memory usage: 26.2+ MB\n"
     ]
    }
   ],
   "source": [
    "df_tratado.info()"
   ]
  },
  {
   "cell_type": "markdown",
   "metadata": {},
   "source": [
    "Agora vamos concatenar as colunas 'ANO' e 'MES' na coluna 'PERIODO'"
   ]
  },
  {
   "cell_type": "code",
   "execution_count": 28,
   "metadata": {},
   "outputs": [
    {
     "data": {
      "text/html": [
       "<div>\n",
       "<style scoped>\n",
       "    .dataframe tbody tr th:only-of-type {\n",
       "        vertical-align: middle;\n",
       "    }\n",
       "\n",
       "    .dataframe tbody tr th {\n",
       "        vertical-align: top;\n",
       "    }\n",
       "\n",
       "    .dataframe thead th {\n",
       "        text-align: right;\n",
       "    }\n",
       "</style>\n",
       "<table border=\"1\" class=\"dataframe\">\n",
       "  <thead>\n",
       "    <tr style=\"text-align: right;\">\n",
       "      <th></th>\n",
       "      <th>PERIODO</th>\n",
       "      <th>ANO</th>\n",
       "      <th>MES</th>\n",
       "      <th>SENADOR</th>\n",
       "      <th>TIPO_DESPESA</th>\n",
       "      <th>CNPJ_CPF</th>\n",
       "      <th>FORNECEDOR</th>\n",
       "      <th>DOCUMENTO</th>\n",
       "      <th>DATA</th>\n",
       "      <th>DETALHAMENTO</th>\n",
       "      <th>VALOR_REEMBOLSADO</th>\n",
       "      <th>COD_DOCUMENTO</th>\n",
       "    </tr>\n",
       "  </thead>\n",
       "  <tbody>\n",
       "    <tr>\n",
       "      <th>312592</th>\n",
       "      <td>2022-08</td>\n",
       "      <td>2022</td>\n",
       "      <td>8</td>\n",
       "      <td>ZEQUINHA MARINHO</td>\n",
       "      <td>Aluguel de imóveis para escritório político, c...</td>\n",
       "      <td>04.895.728/0001-80</td>\n",
       "      <td>EQUATORIAL ENERGIA</td>\n",
       "      <td>018516578</td>\n",
       "      <td>2022-08-08</td>\n",
       "      <td>NaN</td>\n",
       "      <td>292,59</td>\n",
       "      <td>2.18679e+06</td>\n",
       "    </tr>\n",
       "    <tr>\n",
       "      <th>312593</th>\n",
       "      <td>2022-08</td>\n",
       "      <td>2022</td>\n",
       "      <td>8</td>\n",
       "      <td>ZEQUINHA MARINHO</td>\n",
       "      <td>Aluguel de imóveis para escritório político, c...</td>\n",
       "      <td>04.895.728/0001-80</td>\n",
       "      <td>EQUATORIAL ENERGIA</td>\n",
       "      <td>0202208018625090</td>\n",
       "      <td>2022-08-08</td>\n",
       "      <td>NaN</td>\n",
       "      <td>553,33</td>\n",
       "      <td>2.18679e+06</td>\n",
       "    </tr>\n",
       "    <tr>\n",
       "      <th>312594</th>\n",
       "      <td>2022-08</td>\n",
       "      <td>2022</td>\n",
       "      <td>8</td>\n",
       "      <td>ZEQUINHA MARINHO</td>\n",
       "      <td>Locomoção, hospedagem, alimentação, combustíve...</td>\n",
       "      <td>27.522.923/0001-60</td>\n",
       "      <td>Casarao da Vila Restaurante LTDA - ME</td>\n",
       "      <td>000127032</td>\n",
       "      <td>2022-03-08</td>\n",
       "      <td>NaN</td>\n",
       "      <td>26,57</td>\n",
       "      <td>2.18489e+06</td>\n",
       "    </tr>\n",
       "    <tr>\n",
       "      <th>312595</th>\n",
       "      <td>2022-08</td>\n",
       "      <td>2022</td>\n",
       "      <td>8</td>\n",
       "      <td>ZEQUINHA MARINHO</td>\n",
       "      <td>Passagens aéreas, aquáticas e terrestres nacio...</td>\n",
       "      <td>22.052.777/0001-32</td>\n",
       "      <td>Exceller Tour</td>\n",
       "      <td>FLXNAO</td>\n",
       "      <td>2022-02-08</td>\n",
       "      <td>Companhia Aérea: GOL, Localizador: FLXNAO. Pas...</td>\n",
       "      <td>3140,46</td>\n",
       "      <td>2.18543e+06</td>\n",
       "    </tr>\n",
       "    <tr>\n",
       "      <th>312596</th>\n",
       "      <td>2022-08</td>\n",
       "      <td>2022</td>\n",
       "      <td>8</td>\n",
       "      <td>ZEQUINHA MARINHO</td>\n",
       "      <td>Passagens aéreas, aquáticas e terrestres nacio...</td>\n",
       "      <td>22.052.777/0001-32</td>\n",
       "      <td>Exceller Tour</td>\n",
       "      <td>TKR98A</td>\n",
       "      <td>2022-07-08</td>\n",
       "      <td>Companhia Aérea: AZUL, Localizador: TKR98A. Pa...</td>\n",
       "      <td>2850,9</td>\n",
       "      <td>2.18543e+06</td>\n",
       "    </tr>\n",
       "  </tbody>\n",
       "</table>\n",
       "</div>"
      ],
      "text/plain": [
       "        PERIODO   ANO  MES           SENADOR  \\\n",
       "312592  2022-08  2022    8  ZEQUINHA MARINHO   \n",
       "312593  2022-08  2022    8  ZEQUINHA MARINHO   \n",
       "312594  2022-08  2022    8  ZEQUINHA MARINHO   \n",
       "312595  2022-08  2022    8  ZEQUINHA MARINHO   \n",
       "312596  2022-08  2022    8  ZEQUINHA MARINHO   \n",
       "\n",
       "                                             TIPO_DESPESA            CNPJ_CPF  \\\n",
       "312592  Aluguel de imóveis para escritório político, c...  04.895.728/0001-80   \n",
       "312593  Aluguel de imóveis para escritório político, c...  04.895.728/0001-80   \n",
       "312594  Locomoção, hospedagem, alimentação, combustíve...  27.522.923/0001-60   \n",
       "312595  Passagens aéreas, aquáticas e terrestres nacio...  22.052.777/0001-32   \n",
       "312596  Passagens aéreas, aquáticas e terrestres nacio...  22.052.777/0001-32   \n",
       "\n",
       "                                   FORNECEDOR         DOCUMENTO       DATA  \\\n",
       "312592                     EQUATORIAL ENERGIA         018516578 2022-08-08   \n",
       "312593                     EQUATORIAL ENERGIA  0202208018625090 2022-08-08   \n",
       "312594  Casarao da Vila Restaurante LTDA - ME         000127032 2022-03-08   \n",
       "312595                          Exceller Tour            FLXNAO 2022-02-08   \n",
       "312596                          Exceller Tour            TKR98A 2022-07-08   \n",
       "\n",
       "                                             DETALHAMENTO VALOR_REEMBOLSADO  \\\n",
       "312592                                                NaN            292,59   \n",
       "312593                                                NaN            553,33   \n",
       "312594                                                NaN             26,57   \n",
       "312595  Companhia Aérea: GOL, Localizador: FLXNAO. Pas...           3140,46   \n",
       "312596  Companhia Aérea: AZUL, Localizador: TKR98A. Pa...            2850,9   \n",
       "\n",
       "       COD_DOCUMENTO  \n",
       "312592   2.18679e+06  \n",
       "312593   2.18679e+06  \n",
       "312594   2.18489e+06  \n",
       "312595   2.18543e+06  \n",
       "312596   2.18543e+06  "
      ]
     },
     "execution_count": 28,
     "metadata": {},
     "output_type": "execute_result"
    }
   ],
   "source": [
    "ano_mes=pd.to_datetime(df_tratado.ANO.astype(str) + '/' + df_tratado.MES.astype(str) ).dt.to_period('M')\n",
    "df_tratado.insert(0,'PERIODO',ano_mes)\n",
    "df_tratado.tail()"
   ]
  },
  {
   "cell_type": "markdown",
   "metadata": {},
   "source": [
    "### Limpando a coluna VALOR_REEMBOLSADO"
   ]
  },
  {
   "cell_type": "markdown",
   "metadata": {},
   "source": [
    "Outra informação importante que tiramos do data frame usando o método `df.info()` é que a coluna VALOR_REEMBOLSADO não está sendo lida como sendo de um tipo numérico, mas sim como sendo do tipo object. Portanto, vamos converter a coluna VALOR_REEMBOLSADO para valor numérico da seguinte maneira:"
   ]
  },
  {
   "cell_type": "code",
   "execution_count": 29,
   "metadata": {
    "scrolled": true
   },
   "outputs": [
    {
     "name": "stdout",
     "output_type": "stream",
     "text": [
      "Temos que 1 de 312597 valores não foram convertidos para numero.\n"
     ]
    }
   ],
   "source": [
    "valor_remb=pd.to_numeric(df_tratado['VALOR_REEMBOLSADO'].str.replace(',','.'), errors='coerce')\n",
    "where_is_na=np.where(valor_remb.isna())[0]\n",
    "\n",
    "print(\"Temos que %d de %d valores não foram convertidos para numero.\"%(len(where_is_na),df_tratado.shape[0]))"
   ]
  },
  {
   "cell_type": "code",
   "execution_count": 30,
   "metadata": {
    "scrolled": true
   },
   "outputs": [
    {
     "name": "stdout",
     "output_type": "stream",
     "text": [
      "[115962]\n"
     ]
    },
    {
     "data": {
      "text/plain": [
       "PERIODO                                                        2013-02\n",
       "ANO                                                               2013\n",
       "MES                                                                  2\n",
       "SENADOR                                                RICARDO FERRAÇO\n",
       "TIPO_DESPESA         Passagens aéreas, aquáticas e terrestres nacio...\n",
       "CNPJ_CPF                                            02.012.862/0001-60\n",
       "FORNECEDOR                                                         TAM\n",
       "DOCUMENTO                                                9572462859757\n",
       "DATA                                               2013-04-02 00:00:00\n",
       "DETALHAMENTO         CNPJ: 02.012.862/0001-60 FORNECEDOR: TAM DOCUM...\n",
       "VALOR_REEMBOLSADO                                          1\\r\\n675,55\n",
       "COD_DOCUMENTO                                                   698982\n",
       "Name: 115962, dtype: object"
      ]
     },
     "execution_count": 30,
     "metadata": {},
     "output_type": "execute_result"
    }
   ],
   "source": [
    "print(where_is_na)\n",
    "df_tratado.loc[where_is_na[0]]"
   ]
  },
  {
   "cell_type": "code",
   "execution_count": 31,
   "metadata": {
    "scrolled": true
   },
   "outputs": [
    {
     "data": {
      "text/plain": [
       "count    312597.000000\n",
       "mean       1005.278140\n",
       "std        2561.660456\n",
       "min       -1500.000000\n",
       "25%         100.000000\n",
       "50%         280.000000\n",
       "75%         994.080000\n",
       "max      270000.000000\n",
       "Name: VALOR_REEMBOLSADO, dtype: float64"
      ]
     },
     "execution_count": 31,
     "metadata": {},
     "output_type": "execute_result"
    }
   ],
   "source": [
    "valor_remb[where_is_na[0]]=675.55\n",
    "df_tratado['VALOR_REEMBOLSADO']=valor_remb\n",
    "df_tratado['VALOR_REEMBOLSADO'].describe()"
   ]
  },
  {
   "cell_type": "markdown",
   "metadata": {},
   "source": [
    "O método `describe()` revelou que há valores negativos na coluna 'VALOR_REEMBOLSADO'. Portanto vamos investigar esses valores e o que podemos fazer sobre isso."
   ]
  },
  {
   "cell_type": "code",
   "execution_count": 32,
   "metadata": {},
   "outputs": [
    {
     "name": "stdout",
     "output_type": "stream",
     "text": [
      "A coluna 'VALOR_REEMBOLSADO' apresentou 3 valores negativos \n",
      "\n"
     ]
    }
   ],
   "source": [
    "negativos=np.where(valor_remb<0)[0]\n",
    "print(\"A coluna 'VALOR_REEMBOLSADO' apresentou %d valores negativos\"%(len(negativos)),'\\n')"
   ]
  },
  {
   "cell_type": "markdown",
   "metadata": {},
   "source": [
    "Como exitem poucos valores negativos, vamos olhá-los individualmente."
   ]
  },
  {
   "cell_type": "code",
   "execution_count": 33,
   "metadata": {
    "scrolled": true
   },
   "outputs": [
    {
     "name": "stdout",
     "output_type": "stream",
     "text": [
      "ANO                                                               2015\n",
      "MES                                                                  2\n",
      "SENADOR                                                 GLADSON CAMELI\n",
      "TIPO_DESPESA         Aluguel de imóveis para escritório político, c...\n",
      "CNPJ_CPF                                            63.600.449/0001-00\n",
      "FORNECEDOR           Arras Adm. de Bens Imóveis Limpeza e Conservaç...\n",
      "DOCUMENTO                                                          NaN\n",
      "DATA                                                        15/01/2015\n",
      "DETALHAMENTO         Contrato de locação de Imóvel comercial do esc...\n",
      "VALOR_REEMBOLSADO                                                -1500\n",
      "COD_DOCUMENTO                                              2.00123e+06\n",
      "Name: 152315, dtype: object \n",
      "\n",
      "ANO                                                               2015\n",
      "MES                                                                  1\n",
      "SENADOR                                             RANDOLFE RODRIGUES\n",
      "TIPO_DESPESA         Passagens aéreas, aquáticas e terrestres nacio...\n",
      "CNPJ_CPF                                            02.012.862/0001-60\n",
      "FORNECEDOR                                       Tam Linhas Aereas S/A\n",
      "DOCUMENTO                                                9572104373256\n",
      "DATA                                                        28/01/2015\n",
      "DETALHAMENTO         9572100929351 - R$ 1.298,93 (1º bilhete emitid...\n",
      "VALOR_REEMBOLSADO                                                   -9\n",
      "COD_DOCUMENTO                                              2.00036e+06\n",
      "Name: 163225, dtype: object \n",
      "\n",
      "ANO                                                               2017\n",
      "MES                                                                  5\n",
      "SENADOR                                                   DÁRIO BERGER\n",
      "TIPO_DESPESA         Contratação de consultorias, assessorias, pesq...\n",
      "CNPJ_CPF                                            73.228.876/0001-63\n",
      "FORNECEDOR                                      TV CLIPAGEM LTDA. EPP.\n",
      "DOCUMENTO                                                       001661\n",
      "DATA                                                        02/06/2017\n",
      "DETALHAMENTO         Despesa com Monitoramento de Informação Jornal...\n",
      "VALOR_REEMBOLSADO                                               -243,4\n",
      "COD_DOCUMENTO                                              2.06857e+06\n",
      "Name: 201499, dtype: object \n",
      "\n"
     ]
    }
   ],
   "source": [
    "for i in negativos:\n",
    "    print(df.loc[i],'\\n')"
   ]
  },
  {
   "cell_type": "code",
   "execution_count": 34,
   "metadata": {},
   "outputs": [
    {
     "name": "stdout",
     "output_type": "stream",
     "text": [
      "Contrato de locação de Imóvel comercial do escritório de apoio do Senador Gladson Cameli no Estado \n",
      "\n",
      "9572100929351 - R$ 1.298,93 (1º bilhete emitido) 9572102224403 - R$ 1.418,93 (1ª remarcação) 9572104023443 - R$ 1.498,93 (2ª remarcação) 9572104373256 - R$ 2.412,03 (3ª remarcação - bilhete utilizado) \n",
      "\n",
      "Despesa com Monitoramento de Informação Jornalística em Mídia Eletrônica e Imprensa \n",
      "\n"
     ]
    }
   ],
   "source": [
    "for i in negativos:\n",
    "    print(df['DETALHAMENTO'].loc[i],'\\n')\n",
    "    "
   ]
  },
  {
   "cell_type": "markdown",
   "metadata": {},
   "source": [
    "Como não conseguimos inferir um novo número para essas linhas iremos excluí-las."
   ]
  },
  {
   "cell_type": "code",
   "execution_count": 35,
   "metadata": {},
   "outputs": [],
   "source": [
    "df_tratado=df_tratado.drop(index=negativos).reset_index()"
   ]
  },
  {
   "cell_type": "markdown",
   "metadata": {},
   "source": [
    "Agora vamos verificar as correções feitas usando o método `info()`."
   ]
  },
  {
   "cell_type": "code",
   "execution_count": 36,
   "metadata": {
    "scrolled": false
   },
   "outputs": [
    {
     "name": "stdout",
     "output_type": "stream",
     "text": [
      "<class 'pandas.core.frame.DataFrame'>\n",
      "RangeIndex: 312594 entries, 0 to 312593\n",
      "Data columns (total 13 columns):\n",
      " #   Column             Non-Null Count   Dtype         \n",
      "---  ------             --------------   -----         \n",
      " 0   index              312594 non-null  int64         \n",
      " 1   PERIODO            312594 non-null  period[M]     \n",
      " 2   ANO                312594 non-null  int64         \n",
      " 3   MES                312594 non-null  int64         \n",
      " 4   SENADOR            312594 non-null  object        \n",
      " 5   TIPO_DESPESA       312594 non-null  object        \n",
      " 6   CNPJ_CPF           309450 non-null  object        \n",
      " 7   FORNECEDOR         309450 non-null  object        \n",
      " 8   DOCUMENTO          288097 non-null  object        \n",
      " 9   DATA               312594 non-null  datetime64[ns]\n",
      " 10  DETALHAMENTO       177655 non-null  object        \n",
      " 11  VALOR_REEMBOLSADO  312594 non-null  float64       \n",
      " 12  COD_DOCUMENTO      312594 non-null  object        \n",
      "dtypes: datetime64[ns](1), float64(1), int64(3), object(7), period[M](1)\n",
      "memory usage: 31.0+ MB\n"
     ]
    }
   ],
   "source": [
    "df_tratado.info()"
   ]
  },
  {
   "cell_type": "markdown",
   "metadata": {},
   "source": [
    "### Transformando a coluna DOCUMENTO em dados booleanos\n",
    "Vamos transformar a coluna DOCUMENTO em dados booleanos, de modo que o valor True representa a situação em que o senador incluiu o documento e o False representa que o senador não o incluiu."
   ]
  },
  {
   "cell_type": "code",
   "execution_count": 37,
   "metadata": {},
   "outputs": [
    {
     "name": "stdout",
     "output_type": "stream",
     "text": [
      "<class 'pandas.core.frame.DataFrame'>\n",
      "RangeIndex: 312594 entries, 0 to 312593\n",
      "Data columns (total 13 columns):\n",
      " #   Column             Non-Null Count   Dtype         \n",
      "---  ------             --------------   -----         \n",
      " 0   index              312594 non-null  int64         \n",
      " 1   PERIODO            312594 non-null  period[M]     \n",
      " 2   ANO                312594 non-null  int64         \n",
      " 3   MES                312594 non-null  int64         \n",
      " 4   SENADOR            312594 non-null  object        \n",
      " 5   TIPO_DESPESA       312594 non-null  object        \n",
      " 6   CNPJ_CPF           309450 non-null  object        \n",
      " 7   FORNECEDOR         309450 non-null  object        \n",
      " 8   DOCUMENTO          312594 non-null  bool          \n",
      " 9   DATA               312594 non-null  datetime64[ns]\n",
      " 10  DETALHAMENTO       177655 non-null  object        \n",
      " 11  VALOR_REEMBOLSADO  312594 non-null  float64       \n",
      " 12  COD_DOCUMENTO      312594 non-null  object        \n",
      "dtypes: bool(1), datetime64[ns](1), float64(1), int64(3), object(6), period[M](1)\n",
      "memory usage: 28.9+ MB\n"
     ]
    }
   ],
   "source": [
    "df_tratado['DOCUMENTO']=pd.to_numeric(df_tratado['DOCUMENTO'].isna()==False)\n",
    "df_tratado.info()"
   ]
  },
  {
   "cell_type": "markdown",
   "metadata": {},
   "source": [
    "### Convertendo variáveis categóricas em variáveis dummies da coluna TIPO_DESPESA\t"
   ]
  },
  {
   "cell_type": "markdown",
   "metadata": {},
   "source": [
    "Convertendo variáveis categóricas em variáveis dummies conseguimos gerar novas colunas com informações  sobre os tipos de despesa que podem ser analisadas."
   ]
  },
  {
   "cell_type": "code",
   "execution_count": 38,
   "metadata": {},
   "outputs": [
    {
     "data": {
      "text/html": [
       "<div>\n",
       "<style scoped>\n",
       "    .dataframe tbody tr th:only-of-type {\n",
       "        vertical-align: middle;\n",
       "    }\n",
       "\n",
       "    .dataframe tbody tr th {\n",
       "        vertical-align: top;\n",
       "    }\n",
       "\n",
       "    .dataframe thead th {\n",
       "        text-align: right;\n",
       "    }\n",
       "</style>\n",
       "<table border=\"1\" class=\"dataframe\">\n",
       "  <thead>\n",
       "    <tr style=\"text-align: right;\">\n",
       "      <th></th>\n",
       "      <th>Aluguel de imóveis para escritório político, compreendendo despesas concernentes a eles.</th>\n",
       "      <th>Aquisição de material de consumo para uso no escritório político, inclusive aquisição ou locação de software, despesas postais, aquisição de publicações, locação de móveis e de equipamentos.</th>\n",
       "      <th>Contratação de consultorias, assessorias, pesquisas, trabalhos técnicos e outros serviços de apoio ao exercício do mandato parlamentar</th>\n",
       "      <th>Divulgação da atividade parlamentar</th>\n",
       "      <th>Locomoção, hospedagem, alimentação, combustíveis e lubrificantes</th>\n",
       "      <th>Passagens aéreas, aquáticas e terrestres nacionais</th>\n",
       "      <th>Serviços de Segurança Privada</th>\n",
       "    </tr>\n",
       "  </thead>\n",
       "  <tbody>\n",
       "    <tr>\n",
       "      <th>0</th>\n",
       "      <td>0</td>\n",
       "      <td>0</td>\n",
       "      <td>1</td>\n",
       "      <td>0</td>\n",
       "      <td>0</td>\n",
       "      <td>0</td>\n",
       "      <td>0</td>\n",
       "    </tr>\n",
       "    <tr>\n",
       "      <th>1</th>\n",
       "      <td>0</td>\n",
       "      <td>0</td>\n",
       "      <td>0</td>\n",
       "      <td>0</td>\n",
       "      <td>1</td>\n",
       "      <td>0</td>\n",
       "      <td>0</td>\n",
       "    </tr>\n",
       "  </tbody>\n",
       "</table>\n",
       "</div>"
      ],
      "text/plain": [
       "   Aluguel de imóveis para escritório político, compreendendo despesas concernentes a eles.  \\\n",
       "0                                                  0                                          \n",
       "1                                                  0                                          \n",
       "\n",
       "   Aquisição de material de consumo para uso no escritório político, inclusive aquisição ou locação de software, despesas postais, aquisição de publicações, locação de móveis e de equipamentos.   \\\n",
       "0                                                  0                                                                                                                                                 \n",
       "1                                                  0                                                                                                                                                 \n",
       "\n",
       "   Contratação de consultorias, assessorias, pesquisas, trabalhos técnicos e outros serviços de apoio ao exercício do mandato parlamentar  \\\n",
       "0                                                  1                                                                                        \n",
       "1                                                  0                                                                                        \n",
       "\n",
       "   Divulgação da atividade parlamentar  \\\n",
       "0                                    0   \n",
       "1                                    0   \n",
       "\n",
       "   Locomoção, hospedagem, alimentação, combustíveis e lubrificantes  \\\n",
       "0                                                  0                  \n",
       "1                                                  1                  \n",
       "\n",
       "   Passagens aéreas, aquáticas e terrestres nacionais  \\\n",
       "0                                                  0    \n",
       "1                                                  0    \n",
       "\n",
       "   Serviços de Segurança Privada  \n",
       "0                              0  \n",
       "1                              0  "
      ]
     },
     "execution_count": 38,
     "metadata": {},
     "output_type": "execute_result"
    }
   ],
   "source": [
    "dummies=pd.get_dummies(df_tratado['TIPO_DESPESA'])\n",
    "col=dummies.columns\n",
    "dummies=pd.get_dummies(df_tratado['TIPO_DESPESA'])\n",
    "dummies.head(2)"
   ]
  },
  {
   "cell_type": "markdown",
   "metadata": {},
   "source": [
    "Como os nomes das colunas estão muito extensos, farei um dicionário para esses nomes da seguinte maneira:\n",
    " \n",
    "* **DESPESA_0**: Aluguel de imóveis para escritório político, compreendendo despesas concernentes a eles.\n",
    "* **DESPESA_1**: Aquisição de material de consumo para uso no escritório político, inclusive aquisição ou locação de software, despesas postais, aquisição de publicações, locação de móveis e de equipamentos. \n",
    "* **DESPESA_2**: Contratação de consultorias, assessorias, pesquisas, trabalhos técnicos e outros serviços de apoio ao exercício do mandato parlamentar\n",
    "* **DESPESA_3**: Divulgação da atividade parlamentar\n",
    "* **DESPESA_4**: Locomoção, hospedagem, alimentação, combustíveis e lubrificantes\n",
    "* **DESPESA_5**: Passagens aéreas, aquáticas e terrestres nacionais\n",
    "* **DESPESA_6**: Serviços de Segurança Privada"
   ]
  },
  {
   "cell_type": "code",
   "execution_count": 39,
   "metadata": {
    "scrolled": true
   },
   "outputs": [
    {
     "data": {
      "text/html": [
       "<div>\n",
       "<style scoped>\n",
       "    .dataframe tbody tr th:only-of-type {\n",
       "        vertical-align: middle;\n",
       "    }\n",
       "\n",
       "    .dataframe tbody tr th {\n",
       "        vertical-align: top;\n",
       "    }\n",
       "\n",
       "    .dataframe thead th {\n",
       "        text-align: right;\n",
       "    }\n",
       "</style>\n",
       "<table border=\"1\" class=\"dataframe\">\n",
       "  <thead>\n",
       "    <tr style=\"text-align: right;\">\n",
       "      <th></th>\n",
       "      <th>DESPESA_0</th>\n",
       "      <th>DESPESA_1</th>\n",
       "      <th>DESPESA_2</th>\n",
       "      <th>DESPESA_3</th>\n",
       "      <th>DESPESA_4</th>\n",
       "      <th>DESPESA_5</th>\n",
       "      <th>DESPESA_6</th>\n",
       "    </tr>\n",
       "  </thead>\n",
       "  <tbody>\n",
       "    <tr>\n",
       "      <th>0</th>\n",
       "      <td>0</td>\n",
       "      <td>0</td>\n",
       "      <td>1</td>\n",
       "      <td>0</td>\n",
       "      <td>0</td>\n",
       "      <td>0</td>\n",
       "      <td>0</td>\n",
       "    </tr>\n",
       "    <tr>\n",
       "      <th>1</th>\n",
       "      <td>0</td>\n",
       "      <td>0</td>\n",
       "      <td>0</td>\n",
       "      <td>0</td>\n",
       "      <td>1</td>\n",
       "      <td>0</td>\n",
       "      <td>0</td>\n",
       "    </tr>\n",
       "  </tbody>\n",
       "</table>\n",
       "</div>"
      ],
      "text/plain": [
       "   DESPESA_0  DESPESA_1  DESPESA_2  DESPESA_3  DESPESA_4  DESPESA_5  DESPESA_6\n",
       "0          0          0          1          0          0          0          0\n",
       "1          0          0          0          0          1          0          0"
      ]
     },
     "execution_count": 39,
     "metadata": {},
     "output_type": "execute_result"
    }
   ],
   "source": [
    "dict_col={}\n",
    "for i in range(len(col)):\n",
    "    dict_col[col[i]]='DESPESA_'+str(i)\n",
    "dummies=dummies.rename(columns=dict_col)\n",
    "dummies.head(2)"
   ]
  },
  {
   "cell_type": "code",
   "execution_count": 40,
   "metadata": {
    "scrolled": true
   },
   "outputs": [
    {
     "name": "stdout",
     "output_type": "stream",
     "text": [
      "<class 'pandas.core.frame.DataFrame'>\n",
      "RangeIndex: 312594 entries, 0 to 312593\n",
      "Data columns (total 20 columns):\n",
      " #   Column             Non-Null Count   Dtype         \n",
      "---  ------             --------------   -----         \n",
      " 0   index              312594 non-null  int64         \n",
      " 1   PERIODO            312594 non-null  period[M]     \n",
      " 2   ANO                312594 non-null  int64         \n",
      " 3   MES                312594 non-null  int64         \n",
      " 4   SENADOR            312594 non-null  object        \n",
      " 5   TIPO_DESPESA       312594 non-null  object        \n",
      " 6   CNPJ_CPF           309450 non-null  object        \n",
      " 7   FORNECEDOR         309450 non-null  object        \n",
      " 8   DOCUMENTO          312594 non-null  bool          \n",
      " 9   DATA               312594 non-null  datetime64[ns]\n",
      " 10  DETALHAMENTO       177655 non-null  object        \n",
      " 11  VALOR_REEMBOLSADO  312594 non-null  float64       \n",
      " 12  COD_DOCUMENTO      312594 non-null  object        \n",
      " 13  DESPESA_0          312594 non-null  uint8         \n",
      " 14  DESPESA_1          312594 non-null  uint8         \n",
      " 15  DESPESA_2          312594 non-null  uint8         \n",
      " 16  DESPESA_3          312594 non-null  uint8         \n",
      " 17  DESPESA_4          312594 non-null  uint8         \n",
      " 18  DESPESA_5          312594 non-null  uint8         \n",
      " 19  DESPESA_6          312594 non-null  uint8         \n",
      "dtypes: bool(1), datetime64[ns](1), float64(1), int64(3), object(6), period[M](1), uint8(7)\n",
      "memory usage: 31.0+ MB\n"
     ]
    }
   ],
   "source": [
    "df_tratado=pd.concat([df_tratado,dummies],axis=1)\n",
    "df_tratado.info()"
   ]
  },
  {
   "cell_type": "markdown",
   "metadata": {},
   "source": [
    "### Removendo as colunas que não participarão da análise dos dados\n",
    "* **'ANO' e 'MES'**\n",
    "    - As colunas 'ANO' e 'MES' foram concatenadas na colunas 'PERIODO'\n",
    "\n",
    "* **'DETALHAMENTO'**\n",
    "    - A coluna 'DETALHAMENTO' te muitos valores ausentes e não será usada nas análises.\n",
    "    \n",
    "* **'COD_DOCUMENTO'**\n",
    "    - A coluna 'COD_DOCUMENTO' possuem informação que não serão úteis nas análises.\n",
    "    \n",
    "* **'CNPJ_CPF' e 'FORNECEDOR'**\n",
    "    - Como vimos, quando estavamos explorando os dados, as colunas 'CNPJ_CPF', 'FORNECEDOR' e 'DATA' não apareceram apenas em 2008 e em parte de 2009, de modo que não seria interessante transformar os dados 'CNPJ_CPF' e 'FORNECEDOR' em dados booleanos. \n",
    " \n",
    "* **'TIPO_DESPESA'**\n",
    "    - A coluna 'TIPO_DESPESA' não é mais necessária pois foi transformada em colunas com variáveis dummy."
   ]
  },
  {
   "cell_type": "code",
   "execution_count": 41,
   "metadata": {},
   "outputs": [],
   "source": [
    "remove_columns=['ANO','MES','DETALHAMENTO','COD_DOCUMENTO','CNPJ_CPF','FORNECEDOR','TIPO_DESPESA']\n",
    "df_tratado=df_tratado.drop(remove_columns,axis=1)"
   ]
  },
  {
   "cell_type": "code",
   "execution_count": 42,
   "metadata": {},
   "outputs": [
    {
     "data": {
      "text/html": [
       "<div>\n",
       "<style scoped>\n",
       "    .dataframe tbody tr th:only-of-type {\n",
       "        vertical-align: middle;\n",
       "    }\n",
       "\n",
       "    .dataframe tbody tr th {\n",
       "        vertical-align: top;\n",
       "    }\n",
       "\n",
       "    .dataframe thead th {\n",
       "        text-align: right;\n",
       "    }\n",
       "</style>\n",
       "<table border=\"1\" class=\"dataframe\">\n",
       "  <thead>\n",
       "    <tr style=\"text-align: right;\">\n",
       "      <th></th>\n",
       "      <th>index</th>\n",
       "      <th>PERIODO</th>\n",
       "      <th>SENADOR</th>\n",
       "      <th>DOCUMENTO</th>\n",
       "      <th>DATA</th>\n",
       "      <th>VALOR_REEMBOLSADO</th>\n",
       "      <th>DESPESA_0</th>\n",
       "      <th>DESPESA_1</th>\n",
       "      <th>DESPESA_2</th>\n",
       "      <th>DESPESA_3</th>\n",
       "      <th>DESPESA_4</th>\n",
       "      <th>DESPESA_5</th>\n",
       "      <th>DESPESA_6</th>\n",
       "    </tr>\n",
       "  </thead>\n",
       "  <tbody>\n",
       "    <tr>\n",
       "      <th>0</th>\n",
       "      <td>0</td>\n",
       "      <td>2008-09</td>\n",
       "      <td>ADA MELLO</td>\n",
       "      <td>False</td>\n",
       "      <td>2008-09-01</td>\n",
       "      <td>12351.52</td>\n",
       "      <td>0</td>\n",
       "      <td>0</td>\n",
       "      <td>1</td>\n",
       "      <td>0</td>\n",
       "      <td>0</td>\n",
       "      <td>0</td>\n",
       "      <td>0</td>\n",
       "    </tr>\n",
       "    <tr>\n",
       "      <th>1</th>\n",
       "      <td>1</td>\n",
       "      <td>2008-09</td>\n",
       "      <td>ADA MELLO</td>\n",
       "      <td>False</td>\n",
       "      <td>2008-09-01</td>\n",
       "      <td>386.60</td>\n",
       "      <td>0</td>\n",
       "      <td>0</td>\n",
       "      <td>0</td>\n",
       "      <td>0</td>\n",
       "      <td>1</td>\n",
       "      <td>0</td>\n",
       "      <td>0</td>\n",
       "    </tr>\n",
       "  </tbody>\n",
       "</table>\n",
       "</div>"
      ],
      "text/plain": [
       "   index  PERIODO    SENADOR  DOCUMENTO       DATA  VALOR_REEMBOLSADO  \\\n",
       "0      0  2008-09  ADA MELLO      False 2008-09-01           12351.52   \n",
       "1      1  2008-09  ADA MELLO      False 2008-09-01             386.60   \n",
       "\n",
       "   DESPESA_0  DESPESA_1  DESPESA_2  DESPESA_3  DESPESA_4  DESPESA_5  DESPESA_6  \n",
       "0          0          0          1          0          0          0          0  \n",
       "1          0          0          0          0          1          0          0  "
      ]
     },
     "execution_count": 42,
     "metadata": {},
     "output_type": "execute_result"
    }
   ],
   "source": [
    "df_tratado.head(2)"
   ]
  },
  {
   "cell_type": "code",
   "execution_count": 43,
   "metadata": {},
   "outputs": [
    {
     "name": "stdout",
     "output_type": "stream",
     "text": [
      "<class 'pandas.core.frame.DataFrame'>\n",
      "RangeIndex: 312594 entries, 0 to 312593\n",
      "Data columns (total 13 columns):\n",
      " #   Column             Non-Null Count   Dtype         \n",
      "---  ------             --------------   -----         \n",
      " 0   index              312594 non-null  int64         \n",
      " 1   PERIODO            312594 non-null  period[M]     \n",
      " 2   SENADOR            312594 non-null  object        \n",
      " 3   DOCUMENTO          312594 non-null  bool          \n",
      " 4   DATA               312594 non-null  datetime64[ns]\n",
      " 5   VALOR_REEMBOLSADO  312594 non-null  float64       \n",
      " 6   DESPESA_0          312594 non-null  uint8         \n",
      " 7   DESPESA_1          312594 non-null  uint8         \n",
      " 8   DESPESA_2          312594 non-null  uint8         \n",
      " 9   DESPESA_3          312594 non-null  uint8         \n",
      " 10  DESPESA_4          312594 non-null  uint8         \n",
      " 11  DESPESA_5          312594 non-null  uint8         \n",
      " 12  DESPESA_6          312594 non-null  uint8         \n",
      "dtypes: bool(1), datetime64[ns](1), float64(1), int64(1), object(1), period[M](1), uint8(7)\n",
      "memory usage: 14.3+ MB\n"
     ]
    }
   ],
   "source": [
    "df_tratado.info()"
   ]
  },
  {
   "cell_type": "markdown",
   "metadata": {},
   "source": [
    "Agora temos nossos dados limpos e prontos para análises!"
   ]
  },
  {
   "cell_type": "markdown",
   "metadata": {},
   "source": [
    "## Análise dos dados"
   ]
  },
  {
   "cell_type": "code",
   "execution_count": 44,
   "metadata": {
    "scrolled": true
   },
   "outputs": [],
   "source": [
    "#df_tratado_senador=df_tratado.drop('index',axis=1).groupby('SENADOR').sum()#describe().loc[:,(slice(None),'max')]\n",
    "#df_tratado_senador.head(2)"
   ]
  },
  {
   "cell_type": "markdown",
   "metadata": {},
   "source": [
    "### Séries temporais - Modelo Arima\n"
   ]
  },
  {
   "cell_type": "code",
   "execution_count": 45,
   "metadata": {
    "scrolled": true
   },
   "outputs": [
    {
     "data": {
      "text/html": [
       "<div>\n",
       "<style scoped>\n",
       "    .dataframe tbody tr th:only-of-type {\n",
       "        vertical-align: middle;\n",
       "    }\n",
       "\n",
       "    .dataframe tbody tr th {\n",
       "        vertical-align: top;\n",
       "    }\n",
       "\n",
       "    .dataframe thead th {\n",
       "        text-align: right;\n",
       "    }\n",
       "</style>\n",
       "<table border=\"1\" class=\"dataframe\">\n",
       "  <thead>\n",
       "    <tr style=\"text-align: right;\">\n",
       "      <th></th>\n",
       "      <th>VALOR_REEMBOLSADO</th>\n",
       "    </tr>\n",
       "    <tr>\n",
       "      <th>PERIODO</th>\n",
       "      <th></th>\n",
       "    </tr>\n",
       "  </thead>\n",
       "  <tbody>\n",
       "    <tr>\n",
       "      <th>2010-01</th>\n",
       "      <td>797009.90</td>\n",
       "    </tr>\n",
       "    <tr>\n",
       "      <th>2010-02</th>\n",
       "      <td>836040.72</td>\n",
       "    </tr>\n",
       "    <tr>\n",
       "      <th>2010-03</th>\n",
       "      <td>1077340.24</td>\n",
       "    </tr>\n",
       "    <tr>\n",
       "      <th>2010-04</th>\n",
       "      <td>900934.90</td>\n",
       "    </tr>\n",
       "    <tr>\n",
       "      <th>2010-05</th>\n",
       "      <td>897544.91</td>\n",
       "    </tr>\n",
       "    <tr>\n",
       "      <th>...</th>\n",
       "      <td>...</td>\n",
       "    </tr>\n",
       "    <tr>\n",
       "      <th>2022-03</th>\n",
       "      <td>2678668.99</td>\n",
       "    </tr>\n",
       "    <tr>\n",
       "      <th>2022-04</th>\n",
       "      <td>2334118.46</td>\n",
       "    </tr>\n",
       "    <tr>\n",
       "      <th>2022-05</th>\n",
       "      <td>2466599.08</td>\n",
       "    </tr>\n",
       "    <tr>\n",
       "      <th>2022-06</th>\n",
       "      <td>2094922.43</td>\n",
       "    </tr>\n",
       "    <tr>\n",
       "      <th>2022-07</th>\n",
       "      <td>2013869.35</td>\n",
       "    </tr>\n",
       "  </tbody>\n",
       "</table>\n",
       "<p>151 rows × 1 columns</p>\n",
       "</div>"
      ],
      "text/plain": [
       "         VALOR_REEMBOLSADO\n",
       "PERIODO                   \n",
       "2010-01          797009.90\n",
       "2010-02          836040.72\n",
       "2010-03         1077340.24\n",
       "2010-04          900934.90\n",
       "2010-05          897544.91\n",
       "...                    ...\n",
       "2022-03         2678668.99\n",
       "2022-04         2334118.46\n",
       "2022-05         2466599.08\n",
       "2022-06         2094922.43\n",
       "2022-07         2013869.35\n",
       "\n",
       "[151 rows x 1 columns]"
      ]
     },
     "execution_count": 45,
     "metadata": {},
     "output_type": "execute_result"
    }
   ],
   "source": [
    "df_arima=df_tratado[['PERIODO','VALOR_REEMBOLSADO']]\n",
    "df_arima=df_arima[df_tratado['PERIODO']<'2022-08-02']#.groupby('DATA').sum()\n",
    "df_arima=df_arima[df_tratado['PERIODO']>='2010-01-01'].groupby('PERIODO').sum()\n",
    "df_arima"
   ]
  },
  {
   "cell_type": "code",
   "execution_count": 127,
   "metadata": {},
   "outputs": [
    {
     "data": {
      "text/plain": [
       "array([  1,   3,   5,   7,   9,  11,  13,  15,  17,  19,  21,  23,  25,\n",
       "        27,  29,  31,  33,  35,  37,  39,  41,  43,  45,  47,  49,  51,\n",
       "        53,  55,  57,  59,  61,  63,  65,  67,  69,  71,  73,  75,  77,\n",
       "        79,  81,  83,  85,  87,  89,  91,  93,  95,  97,  99, 101, 103,\n",
       "       105, 107, 109, 111, 113, 115, 117, 119, 121, 123, 125, 127, 129,\n",
       "       131, 133, 135, 137, 139, 141, 143, 145, 147, 149])"
      ]
     },
     "execution_count": 127,
     "metadata": {},
     "output_type": "execute_result"
    }
   ],
   "source": [
    "import matplotlib.pyplot as plt\n",
    "import seaborn as sns\n",
    "datas=[(str(x.year)+'-'+('%02d'%(x.month)) ) for x in df_arima.index]\n",
    "len(datas)\n",
    "np.arange(1,151,2)"
   ]
  },
  {
   "cell_type": "code",
   "execution_count": 133,
   "metadata": {
    "scrolled": true
   },
   "outputs": [
    {
     "data": {
      "image/png": "[encoded data removed]",
      "text/plain": [
       "<Figure size 1800x576 with 1 Axes>"
      ]
     },
     "metadata": {
      "needs_background": "light"
     },
     "output_type": "display_data"
    }
   ],
   "source": [
    "plt.figure(figsize=(25,8))\n",
    "fig = plt.bar(datas,df_arima.VALOR_REEMBOLSADO)\n",
    "plt.ylabel(\"Valor reembolsado pelos senadores\")\n",
    "plt.xlabel(\"Data\")\n",
    "plt.xticks(np.arange(1,len(datas),4),rotation=75,size=15)\n",
    "plt.show()"
   ]
  },
  {
   "cell_type": "code",
   "execution_count": 51,
   "metadata": {
    "scrolled": true
   },
   "outputs": [
    {
     "data": {
      "text/plain": [
       "array([ 1,  2,  3,  4,  5,  6,  7,  8,  9, 10, 11, 12], dtype=int64)"
      ]
     },
     "execution_count": 51,
     "metadata": {},
     "output_type": "execute_result"
    }
   ],
   "source": [
    "mes=df_arima.reset_index()['PERIODO'].dt.month\n",
    "np.unique(mes)\n"
   ]
  },
  {
   "cell_type": "code",
   "execution_count": 52,
   "metadata": {
    "scrolled": true
   },
   "outputs": [
    {
     "data": {
      "text/plain": [
       "<AxesSubplot:xlabel='PERIODO'>"
      ]
     },
     "execution_count": 52,
     "metadata": {},
     "output_type": "execute_result"
    },
    {
     "data": {
      "image/png": "[encoded data removed]",
      "text/plain": [
       "<Figure size 432x288 with 1 Axes>"
      ]
     },
     "metadata": {
      "needs_background": "light"
     },
     "output_type": "display_data"
    }
   ],
   "source": [
    "sns.barplot(x=df_arima.index.month,y=df_arima.VALOR_REEMBOLSADO.values)\n"
   ]
  },
  {
   "cell_type": "code",
   "execution_count": 53,
   "metadata": {},
   "outputs": [],
   "source": [
    " # isso permite que a gente decomponha em tendencia, sazionalidade,ruido\n",
    "from statsmodels.tsa.seasonal import seasonal_decompose\n",
    "# permite que a gente plot isso\n",
    "from statsmodels.tsa.seasonal import STL"
   ]
  },
  {
   "cell_type": "code",
   "execution_count": 135,
   "metadata": {},
   "outputs": [
    {
     "data": {
      "text/plain": [
       "PERIODO\n",
       "2010-01     797009.90\n",
       "2010-02     836040.72\n",
       "2010-03    1077340.24\n",
       "2010-04     900934.90\n",
       "2010-05     897544.91\n",
       "              ...    \n",
       "2022-03    2678668.99\n",
       "2022-04    2334118.46\n",
       "2022-05    2466599.08\n",
       "2022-06    2094922.43\n",
       "2022-07    2013869.35\n",
       "Freq: M, Name: VALOR_REEMBOLSADO, Length: 151, dtype: float64"
      ]
     },
     "execution_count": 135,
     "metadata": {},
     "output_type": "execute_result"
    }
   ],
   "source": [
    "y"
   ]
  },
  {
   "cell_type": "code",
   "execution_count": 205,
   "metadata": {},
   "outputs": [
    {
     "data": {
      "image/png": "[encoded data removed]",
      "text/plain": [
       "<Figure size 1440x504 with 1 Axes>"
      ]
     },
     "metadata": {
      "needs_background": "light"
     },
     "output_type": "display_data"
    }
   ],
   "source": [
    "def plotar(datas,y1,y2,y3,cor1,cor2,cor3,label1,label2,label3):\n",
    "    plt.figure(figsize=(20,7))\n",
    "    plt.plot(datas,y1.values,color=cor1,label=label1)\n",
    "    plt.plot(datas,y2.values,color=cor2,label=label2)\n",
    "    plt.plot(datas,y3.values,color=cor3,label=label3)\n",
    "    plt.legend(fontsize=18)\n",
    "    plt.xticks(np.arange(1,len(datas),4),rotation=75,size=15)\n",
    "    plt.show()\n",
    "    \n",
    "resultados = seasonal_decompose(df_arima.VALOR_REEMBOLSADO, freq = 30)\n",
    "resultados\n",
    "plotar(datas,resultados.observed, resultados.trend, resultados.seasonal, 'red','blue','green'\n",
    "       ,'Observado','Tendência','Sazonalidade')"
   ]
  },
  {
   "cell_type": "markdown",
   "metadata": {},
   "source": [
    "#### Diferenciação e ACF"
   ]
  },
  {
   "cell_type": "code",
   "execution_count": 138,
   "metadata": {},
   "outputs": [
    {
     "data": {
      "text/plain": [
       "PERIODO\n",
       "2010-01     797009.90\n",
       "2010-02     836040.72\n",
       "2010-03    1077340.24\n",
       "2010-04     900934.90\n",
       "2010-05     897544.91\n",
       "Freq: M, Name: VALOR_REEMBOLSADO, dtype: float64"
      ]
     },
     "execution_count": 138,
     "metadata": {},
     "output_type": "execute_result"
    }
   ],
   "source": [
    "y = df_arima['VALOR_REEMBOLSADO']\n",
    "y.head()"
   ]
  },
  {
   "cell_type": "code",
   "execution_count": 139,
   "metadata": {},
   "outputs": [
    {
     "name": "stdout",
     "output_type": "stream",
     "text": [
      "(-4.098343182337002, 0.0009746499380548317, 12, 138, {'1%': -3.47864788917503, '5%': -2.882721765644168, '10%': -2.578065326612056}, 3801.5401570361273)\n",
      "p-valor: 0.0009746499380548317\n"
     ]
    }
   ],
   "source": [
    "from statsmodels.tsa.stattools import adfuller\n",
    "print(adfuller(y.dropna()))\n",
    "print('p-valor:',adfuller(y.dropna())[1] )"
   ]
  },
  {
   "cell_type": "code",
   "execution_count": 140,
   "metadata": {},
   "outputs": [
    {
     "data": {
      "image/png": "[encoded data removed]",
      "text/plain": [
       "<Figure size 720x720 with 2 Axes>"
      ]
     },
     "metadata": {
      "needs_background": "light"
     },
     "output_type": "display_data"
    }
   ],
   "source": [
    "from statsmodels.graphics.tsaplots import plot_acf,plot_pacf\n",
    "def plotarACF(y1,y2):\n",
    "    fig = plt.figure(figsize=(10,10))\n",
    "    ax1 = fig.add_subplot(311)#3 linhas, 1 coluna, graph 1\n",
    "    fig = plot_acf(y1,ax=ax1,title='Original')\n",
    "    ax2 = fig.add_subplot(312)#3 linhas, 1 coluna, graph 2\n",
    "    fig = plot_acf(y2,ax=ax2,title='1ª Diferenciação')\n",
    "    plt.show()\n",
    "plotarACF(y,y.diff().dropna())"
   ]
  },
  {
   "cell_type": "code",
   "execution_count": 141,
   "metadata": {
    "scrolled": false
   },
   "outputs": [
    {
     "data": {
      "image/png": "[encoded data removed]",
      "text/plain": [
       "<Figure size 720x720 with 2 Axes>"
      ]
     },
     "metadata": {
      "needs_background": "light"
     },
     "output_type": "display_data"
    }
   ],
   "source": [
    "def plotarPACF(y1,y2):\n",
    "    fig = plt.figure(figsize=(10,10))\n",
    "    ax1 = fig.add_subplot(311)#3 linhas, 1 coluna, graph 1\n",
    "    fig = plot_pacf(y1,ax=ax1,title='Original')\n",
    "    ax2 = fig.add_subplot(312)#3 linhas, 1 coluna, graph 2\n",
    "    fig = plot_pacf(y2,ax=ax2,title='1ª Diferenciação')\n",
    "    plt.show()\n",
    "plotarPACF(y,y.diff().dropna());#ponto e virgula para aparece apenas um resultado"
   ]
  },
  {
   "cell_type": "code",
   "execution_count": 155,
   "metadata": {},
   "outputs": [
    {
     "data": {
      "text/plain": [
       "PERIODO\n",
       "2010-01     797009.90\n",
       "2010-02     836040.72\n",
       "2010-03    1077340.24\n",
       "2010-04     900934.90\n",
       "2010-05     897544.91\n",
       "              ...    \n",
       "2022-03    2678668.99\n",
       "2022-04    2334118.46\n",
       "2022-05    2466599.08\n",
       "2022-06    2094922.43\n",
       "2022-07    2013869.35\n",
       "Freq: M, Name: VALOR_REEMBOLSADO, Length: 151, dtype: float64"
      ]
     },
     "execution_count": 155,
     "metadata": {},
     "output_type": "execute_result"
    }
   ],
   "source": [
    "y = df_arima['VALOR_REEMBOLSADO']\n",
    "y"
   ]
  },
  {
   "cell_type": "markdown",
   "metadata": {},
   "source": [
    "#### Prevendo o futuro\n",
    "\n",
    "Separando o teste do treino"
   ]
  },
  {
   "cell_type": "code",
   "execution_count": 156,
   "metadata": {
    "scrolled": false
   },
   "outputs": [
    {
     "data": {
      "text/plain": [
       "[(0, 0, 0),\n",
       " (0, 0, 1),\n",
       " (0, 1, 0),\n",
       " (0, 1, 1),\n",
       " (1, 0, 0),\n",
       " (1, 0, 1),\n",
       " (1, 1, 0),\n",
       " (1, 1, 1)]"
      ]
     },
     "execution_count": 156,
     "metadata": {},
     "output_type": "execute_result"
    }
   ],
   "source": [
    "import itertools\n",
    "p=d=q=range(0,2)\n",
    "pdq = list(itertools.product(p, d, q))\n",
    "pdq"
   ]
  },
  {
   "cell_type": "code",
   "execution_count": 201,
   "metadata": {},
   "outputs": [
    {
     "data": {
      "text/plain": [
       "(1, 1, 1)"
      ]
     },
     "execution_count": 201,
     "metadata": {},
     "output_type": "execute_result"
    }
   ],
   "source": [
    "from statsmodels.tsa.arima.model import ARIMA\n",
    "aic_lista = []\n",
    "param_lista=[]\n",
    "for param in pdq: \n",
    "    mod = ARIMA(y,order=param)\n",
    "    results = mod.fit()\n",
    "    aic_lista.append(results.aic)\n",
    "    param_lista.append(param)\n",
    "    \n",
    "param_lista[aic_lista.index(min(aic_lista))]"
   ]
  },
  {
   "cell_type": "code",
   "execution_count": 202,
   "metadata": {},
   "outputs": [
    {
     "data": {
      "image/png": "[encoded data removed]",
      "text/plain": [
       "<Figure size 1152x576 with 4 Axes>"
      ]
     },
     "metadata": {
      "needs_background": "light"
     },
     "output_type": "display_data"
    }
   ],
   "source": [
    "\n",
    "mod = ARIMA(y,order=(1,1,1))#,freq='D')\n",
    "results = mod.fit()\n",
    "results.plot_diagnostics(figsize=(16,8))\n",
    "plt.show()"
   ]
  },
  {
   "cell_type": "code",
   "execution_count": null,
   "metadata": {
    "scrolled": true
   },
   "outputs": [],
   "source": []
  },
  {
   "cell_type": "code",
   "execution_count": 207,
   "metadata": {
    "scrolled": true
   },
   "outputs": [
    {
     "data": {
      "image/png": "[encoded data removed]",
      "text/plain": [
       "<Figure size 1008x504 with 1 Axes>"
      ]
     },
     "metadata": {
      "needs_background": "light"
     },
     "output_type": "display_data"
    },
    {
     "data": {
      "text/html": [
       "<div>\n",
       "<style scoped>\n",
       "    .dataframe tbody tr th:only-of-type {\n",
       "        vertical-align: middle;\n",
       "    }\n",
       "\n",
       "    .dataframe tbody tr th {\n",
       "        vertical-align: top;\n",
       "    }\n",
       "\n",
       "    .dataframe thead th {\n",
       "        text-align: right;\n",
       "    }\n",
       "</style>\n",
       "<table border=\"1\" class=\"dataframe\">\n",
       "  <thead>\n",
       "    <tr style=\"text-align: right;\">\n",
       "      <th></th>\n",
       "      <th>lower VALOR_REEMBOLSADO</th>\n",
       "      <th>upper VALOR_REEMBOLSADO</th>\n",
       "    </tr>\n",
       "    <tr>\n",
       "      <th>PERIODO</th>\n",
       "      <th></th>\n",
       "      <th></th>\n",
       "    </tr>\n",
       "  </thead>\n",
       "  <tbody>\n",
       "    <tr>\n",
       "      <th>2019-01</th>\n",
       "      <td>1.676640e+06</td>\n",
       "      <td>3.123822e+06</td>\n",
       "    </tr>\n",
       "    <tr>\n",
       "      <th>2019-02</th>\n",
       "      <td>1.251711e+06</td>\n",
       "      <td>2.698892e+06</td>\n",
       "    </tr>\n",
       "    <tr>\n",
       "      <th>2019-03</th>\n",
       "      <td>1.214026e+06</td>\n",
       "      <td>2.661207e+06</td>\n",
       "    </tr>\n",
       "    <tr>\n",
       "      <th>2019-04</th>\n",
       "      <td>1.229928e+06</td>\n",
       "      <td>2.677110e+06</td>\n",
       "    </tr>\n",
       "    <tr>\n",
       "      <th>2019-05</th>\n",
       "      <td>1.278758e+06</td>\n",
       "      <td>2.725939e+06</td>\n",
       "    </tr>\n",
       "    <tr>\n",
       "      <th>2019-06</th>\n",
       "      <td>1.354810e+06</td>\n",
       "      <td>2.801991e+06</td>\n",
       "    </tr>\n",
       "    <tr>\n",
       "      <th>2019-07</th>\n",
       "      <td>1.383733e+06</td>\n",
       "      <td>2.830915e+06</td>\n",
       "    </tr>\n",
       "    <tr>\n",
       "      <th>2019-08</th>\n",
       "      <td>1.270899e+06</td>\n",
       "      <td>2.718081e+06</td>\n",
       "    </tr>\n",
       "    <tr>\n",
       "      <th>2019-09</th>\n",
       "      <td>1.372495e+06</td>\n",
       "      <td>2.819677e+06</td>\n",
       "    </tr>\n",
       "    <tr>\n",
       "      <th>2019-10</th>\n",
       "      <td>1.397353e+06</td>\n",
       "      <td>2.844535e+06</td>\n",
       "    </tr>\n",
       "    <tr>\n",
       "      <th>2019-11</th>\n",
       "      <td>1.543081e+06</td>\n",
       "      <td>2.990262e+06</td>\n",
       "    </tr>\n",
       "    <tr>\n",
       "      <th>2019-12</th>\n",
       "      <td>1.560161e+06</td>\n",
       "      <td>3.007343e+06</td>\n",
       "    </tr>\n",
       "    <tr>\n",
       "      <th>2020-01</th>\n",
       "      <td>1.605996e+06</td>\n",
       "      <td>3.053178e+06</td>\n",
       "    </tr>\n",
       "    <tr>\n",
       "      <th>2020-02</th>\n",
       "      <td>1.190061e+06</td>\n",
       "      <td>2.637243e+06</td>\n",
       "    </tr>\n",
       "    <tr>\n",
       "      <th>2020-03</th>\n",
       "      <td>1.320467e+06</td>\n",
       "      <td>2.767649e+06</td>\n",
       "    </tr>\n",
       "    <tr>\n",
       "      <th>2020-04</th>\n",
       "      <td>1.268356e+06</td>\n",
       "      <td>2.715537e+06</td>\n",
       "    </tr>\n",
       "    <tr>\n",
       "      <th>2020-05</th>\n",
       "      <td>1.023498e+06</td>\n",
       "      <td>2.470680e+06</td>\n",
       "    </tr>\n",
       "    <tr>\n",
       "      <th>2020-06</th>\n",
       "      <td>9.574937e+05</td>\n",
       "      <td>2.404675e+06</td>\n",
       "    </tr>\n",
       "    <tr>\n",
       "      <th>2020-07</th>\n",
       "      <td>8.601729e+05</td>\n",
       "      <td>2.307354e+06</td>\n",
       "    </tr>\n",
       "    <tr>\n",
       "      <th>2020-08</th>\n",
       "      <td>8.465919e+05</td>\n",
       "      <td>2.293773e+06</td>\n",
       "    </tr>\n",
       "    <tr>\n",
       "      <th>2020-09</th>\n",
       "      <td>8.296823e+05</td>\n",
       "      <td>2.276864e+06</td>\n",
       "    </tr>\n",
       "    <tr>\n",
       "      <th>2020-10</th>\n",
       "      <td>9.058227e+05</td>\n",
       "      <td>2.353004e+06</td>\n",
       "    </tr>\n",
       "    <tr>\n",
       "      <th>2020-11</th>\n",
       "      <td>9.395452e+05</td>\n",
       "      <td>2.386727e+06</td>\n",
       "    </tr>\n",
       "    <tr>\n",
       "      <th>2020-12</th>\n",
       "      <td>9.898111e+05</td>\n",
       "      <td>2.436993e+06</td>\n",
       "    </tr>\n",
       "    <tr>\n",
       "      <th>2021-01</th>\n",
       "      <td>1.437307e+06</td>\n",
       "      <td>2.884489e+06</td>\n",
       "    </tr>\n",
       "    <tr>\n",
       "      <th>2021-02</th>\n",
       "      <td>1.028160e+06</td>\n",
       "      <td>2.475341e+06</td>\n",
       "    </tr>\n",
       "    <tr>\n",
       "      <th>2021-03</th>\n",
       "      <td>1.066218e+06</td>\n",
       "      <td>2.513399e+06</td>\n",
       "    </tr>\n",
       "    <tr>\n",
       "      <th>2021-04</th>\n",
       "      <td>1.078645e+06</td>\n",
       "      <td>2.525827e+06</td>\n",
       "    </tr>\n",
       "    <tr>\n",
       "      <th>2021-05</th>\n",
       "      <td>1.050099e+06</td>\n",
       "      <td>2.497280e+06</td>\n",
       "    </tr>\n",
       "    <tr>\n",
       "      <th>2021-06</th>\n",
       "      <td>1.158958e+06</td>\n",
       "      <td>2.606139e+06</td>\n",
       "    </tr>\n",
       "    <tr>\n",
       "      <th>2021-07</th>\n",
       "      <td>1.236984e+06</td>\n",
       "      <td>2.684165e+06</td>\n",
       "    </tr>\n",
       "    <tr>\n",
       "      <th>2021-08</th>\n",
       "      <td>1.243430e+06</td>\n",
       "      <td>2.690612e+06</td>\n",
       "    </tr>\n",
       "    <tr>\n",
       "      <th>2021-09</th>\n",
       "      <td>1.470955e+06</td>\n",
       "      <td>2.918137e+06</td>\n",
       "    </tr>\n",
       "    <tr>\n",
       "      <th>2021-10</th>\n",
       "      <td>1.448566e+06</td>\n",
       "      <td>2.895747e+06</td>\n",
       "    </tr>\n",
       "    <tr>\n",
       "      <th>2021-11</th>\n",
       "      <td>1.495514e+06</td>\n",
       "      <td>2.942695e+06</td>\n",
       "    </tr>\n",
       "    <tr>\n",
       "      <th>2021-12</th>\n",
       "      <td>1.604644e+06</td>\n",
       "      <td>3.051825e+06</td>\n",
       "    </tr>\n",
       "    <tr>\n",
       "      <th>2022-01</th>\n",
       "      <td>1.601985e+06</td>\n",
       "      <td>3.049167e+06</td>\n",
       "    </tr>\n",
       "    <tr>\n",
       "      <th>2022-02</th>\n",
       "      <td>1.361449e+06</td>\n",
       "      <td>2.808631e+06</td>\n",
       "    </tr>\n",
       "    <tr>\n",
       "      <th>2022-03</th>\n",
       "      <td>1.470091e+06</td>\n",
       "      <td>2.917272e+06</td>\n",
       "    </tr>\n",
       "    <tr>\n",
       "      <th>2022-04</th>\n",
       "      <td>1.670773e+06</td>\n",
       "      <td>3.117955e+06</td>\n",
       "    </tr>\n",
       "    <tr>\n",
       "      <th>2022-05</th>\n",
       "      <td>1.592704e+06</td>\n",
       "      <td>3.039886e+06</td>\n",
       "    </tr>\n",
       "    <tr>\n",
       "      <th>2022-06</th>\n",
       "      <td>1.652770e+06</td>\n",
       "      <td>3.099952e+06</td>\n",
       "    </tr>\n",
       "    <tr>\n",
       "      <th>2022-07</th>\n",
       "      <td>1.517399e+06</td>\n",
       "      <td>2.964581e+06</td>\n",
       "    </tr>\n",
       "  </tbody>\n",
       "</table>\n",
       "</div>"
      ],
      "text/plain": [
       "         lower VALOR_REEMBOLSADO  upper VALOR_REEMBOLSADO\n",
       "PERIODO                                                  \n",
       "2019-01             1.676640e+06             3.123822e+06\n",
       "2019-02             1.251711e+06             2.698892e+06\n",
       "2019-03             1.214026e+06             2.661207e+06\n",
       "2019-04             1.229928e+06             2.677110e+06\n",
       "2019-05             1.278758e+06             2.725939e+06\n",
       "2019-06             1.354810e+06             2.801991e+06\n",
       "2019-07             1.383733e+06             2.830915e+06\n",
       "2019-08             1.270899e+06             2.718081e+06\n",
       "2019-09             1.372495e+06             2.819677e+06\n",
       "2019-10             1.397353e+06             2.844535e+06\n",
       "2019-11             1.543081e+06             2.990262e+06\n",
       "2019-12             1.560161e+06             3.007343e+06\n",
       "2020-01             1.605996e+06             3.053178e+06\n",
       "2020-02             1.190061e+06             2.637243e+06\n",
       "2020-03             1.320467e+06             2.767649e+06\n",
       "2020-04             1.268356e+06             2.715537e+06\n",
       "2020-05             1.023498e+06             2.470680e+06\n",
       "2020-06             9.574937e+05             2.404675e+06\n",
       "2020-07             8.601729e+05             2.307354e+06\n",
       "2020-08             8.465919e+05             2.293773e+06\n",
       "2020-09             8.296823e+05             2.276864e+06\n",
       "2020-10             9.058227e+05             2.353004e+06\n",
       "2020-11             9.395452e+05             2.386727e+06\n",
       "2020-12             9.898111e+05             2.436993e+06\n",
       "2021-01             1.437307e+06             2.884489e+06\n",
       "2021-02             1.028160e+06             2.475341e+06\n",
       "2021-03             1.066218e+06             2.513399e+06\n",
       "2021-04             1.078645e+06             2.525827e+06\n",
       "2021-05             1.050099e+06             2.497280e+06\n",
       "2021-06             1.158958e+06             2.606139e+06\n",
       "2021-07             1.236984e+06             2.684165e+06\n",
       "2021-08             1.243430e+06             2.690612e+06\n",
       "2021-09             1.470955e+06             2.918137e+06\n",
       "2021-10             1.448566e+06             2.895747e+06\n",
       "2021-11             1.495514e+06             2.942695e+06\n",
       "2021-12             1.604644e+06             3.051825e+06\n",
       "2022-01             1.601985e+06             3.049167e+06\n",
       "2022-02             1.361449e+06             2.808631e+06\n",
       "2022-03             1.470091e+06             2.917272e+06\n",
       "2022-04             1.670773e+06             3.117955e+06\n",
       "2022-05             1.592704e+06             3.039886e+06\n",
       "2022-06             1.652770e+06             3.099952e+06\n",
       "2022-07             1.517399e+06             2.964581e+06"
      ]
     },
     "execution_count": 207,
     "metadata": {},
     "output_type": "execute_result"
    }
   ],
   "source": [
    "pred=results.get_prediction(start=pd.to_datetime('2019-01-19'),dynamic=False)\n",
    "#intervalo de confiança\n",
    "pred_ic= pred.conf_int()\n",
    "\n",
    "ax=y.plot(label='Observado', figsize=(14,7))\n",
    "pred.predicted_mean.plot(ax=ax, label='Previsto')\n",
    "ax.fill_between(pred_ic.index, pred_ic.iloc[:,0], pred_ic.iloc[:,1], color='k', alpha=0.25)\n",
    "ax.set_xlabel('Data')\n",
    "ax.set_ylabel('Valor reembolsado pelos senadores (R$)')\n",
    "plt.legend()\n",
    "plt.show()\n",
    "pred_ic"
   ]
  },
  {
   "cell_type": "code",
   "execution_count": 208,
   "metadata": {},
   "outputs": [
    {
     "data": {
      "image/png": "[encoded data removed]",
      "text/plain": [
       "<Figure size 1008x504 with 1 Axes>"
      ]
     },
     "metadata": {
      "needs_background": "light"
     },
     "output_type": "display_data"
    }
   ],
   "source": [
    "pred_uc = results.get_forecast(steps=10)\n",
    "pred_ic = pred_uc.conf_int()\n",
    "ax=y.plot(label='Observado', figsize=(14,7))\n",
    "pred_uc.predicted_mean.plot(ax=ax, label='Previsto')\n",
    "\n",
    "ax.fill_between(pred_ic.index, pred_ic.iloc[:,0], pred_ic.iloc[:,1], color='k', alpha=0.25)\n",
    "ax.set_xlabel('Data')\n",
    "ax.set_ylabel('Valor reembolsado pelos senadores (R$)')\n",
    "plt.legend()\n",
    "plt.show()\n",
    "\n"
   ]
  },
  {
   "cell_type": "code",
   "execution_count": null,
   "metadata": {},
   "outputs": [],
   "source": []
  },
  {
   "cell_type": "code",
   "execution_count": null,
   "metadata": {},
   "outputs": [],
   "source": []
  },
  {
   "cell_type": "code",
   "execution_count": null,
   "metadata": {},
   "outputs": [],
   "source": []
  }
 ],
 "metadata": {
  "kernelspec": {
   "display_name": "Python 3",
   "language": "python",
   "name": "python3"
  },
  "language_info": {
   "codemirror_mode": {
    "name": "ipython",
    "version": 3
   },
   "file_extension": ".py",
   "mimetype": "text/x-python",
   "name": "python",
   "nbconvert_exporter": "python",
   "pygments_lexer": "ipython3",
   "version": "3.8.5"
  }
 },
 "nbformat": 4,
 "nbformat_minor": 4
}
