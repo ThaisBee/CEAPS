{
 "cells": [
  {
   "cell_type": "markdown",
   "metadata": {},
   "source": [
    "# DATA SCIENCE USANDO DADOS DO CEAPS  \n",
    "\n",
    "Nesse trabalho usaremos um dataset coletado do portal do CEAPS (Cota para Exercício da Atividade Parlamentar dos Senadores). Nesse dataset temos informações a respeito dos gastos declarados dos senadores. O objetivo deste tralho é limpar e tratar os dados para, por fim, realizar análises que podem ser úteis para avaliar o gasto dos senadores.\n",
    "\n",
    "1. Lendo o dataset e concatenado em um único Data Frame\n",
    "2. Explorando o DATASET\n",
    "3. DATA Cleaning\n",
    "    - Limpando a coluna COD_DOCUMENTO\n",
    "    - Limpando a coluna DATA\n",
    "    - Limpando a coluna VALOR_REEMBOLSADO\n",
    "    - Transformando a coluna DOCUMENTO em dados booleanos\n",
    "    - Convertendo variáveis categóricas em variáveis dummies da coluna TIPO_DESPESA\n",
    "    - Removendo as colunas que não participarão da análise dos dados\n",
    "\n",
    "    \n"
   ]
  },
  {
   "cell_type": "markdown",
   "metadata": {},
   "source": [
    "## 1. Lendo o dataset e concatenado em um único Data Frame"
   ]
  },
  {
   "cell_type": "code",
   "execution_count": 1,
   "metadata": {},
   "outputs": [],
   "source": [
    "import pandas as pd"
   ]
  },
  {
   "cell_type": "markdown",
   "metadata": {},
   "source": [
    "Como o arquivo não abriu imediatamente com o método `read_csv` do pandas, de modo que houve um erro dizendo que o arquivo não poderia ser decodificado, então há a necessidade de determinar o  encoding do arquivo. Para isso, importaremos o `chardet.detect` e prosseguiremos da seguinte maneira:"
   ]
  },
  {
   "cell_type": "code",
   "execution_count": 2,
   "metadata": {},
   "outputs": [
    {
     "data": {
      "text/plain": [
       "{'encoding': 'ISO-8859-1', 'confidence': 0.73, 'language': ''}"
      ]
     },
     "execution_count": 2,
     "metadata": {},
     "output_type": "execute_result"
    }
   ],
   "source": [
    "import chardet\n",
    "with open('dados/despesa_ceaps_2019.csv', 'rb') as rawdata:\n",
    "    result = chardet.detect(rawdata.read(100000))\n",
    "result"
   ]
  },
  {
   "cell_type": "markdown",
   "metadata": {},
   "source": [
    "Agora que sabemos o provável encoding dos dados, isto é, `ISO-8859-1`, vamos usar essa informação no método `read_csv()` do pandas e verificar se todos os arquivos do dataset serão lidos.\n",
    "\n",
    "Quando estamos trabalhando com dados 'crus' ou RAW data, temos que estar atentos para células que estão preenchidas com valores NaN, ou seja, valores não numéricos que não agregam para a análise posterior dos dados. Para isso usaremos o método `isna()` do pandas, somando todos os números para facilitar a compreensão. Além disso, calcularemos a porcentagem de valores NaN por ano para cada uma das colunas.\n"
   ]
  },
  {
   "cell_type": "code",
   "execution_count": 3,
   "metadata": {},
   "outputs": [],
   "source": [
    "df_list=[]\n",
    "isna_by_year=[]\n",
    "anos = range(2008,2023)\n",
    "for ano in anos:\n",
    "    path='dados/despesa_ceaps_'+str(ano)+'.csv'\n",
    "    df = pd.read_csv(path,sep=\";\",skiprows=1,encoding='ISO-8859-1')\n",
    "    df_list.append(df)\n",
    "    isna_by_year.append(df.isna().sum().values/df.shape[0])\n"
   ]
  },
  {
   "cell_type": "markdown",
   "metadata": {},
   "source": [
    "Após criar um dataframe para que arquivo csv, vamos concatenar todos eles em um único data frame."
   ]
  },
  {
   "cell_type": "code",
   "execution_count": 4,
   "metadata": {
    "scrolled": false
   },
   "outputs": [],
   "source": [
    "df = pd.concat(df_list, ignore_index=True)"
   ]
  },
  {
   "cell_type": "markdown",
   "metadata": {},
   "source": [
    "## 2. Explorando o DATASET"
   ]
  },
  {
   "cell_type": "markdown",
   "metadata": {},
   "source": [
    "Agora que temos todo o dataset podemos fazer uma análise exploratória dos dados."
   ]
  },
  {
   "cell_type": "code",
   "execution_count": 5,
   "metadata": {},
   "outputs": [
    {
     "data": {
      "text/html": [
       "<div>\n",
       "<style scoped>\n",
       "    .dataframe tbody tr th:only-of-type {\n",
       "        vertical-align: middle;\n",
       "    }\n",
       "\n",
       "    .dataframe tbody tr th {\n",
       "        vertical-align: top;\n",
       "    }\n",
       "\n",
       "    .dataframe thead th {\n",
       "        text-align: right;\n",
       "    }\n",
       "</style>\n",
       "<table border=\"1\" class=\"dataframe\">\n",
       "  <thead>\n",
       "    <tr style=\"text-align: right;\">\n",
       "      <th></th>\n",
       "      <th>ANO</th>\n",
       "      <th>MES</th>\n",
       "      <th>SENADOR</th>\n",
       "      <th>TIPO_DESPESA</th>\n",
       "      <th>CNPJ_CPF</th>\n",
       "      <th>FORNECEDOR</th>\n",
       "      <th>DOCUMENTO</th>\n",
       "      <th>DATA</th>\n",
       "      <th>DETALHAMENTO</th>\n",
       "      <th>VALOR_REEMBOLSADO</th>\n",
       "      <th>COD_DOCUMENTO</th>\n",
       "    </tr>\n",
       "  </thead>\n",
       "  <tbody>\n",
       "    <tr>\n",
       "      <th>0</th>\n",
       "      <td>2008</td>\n",
       "      <td>9</td>\n",
       "      <td>ADA MELLO</td>\n",
       "      <td>Contratação de consultorias, assessorias, pesq...</td>\n",
       "      <td>NaN</td>\n",
       "      <td>NaN</td>\n",
       "      <td>NaN</td>\n",
       "      <td>NaN</td>\n",
       "      <td>NaN</td>\n",
       "      <td>12351,52</td>\n",
       "      <td>2.008091e+12</td>\n",
       "    </tr>\n",
       "    <tr>\n",
       "      <th>1</th>\n",
       "      <td>2008</td>\n",
       "      <td>9</td>\n",
       "      <td>ADA MELLO</td>\n",
       "      <td>Locomoção, hospedagem, alimentação, combustíve...</td>\n",
       "      <td>NaN</td>\n",
       "      <td>NaN</td>\n",
       "      <td>NaN</td>\n",
       "      <td>NaN</td>\n",
       "      <td>NaN</td>\n",
       "      <td>386,6</td>\n",
       "      <td>2.008091e+12</td>\n",
       "    </tr>\n",
       "    <tr>\n",
       "      <th>2</th>\n",
       "      <td>2008</td>\n",
       "      <td>10</td>\n",
       "      <td>ADA MELLO</td>\n",
       "      <td>Contratação de consultorias, assessorias, pesq...</td>\n",
       "      <td>NaN</td>\n",
       "      <td>NaN</td>\n",
       "      <td>NaN</td>\n",
       "      <td>NaN</td>\n",
       "      <td>NaN</td>\n",
       "      <td>12351,52</td>\n",
       "      <td>2.008101e+12</td>\n",
       "    </tr>\n",
       "    <tr>\n",
       "      <th>3</th>\n",
       "      <td>2008</td>\n",
       "      <td>10</td>\n",
       "      <td>ADA MELLO</td>\n",
       "      <td>Locomoção, hospedagem, alimentação, combustíve...</td>\n",
       "      <td>NaN</td>\n",
       "      <td>NaN</td>\n",
       "      <td>NaN</td>\n",
       "      <td>NaN</td>\n",
       "      <td>NaN</td>\n",
       "      <td>2610,68</td>\n",
       "      <td>2.008101e+12</td>\n",
       "    </tr>\n",
       "    <tr>\n",
       "      <th>4</th>\n",
       "      <td>2008</td>\n",
       "      <td>11</td>\n",
       "      <td>ADA MELLO</td>\n",
       "      <td>Contratação de consultorias, assessorias, pesq...</td>\n",
       "      <td>NaN</td>\n",
       "      <td>NaN</td>\n",
       "      <td>NaN</td>\n",
       "      <td>NaN</td>\n",
       "      <td>NaN</td>\n",
       "      <td>12351,52</td>\n",
       "      <td>2.008111e+12</td>\n",
       "    </tr>\n",
       "  </tbody>\n",
       "</table>\n",
       "</div>"
      ],
      "text/plain": [
       "    ANO  MES    SENADOR                                       TIPO_DESPESA  \\\n",
       "0  2008    9  ADA MELLO  Contratação de consultorias, assessorias, pesq...   \n",
       "1  2008    9  ADA MELLO  Locomoção, hospedagem, alimentação, combustíve...   \n",
       "2  2008   10  ADA MELLO  Contratação de consultorias, assessorias, pesq...   \n",
       "3  2008   10  ADA MELLO  Locomoção, hospedagem, alimentação, combustíve...   \n",
       "4  2008   11  ADA MELLO  Contratação de consultorias, assessorias, pesq...   \n",
       "\n",
       "  CNPJ_CPF FORNECEDOR DOCUMENTO DATA DETALHAMENTO VALOR_REEMBOLSADO  \\\n",
       "0      NaN        NaN       NaN  NaN          NaN          12351,52   \n",
       "1      NaN        NaN       NaN  NaN          NaN             386,6   \n",
       "2      NaN        NaN       NaN  NaN          NaN          12351,52   \n",
       "3      NaN        NaN       NaN  NaN          NaN           2610,68   \n",
       "4      NaN        NaN       NaN  NaN          NaN          12351,52   \n",
       "\n",
       "   COD_DOCUMENTO  \n",
       "0   2.008091e+12  \n",
       "1   2.008091e+12  \n",
       "2   2.008101e+12  \n",
       "3   2.008101e+12  \n",
       "4   2.008111e+12  "
      ]
     },
     "execution_count": 5,
     "metadata": {},
     "output_type": "execute_result"
    }
   ],
   "source": [
    "df.head()"
   ]
  },
  {
   "cell_type": "code",
   "execution_count": 6,
   "metadata": {
    "scrolled": false
   },
   "outputs": [
    {
     "name": "stdout",
     "output_type": "stream",
     "text": [
      "O dataframe df possui 312597 linhas e 11 colunas\n"
     ]
    }
   ],
   "source": [
    "print('O dataframe df possui %d linhas e %d colunas'%(df.shape[0],df.shape[1]))"
   ]
  },
  {
   "cell_type": "markdown",
   "metadata": {},
   "source": [
    "Conseguimos informações interessantes com o método `info()` do DataFrame, como, por exemplo, o Data type e a quantidados de valores não nulos."
   ]
  },
  {
   "cell_type": "code",
   "execution_count": 7,
   "metadata": {
    "scrolled": false
   },
   "outputs": [
    {
     "name": "stdout",
     "output_type": "stream",
     "text": [
      "<class 'pandas.core.frame.DataFrame'>\n",
      "RangeIndex: 312597 entries, 0 to 312596\n",
      "Data columns (total 11 columns):\n",
      " #   Column             Non-Null Count   Dtype  \n",
      "---  ------             --------------   -----  \n",
      " 0   ANO                312597 non-null  int64  \n",
      " 1   MES                312597 non-null  int64  \n",
      " 2   SENADOR            312597 non-null  object \n",
      " 3   TIPO_DESPESA       312597 non-null  object \n",
      " 4   CNPJ_CPF           309453 non-null  object \n",
      " 5   FORNECEDOR         309453 non-null  object \n",
      " 6   DOCUMENTO          288099 non-null  object \n",
      " 7   DATA               309453 non-null  object \n",
      " 8   DETALHAMENTO       177658 non-null  object \n",
      " 9   VALOR_REEMBOLSADO  312597 non-null  object \n",
      " 10  COD_DOCUMENTO      312595 non-null  float64\n",
      "dtypes: float64(1), int64(2), object(8)\n",
      "memory usage: 26.2+ MB\n"
     ]
    }
   ],
   "source": [
    "df.info()"
   ]
  },
  {
   "cell_type": "markdown",
   "metadata": {},
   "source": [
    "Verificando se há valores NaN"
   ]
  },
  {
   "cell_type": "code",
   "execution_count": 8,
   "metadata": {
    "scrolled": true
   },
   "outputs": [
    {
     "data": {
      "text/plain": [
       "ANO                       0\n",
       "MES                       0\n",
       "SENADOR                   0\n",
       "TIPO_DESPESA              0\n",
       "CNPJ_CPF               3144\n",
       "FORNECEDOR             3144\n",
       "DOCUMENTO             24498\n",
       "DATA                   3144\n",
       "DETALHAMENTO         134939\n",
       "VALOR_REEMBOLSADO         0\n",
       "COD_DOCUMENTO             2\n",
       "dtype: int64"
      ]
     },
     "execution_count": 8,
     "metadata": {},
     "output_type": "execute_result"
    }
   ],
   "source": [
    "df.isna().sum()"
   ]
  },
  {
   "cell_type": "markdown",
   "metadata": {},
   "source": [
    "Verificando se há valores Null"
   ]
  },
  {
   "cell_type": "code",
   "execution_count": 9,
   "metadata": {
    "scrolled": false
   },
   "outputs": [
    {
     "data": {
      "text/plain": [
       "ANO                       0\n",
       "MES                       0\n",
       "SENADOR                   0\n",
       "TIPO_DESPESA              0\n",
       "CNPJ_CPF               3144\n",
       "FORNECEDOR             3144\n",
       "DOCUMENTO             24498\n",
       "DATA                   3144\n",
       "DETALHAMENTO         134939\n",
       "VALOR_REEMBOLSADO         0\n",
       "COD_DOCUMENTO             2\n",
       "dtype: int64"
      ]
     },
     "execution_count": 9,
     "metadata": {},
     "output_type": "execute_result"
    }
   ],
   "source": [
    "df.isnull().sum()"
   ]
  },
  {
   "cell_type": "markdown",
   "metadata": {},
   "source": [
    "Agora vamos sesparar uma lista com as colunas que apresentam células com valores não numéricos"
   ]
  },
  {
   "cell_type": "code",
   "execution_count": 10,
   "metadata": {},
   "outputs": [],
   "source": [
    "missing_data_columns=['DETALHAMENTO','CNPJ_CPF','DOCUMENTO','DATA','COD_DOCUMENTO','FORNECEDOR']"
   ]
  },
  {
   "cell_type": "markdown",
   "metadata": {},
   "source": [
    "Fração de dados NaN para cada coluna e para cada ano"
   ]
  },
  {
   "cell_type": "code",
   "execution_count": 11,
   "metadata": {
    "scrolled": true
   },
   "outputs": [
    {
     "data": {
      "text/html": [
       "<div>\n",
       "<style scoped>\n",
       "    .dataframe tbody tr th:only-of-type {\n",
       "        vertical-align: middle;\n",
       "    }\n",
       "\n",
       "    .dataframe tbody tr th {\n",
       "        vertical-align: top;\n",
       "    }\n",
       "\n",
       "    .dataframe thead th {\n",
       "        text-align: right;\n",
       "    }\n",
       "</style>\n",
       "<table border=\"1\" class=\"dataframe\">\n",
       "  <thead>\n",
       "    <tr style=\"text-align: right;\">\n",
       "      <th></th>\n",
       "      <th>ANOS</th>\n",
       "      <th>DETALHAMENTO</th>\n",
       "      <th>CNPJ_CPF</th>\n",
       "      <th>DOCUMENTO</th>\n",
       "      <th>DATA</th>\n",
       "      <th>COD_DOCUMENTO</th>\n",
       "      <th>FORNECEDOR</th>\n",
       "    </tr>\n",
       "  </thead>\n",
       "  <tbody>\n",
       "    <tr>\n",
       "      <th>0</th>\n",
       "      <td>2008</td>\n",
       "      <td>1.000000</td>\n",
       "      <td>1.000000</td>\n",
       "      <td>1.000000</td>\n",
       "      <td>1.000000</td>\n",
       "      <td>0.000000</td>\n",
       "      <td>1.000000</td>\n",
       "    </tr>\n",
       "    <tr>\n",
       "      <th>1</th>\n",
       "      <td>2009</td>\n",
       "      <td>1.000000</td>\n",
       "      <td>0.042172</td>\n",
       "      <td>0.129490</td>\n",
       "      <td>0.042172</td>\n",
       "      <td>0.000000</td>\n",
       "      <td>0.042172</td>\n",
       "    </tr>\n",
       "    <tr>\n",
       "      <th>2</th>\n",
       "      <td>2010</td>\n",
       "      <td>1.000000</td>\n",
       "      <td>0.000000</td>\n",
       "      <td>0.057856</td>\n",
       "      <td>0.000000</td>\n",
       "      <td>0.000000</td>\n",
       "      <td>0.000000</td>\n",
       "    </tr>\n",
       "    <tr>\n",
       "      <th>3</th>\n",
       "      <td>2011</td>\n",
       "      <td>0.801947</td>\n",
       "      <td>0.000000</td>\n",
       "      <td>0.060882</td>\n",
       "      <td>0.000000</td>\n",
       "      <td>0.000000</td>\n",
       "      <td>0.000000</td>\n",
       "    </tr>\n",
       "    <tr>\n",
       "      <th>4</th>\n",
       "      <td>2012</td>\n",
       "      <td>0.743198</td>\n",
       "      <td>0.000000</td>\n",
       "      <td>0.072278</td>\n",
       "      <td>0.000000</td>\n",
       "      <td>0.000000</td>\n",
       "      <td>0.000000</td>\n",
       "    </tr>\n",
       "    <tr>\n",
       "      <th>5</th>\n",
       "      <td>2013</td>\n",
       "      <td>0.177764</td>\n",
       "      <td>0.000000</td>\n",
       "      <td>0.075231</td>\n",
       "      <td>0.000000</td>\n",
       "      <td>0.000000</td>\n",
       "      <td>0.000000</td>\n",
       "    </tr>\n",
       "    <tr>\n",
       "      <th>6</th>\n",
       "      <td>2014</td>\n",
       "      <td>0.001409</td>\n",
       "      <td>0.000000</td>\n",
       "      <td>0.074130</td>\n",
       "      <td>0.000000</td>\n",
       "      <td>0.000000</td>\n",
       "      <td>0.000000</td>\n",
       "    </tr>\n",
       "    <tr>\n",
       "      <th>7</th>\n",
       "      <td>2015</td>\n",
       "      <td>0.155550</td>\n",
       "      <td>0.000000</td>\n",
       "      <td>0.161422</td>\n",
       "      <td>0.000000</td>\n",
       "      <td>0.000077</td>\n",
       "      <td>0.000000</td>\n",
       "    </tr>\n",
       "    <tr>\n",
       "      <th>8</th>\n",
       "      <td>2016</td>\n",
       "      <td>0.202107</td>\n",
       "      <td>0.000000</td>\n",
       "      <td>0.078041</td>\n",
       "      <td>0.000000</td>\n",
       "      <td>0.000000</td>\n",
       "      <td>0.000000</td>\n",
       "    </tr>\n",
       "    <tr>\n",
       "      <th>9</th>\n",
       "      <td>2017</td>\n",
       "      <td>0.227843</td>\n",
       "      <td>0.000000</td>\n",
       "      <td>0.048810</td>\n",
       "      <td>0.000000</td>\n",
       "      <td>0.000000</td>\n",
       "      <td>0.000000</td>\n",
       "    </tr>\n",
       "    <tr>\n",
       "      <th>10</th>\n",
       "      <td>2018</td>\n",
       "      <td>0.229054</td>\n",
       "      <td>0.000000</td>\n",
       "      <td>0.041483</td>\n",
       "      <td>0.000000</td>\n",
       "      <td>0.000000</td>\n",
       "      <td>0.000000</td>\n",
       "    </tr>\n",
       "    <tr>\n",
       "      <th>11</th>\n",
       "      <td>2019</td>\n",
       "      <td>0.394841</td>\n",
       "      <td>0.000000</td>\n",
       "      <td>0.033928</td>\n",
       "      <td>0.000000</td>\n",
       "      <td>0.000000</td>\n",
       "      <td>0.000000</td>\n",
       "    </tr>\n",
       "    <tr>\n",
       "      <th>12</th>\n",
       "      <td>2020</td>\n",
       "      <td>0.487012</td>\n",
       "      <td>0.000000</td>\n",
       "      <td>0.044003</td>\n",
       "      <td>0.000000</td>\n",
       "      <td>0.000000</td>\n",
       "      <td>0.000000</td>\n",
       "    </tr>\n",
       "    <tr>\n",
       "      <th>13</th>\n",
       "      <td>2021</td>\n",
       "      <td>0.453200</td>\n",
       "      <td>0.000000</td>\n",
       "      <td>0.040114</td>\n",
       "      <td>0.000000</td>\n",
       "      <td>0.000000</td>\n",
       "      <td>0.000000</td>\n",
       "    </tr>\n",
       "    <tr>\n",
       "      <th>14</th>\n",
       "      <td>2022</td>\n",
       "      <td>0.466626</td>\n",
       "      <td>0.000000</td>\n",
       "      <td>0.054485</td>\n",
       "      <td>0.000000</td>\n",
       "      <td>0.000000</td>\n",
       "      <td>0.000000</td>\n",
       "    </tr>\n",
       "  </tbody>\n",
       "</table>\n",
       "</div>"
      ],
      "text/plain": [
       "    ANOS  DETALHAMENTO  CNPJ_CPF  DOCUMENTO      DATA  COD_DOCUMENTO  \\\n",
       "0   2008      1.000000  1.000000   1.000000  1.000000       0.000000   \n",
       "1   2009      1.000000  0.042172   0.129490  0.042172       0.000000   \n",
       "2   2010      1.000000  0.000000   0.057856  0.000000       0.000000   \n",
       "3   2011      0.801947  0.000000   0.060882  0.000000       0.000000   \n",
       "4   2012      0.743198  0.000000   0.072278  0.000000       0.000000   \n",
       "5   2013      0.177764  0.000000   0.075231  0.000000       0.000000   \n",
       "6   2014      0.001409  0.000000   0.074130  0.000000       0.000000   \n",
       "7   2015      0.155550  0.000000   0.161422  0.000000       0.000077   \n",
       "8   2016      0.202107  0.000000   0.078041  0.000000       0.000000   \n",
       "9   2017      0.227843  0.000000   0.048810  0.000000       0.000000   \n",
       "10  2018      0.229054  0.000000   0.041483  0.000000       0.000000   \n",
       "11  2019      0.394841  0.000000   0.033928  0.000000       0.000000   \n",
       "12  2020      0.487012  0.000000   0.044003  0.000000       0.000000   \n",
       "13  2021      0.453200  0.000000   0.040114  0.000000       0.000000   \n",
       "14  2022      0.466626  0.000000   0.054485  0.000000       0.000000   \n",
       "\n",
       "    FORNECEDOR  \n",
       "0     1.000000  \n",
       "1     0.042172  \n",
       "2     0.000000  \n",
       "3     0.000000  \n",
       "4     0.000000  \n",
       "5     0.000000  \n",
       "6     0.000000  \n",
       "7     0.000000  \n",
       "8     0.000000  \n",
       "9     0.000000  \n",
       "10    0.000000  \n",
       "11    0.000000  \n",
       "12    0.000000  \n",
       "13    0.000000  \n",
       "14    0.000000  "
      ]
     },
     "execution_count": 11,
     "metadata": {},
     "output_type": "execute_result"
    }
   ],
   "source": [
    "df_na=pd.DataFrame(isna_by_year, columns=df.columns)\n",
    "df_na=df_na[missing_data_columns]\n",
    "df_na.insert(0,'ANOS',anos)\n",
    "df_na"
   ]
  },
  {
   "cell_type": "markdown",
   "metadata": {},
   "source": [
    "## 3. DATA Cleaning"
   ]
  },
  {
   "cell_type": "markdown",
   "metadata": {},
   "source": [
    "### Limpando a coluna COD_DOCUMENTO\n",
    "\n",
    "Na sessão Explorando o Data set vimos que a coluna COD_DOCUMENTO apresentou problemas em apenas duas linhas."
   ]
  },
  {
   "cell_type": "code",
   "execution_count": 12,
   "metadata": {},
   "outputs": [],
   "source": [
    "df_tratado=df.copy()"
   ]
  },
  {
   "cell_type": "code",
   "execution_count": 13,
   "metadata": {
    "scrolled": false
   },
   "outputs": [
    {
     "name": "stdout",
     "output_type": "stream",
     "text": [
      "ANO                                                               2015\n",
      "MES                                                                  8\n",
      "SENADOR                                                 EDUARDO AMORIM\n",
      "TIPO_DESPESA         Passagens aéreas, aquáticas e terrestres nacio...\n",
      "CNPJ_CPF                                            13.353.495/0001-84\n",
      "FORNECEDOR                             PROPAGTUR - Propag Turismo Ltda\n",
      "DOCUMENTO                                      SEM FATURA\";02/08/2015\"\n",
      "DATA                 Companhia Aérea: TAM, Localizador: YXGDSJ. Pas...\n",
      "DETALHAMENTO                                                    469,53\n",
      "VALOR_REEMBOLSADO                                              2014675\n",
      "COD_DOCUMENTO                                                      NaN\n",
      "Name: 150213, dtype: object\n",
      "\n",
      "\n",
      "ANO                                                               2015\n",
      "MES                                                                  8\n",
      "SENADOR                                                 EDUARDO AMORIM\n",
      "TIPO_DESPESA         Passagens aéreas, aquáticas e terrestres nacio...\n",
      "CNPJ_CPF                                            13.353.495/0001-84\n",
      "FORNECEDOR                             PROPAGTUR - Propag Turismo Ltda\n",
      "DOCUMENTO                                    ¨¨SEM FATURA\";17/08/2015\"\n",
      "DATA                 Companhia Aérea: AVIANCA, Localizador: ZNEU9F....\n",
      "DETALHAMENTO                                                    460,45\n",
      "VALOR_REEMBOLSADO                                              2016557\n",
      "COD_DOCUMENTO                                                      NaN\n",
      "Name: 150220, dtype: object\n",
      "\n",
      "\n"
     ]
    }
   ],
   "source": [
    "import numpy as np \n",
    "na_index_list=np.where(df['COD_DOCUMENTO'].isna())[0]\n",
    "for i in na_index_list:\n",
    "    print(df.loc[i])\n",
    "    print('\\n')"
   ]
  },
  {
   "cell_type": "markdown",
   "metadata": {},
   "source": [
    "Isso mostra que, para 2 valores do dataframe, não houve separação em colunas considerando o ';'."
   ]
  },
  {
   "cell_type": "code",
   "execution_count": 14,
   "metadata": {},
   "outputs": [
    {
     "name": "stderr",
     "output_type": "stream",
     "text": [
      "C:\\Users\\abelh\\anaconda3\\lib\\site-packages\\pandas\\core\\indexing.py:670: SettingWithCopyWarning: \n",
      "A value is trying to be set on a copy of a slice from a DataFrame\n",
      "\n",
      "See the caveats in the documentation: https://pandas.pydata.org/pandas-docs/stable/user_guide/indexing.html#returning-a-view-versus-a-copy\n",
      "  iloc._setitem_with_indexer(indexer, value)\n"
     ]
    }
   ],
   "source": [
    "for i in na_index_list:\n",
    "    documento,data=df['DOCUMENTO'].loc[i].split(';')\n",
    "    documento=documento.replace('\\\"','')\n",
    "    data=data.replace('\\\"','')\n",
    "\n",
    "    df_tratado['DOCUMENTO'].loc[i]=documento\n",
    "    df_tratado['DATA'].loc[i]=data\n",
    "    df_tratado['DETALHAMENTO'].loc[i]=df['DATA'].loc[i]\n",
    "    df_tratado['VALOR_REEMBOLSADO'].loc[i]=df['DETALHAMENTO'].loc[i]\n",
    "    df_tratado['COD_DOCUMENTO'].loc[i]=df['VALOR_REEMBOLSADO'].loc[i]"
   ]
  },
  {
   "cell_type": "code",
   "execution_count": 15,
   "metadata": {},
   "outputs": [
    {
     "data": {
      "text/plain": [
       "ANO                                                               2015\n",
       "MES                                                                  8\n",
       "SENADOR                                                 EDUARDO AMORIM\n",
       "TIPO_DESPESA         Passagens aéreas, aquáticas e terrestres nacio...\n",
       "CNPJ_CPF                                            13.353.495/0001-84\n",
       "FORNECEDOR                             PROPAGTUR - Propag Turismo Ltda\n",
       "DOCUMENTO                                                 ¨¨SEM FATURA\n",
       "DATA                                                        17/08/2015\n",
       "DETALHAMENTO         Companhia Aérea: AVIANCA, Localizador: ZNEU9F....\n",
       "VALOR_REEMBOLSADO                                               460,45\n",
       "COD_DOCUMENTO                                                  2016557\n",
       "Name: 150220, dtype: object"
      ]
     },
     "execution_count": 15,
     "metadata": {},
     "output_type": "execute_result"
    }
   ],
   "source": [
    "df_tratado.loc[na_index_list[1]]"
   ]
  },
  {
   "cell_type": "code",
   "execution_count": 16,
   "metadata": {},
   "outputs": [
    {
     "name": "stdout",
     "output_type": "stream",
     "text": [
      "ANO                                                               2015\n",
      "MES                                                                  8\n",
      "SENADOR                                                 EDUARDO AMORIM\n",
      "TIPO_DESPESA         Passagens aéreas, aquáticas e terrestres nacio...\n",
      "CNPJ_CPF                                            13.353.495/0001-84\n",
      "FORNECEDOR                             PROPAGTUR - Propag Turismo Ltda\n",
      "DOCUMENTO                                                 ¨¨SEM FATURA\n",
      "DATA                                                        17/08/2015\n",
      "DETALHAMENTO         Companhia Aérea: AVIANCA, Localizador: ZNEU9F....\n",
      "VALOR_REEMBOLSADO                                               460,45\n",
      "COD_DOCUMENTO                                                  2016557\n",
      "Name: 150220, dtype: object\n"
     ]
    }
   ],
   "source": [
    "i=1\n",
    "print(df_tratado.loc[na_index_list[i]])"
   ]
  },
  {
   "cell_type": "markdown",
   "metadata": {},
   "source": [
    "### Limpando a coluna DATA"
   ]
  },
  {
   "cell_type": "markdown",
   "metadata": {},
   "source": [
    "Observamos na tabela abaixo que, para a coluna DATA, aproximadamente 1% dos dados são NaN"
   ]
  },
  {
   "cell_type": "code",
   "execution_count": 17,
   "metadata": {
    "scrolled": true
   },
   "outputs": [
    {
     "data": {
      "text/plain": [
       "ANO                  0.000000\n",
       "MES                  0.000000\n",
       "SENADOR              0.000000\n",
       "TIPO_DESPESA         0.000000\n",
       "CNPJ_CPF             0.010058\n",
       "FORNECEDOR           0.010058\n",
       "DOCUMENTO            0.078369\n",
       "DATA                 0.010058\n",
       "DETALHAMENTO         0.431671\n",
       "VALOR_REEMBOLSADO    0.000000\n",
       "COD_DOCUMENTO        0.000000\n",
       "dtype: float64"
      ]
     },
     "execution_count": 17,
     "metadata": {},
     "output_type": "execute_result"
    }
   ],
   "source": [
    "df_tratado.isna().sum()/df_tratado.shape[0]"
   ]
  },
  {
   "cell_type": "markdown",
   "metadata": {},
   "source": [
    "Mas como esses valores NaN estão distribuidos ao longo dos anos? Vimos em explorando o dataset que temos 100% dos valores cmo NaN em 2008 e  aproximadamente 42% de valores Nan em 2009."
   ]
  },
  {
   "cell_type": "code",
   "execution_count": 19,
   "metadata": {},
   "outputs": [],
   "source": [
    "import numpy as np"
   ]
  },
  {
   "cell_type": "code",
   "execution_count": 20,
   "metadata": {
    "scrolled": false
   },
   "outputs": [
    {
     "name": "stderr",
     "output_type": "stream",
     "text": [
      "C:\\Users\\abelh\\anaconda3\\lib\\site-packages\\pandas\\core\\indexing.py:670: SettingWithCopyWarning: \n",
      "A value is trying to be set on a copy of a slice from a DataFrame\n",
      "\n",
      "See the caveats in the documentation: https://pandas.pydata.org/pandas-docs/stable/user_guide/indexing.html#returning-a-view-versus-a-copy\n",
      "  iloc._setitem_with_indexer(indexer, value)\n"
     ]
    }
   ],
   "source": [
    "where_is_na=np.where(df_tratado[\"DATA\"].isna())[0]\n",
    "new_date=pd.to_datetime(df_tratado.ANO.astype(str) + '/' + df_tratado.MES.astype(str)+'/01')#.dt.date\n",
    "\n",
    "for i in where_is_na:\n",
    "    df_tratado[\"DATA\"].loc[i]=new_date[i]"
   ]
  },
  {
   "cell_type": "markdown",
   "metadata": {},
   "source": [
    "Agora vamos converter toda a coluna para data. Quando usamos o argumento `errors='coerce'` na função `to_datetime()`, os valores invalidos serão atribuido como `NaT` no dataframe. O array where_is_na indica quais são índices dos elementos do array que foram atribuidos com `True`."
   ]
  },
  {
   "cell_type": "code",
   "execution_count": 21,
   "metadata": {
    "scrolled": true
   },
   "outputs": [],
   "source": [
    "data_tratando=pd.to_datetime(df_tratado[\"DATA\"],errors='coerce')"
   ]
  },
  {
   "cell_type": "code",
   "execution_count": 22,
   "metadata": {},
   "outputs": [
    {
     "name": "stdout",
     "output_type": "stream",
     "text": [
      "Existem 21 valores NaT \n",
      "\n"
     ]
    }
   ],
   "source": [
    "print('Existem %d valores NaT'%(data_tratando.isna().sum()),'\\n')"
   ]
  },
  {
   "cell_type": "code",
   "execution_count": 23,
   "metadata": {
    "scrolled": true
   },
   "outputs": [
    {
     "name": "stdout",
     "output_type": "stream",
     "text": [
      "154649 MES: 10  ANO: 2015 06/10/2915\n",
      "156117 MES: 8  ANO: 2015 26/08/0201\n",
      "156470 MES: 4  ANO: 2015 24/02/5015\n",
      "162852 MES: 4  ANO: 2015 22/04/0215\n",
      "162856 MES: 4  ANO: 2015 23/04/0215\n",
      "167257 MES: 5  ANO: 2015 08/05/5201\n",
      "172538 MES: 10  ANO: 2016 20/07/5017\n",
      "182785 MES: 4  ANO: 2016 02/04/3016\n",
      "183965 MES: 4  ANO: 2016 04/04/0216\n",
      "184080 MES: 10  ANO: 2016 31/10/0200\n",
      "188325 MES: 10  ANO: 2016 31/10/0206\n",
      "203728 MES: 12  ANO: 2017 06/02/1017\n",
      "212862 MES: 11  ANO: 2017 30/11/1201\n",
      "213093 MES: 11  ANO: 2017 09/11/0201\n",
      "215642 MES: 3  ANO: 2017 02/03/0201\n",
      "223560 MES: 3  ANO: 2017 13/02/0217\n",
      "238079 MES: 3  ANO: 2018 09/05/0208\n",
      "240697 MES: 11  ANO: 2018 16/11/1201\n",
      "259616 MES: 1  ANO: 2019 31/01/0219\n",
      "280626 MES: 5  ANO: 2020 05/05/0202\n",
      "286502 MES: 11  ANO: 2021 29/10/0202\n"
     ]
    }
   ],
   "source": [
    "where_is_na=np.where(data_tratando.isna())[0]\n",
    "for i in where_is_na:\n",
    "    print(str(i),\"MES:\",df_tratado['MES'].loc[i],' ANO:',df_tratado['ANO'].loc[i],df_tratado['DATA'].loc[i])"
   ]
  },
  {
   "cell_type": "markdown",
   "metadata": {},
   "source": [
    "Vimos que exitem alguns erros de digitação para os anos, portanto, vamos corrigir esses erros fazendo substituições pelos valores da coluna \"ANO\"."
   ]
  },
  {
   "cell_type": "code",
   "execution_count": 24,
   "metadata": {
    "scrolled": true
   },
   "outputs": [],
   "source": [
    "corrected_dates=[]\n",
    "for i in where_is_na:\n",
    "        d,m,y=df_tratado['DATA'].loc[i].split('/')\n",
    "        corrected_dates.append(str(d)+'/'+m+'/'+str(df_tratado['ANO'].loc[i]))"
   ]
  },
  {
   "cell_type": "code",
   "execution_count": 25,
   "metadata": {},
   "outputs": [],
   "source": [
    "for i in range(len(where_is_na)):\n",
    "        df_tratado['DATA'].loc[where_is_na[i]]=corrected_dates[i]"
   ]
  },
  {
   "cell_type": "markdown",
   "metadata": {},
   "source": [
    "Agora vamos concatenar as colunas 'ANO' e 'MES' na coluna 'PERIODO'"
   ]
  },
  {
   "cell_type": "code",
   "execution_count": 26,
   "metadata": {},
   "outputs": [],
   "source": [
    "ano_mes=pd.to_datetime(df_tratado.ANO.astype(str) + '/' + df_tratado.MES.astype(str) ).dt.to_period('M')\n",
    "df_tratado.insert(0,'PERIODO',ano_mes)"
   ]
  },
  {
   "cell_type": "code",
   "execution_count": 27,
   "metadata": {},
   "outputs": [],
   "source": [
    "df_tratado['DATA']=pd.to_datetime(df_tratado['DATA'],infer_datetime_format=True).dt.date"
   ]
  },
  {
   "cell_type": "code",
   "execution_count": 28,
   "metadata": {},
   "outputs": [
    {
     "data": {
      "text/html": [
       "<div>\n",
       "<style scoped>\n",
       "    .dataframe tbody tr th:only-of-type {\n",
       "        vertical-align: middle;\n",
       "    }\n",
       "\n",
       "    .dataframe tbody tr th {\n",
       "        vertical-align: top;\n",
       "    }\n",
       "\n",
       "    .dataframe thead th {\n",
       "        text-align: right;\n",
       "    }\n",
       "</style>\n",
       "<table border=\"1\" class=\"dataframe\">\n",
       "  <thead>\n",
       "    <tr style=\"text-align: right;\">\n",
       "      <th></th>\n",
       "      <th>PERIODO</th>\n",
       "      <th>ANO</th>\n",
       "      <th>MES</th>\n",
       "      <th>SENADOR</th>\n",
       "      <th>TIPO_DESPESA</th>\n",
       "      <th>CNPJ_CPF</th>\n",
       "      <th>FORNECEDOR</th>\n",
       "      <th>DOCUMENTO</th>\n",
       "      <th>DATA</th>\n",
       "      <th>DETALHAMENTO</th>\n",
       "      <th>VALOR_REEMBOLSADO</th>\n",
       "      <th>COD_DOCUMENTO</th>\n",
       "    </tr>\n",
       "  </thead>\n",
       "  <tbody>\n",
       "    <tr>\n",
       "      <th>0</th>\n",
       "      <td>2008-09</td>\n",
       "      <td>2008</td>\n",
       "      <td>9</td>\n",
       "      <td>ADA MELLO</td>\n",
       "      <td>Contratação de consultorias, assessorias, pesq...</td>\n",
       "      <td>NaN</td>\n",
       "      <td>NaN</td>\n",
       "      <td>NaN</td>\n",
       "      <td>2008-09-01</td>\n",
       "      <td>NaN</td>\n",
       "      <td>12351,52</td>\n",
       "      <td>2.00809e+12</td>\n",
       "    </tr>\n",
       "    <tr>\n",
       "      <th>1</th>\n",
       "      <td>2008-09</td>\n",
       "      <td>2008</td>\n",
       "      <td>9</td>\n",
       "      <td>ADA MELLO</td>\n",
       "      <td>Locomoção, hospedagem, alimentação, combustíve...</td>\n",
       "      <td>NaN</td>\n",
       "      <td>NaN</td>\n",
       "      <td>NaN</td>\n",
       "      <td>2008-09-01</td>\n",
       "      <td>NaN</td>\n",
       "      <td>386,6</td>\n",
       "      <td>2.00809e+12</td>\n",
       "    </tr>\n",
       "  </tbody>\n",
       "</table>\n",
       "</div>"
      ],
      "text/plain": [
       "   PERIODO   ANO  MES    SENADOR  \\\n",
       "0  2008-09  2008    9  ADA MELLO   \n",
       "1  2008-09  2008    9  ADA MELLO   \n",
       "\n",
       "                                        TIPO_DESPESA CNPJ_CPF FORNECEDOR  \\\n",
       "0  Contratação de consultorias, assessorias, pesq...      NaN        NaN   \n",
       "1  Locomoção, hospedagem, alimentação, combustíve...      NaN        NaN   \n",
       "\n",
       "  DOCUMENTO        DATA DETALHAMENTO VALOR_REEMBOLSADO COD_DOCUMENTO  \n",
       "0       NaN  2008-09-01          NaN          12351,52   2.00809e+12  \n",
       "1       NaN  2008-09-01          NaN             386,6   2.00809e+12  "
      ]
     },
     "execution_count": 28,
     "metadata": {},
     "output_type": "execute_result"
    }
   ],
   "source": [
    "df_tratado.head(2)"
   ]
  },
  {
   "cell_type": "markdown",
   "metadata": {},
   "source": [
    "Agora vamos verificar as correções feitas usando o método `info()`."
   ]
  },
  {
   "cell_type": "code",
   "execution_count": 29,
   "metadata": {},
   "outputs": [
    {
     "name": "stdout",
     "output_type": "stream",
     "text": [
      "<class 'pandas.core.frame.DataFrame'>\n",
      "RangeIndex: 312597 entries, 0 to 312596\n",
      "Data columns (total 12 columns):\n",
      " #   Column             Non-Null Count   Dtype    \n",
      "---  ------             --------------   -----    \n",
      " 0   PERIODO            312597 non-null  period[M]\n",
      " 1   ANO                312597 non-null  int64    \n",
      " 2   MES                312597 non-null  int64    \n",
      " 3   SENADOR            312597 non-null  object   \n",
      " 4   TIPO_DESPESA       312597 non-null  object   \n",
      " 5   CNPJ_CPF           309453 non-null  object   \n",
      " 6   FORNECEDOR         309453 non-null  object   \n",
      " 7   DOCUMENTO          288099 non-null  object   \n",
      " 8   DATA               312597 non-null  object   \n",
      " 9   DETALHAMENTO       177658 non-null  object   \n",
      " 10  VALOR_REEMBOLSADO  312597 non-null  object   \n",
      " 11  COD_DOCUMENTO      312597 non-null  object   \n",
      "dtypes: int64(2), object(9), period[M](1)\n",
      "memory usage: 28.6+ MB\n"
     ]
    }
   ],
   "source": [
    "df_tratado.info()"
   ]
  },
  {
   "cell_type": "markdown",
   "metadata": {},
   "source": [
    "### Limpando a coluna VALOR_REEMBOLSADO"
   ]
  },
  {
   "cell_type": "markdown",
   "metadata": {},
   "source": [
    "Outra informação importante que tiramos do data frame usando o método `df.info()` é que a coluna VALOR_REEMBOLSADO não está sendo lida como sendo de um tipo numérico, mas sim como sendo do tipo object. Portanto, vamos converter a coluna VALOR_REEMBOLSADO para valor numérico da seguinte maneira:"
   ]
  },
  {
   "cell_type": "code",
   "execution_count": 30,
   "metadata": {
    "scrolled": true
   },
   "outputs": [
    {
     "name": "stdout",
     "output_type": "stream",
     "text": [
      "Temos que 1 de 312597 valores não foram convertidos para numero.\n"
     ]
    }
   ],
   "source": [
    "valor_remb=pd.to_numeric(df_tratado['VALOR_REEMBOLSADO'].str.replace(',','.'), errors='coerce')\n",
    "where_is_na=np.where(valor_remb.isna())[0]\n",
    "\n",
    "print(\"Temos que %d de %d valores não foram convertidos para numero.\"%(len(where_is_na),df_tratado.shape[0]))"
   ]
  },
  {
   "cell_type": "code",
   "execution_count": 31,
   "metadata": {
    "scrolled": true
   },
   "outputs": [
    {
     "name": "stdout",
     "output_type": "stream",
     "text": [
      "[115962]\n"
     ]
    },
    {
     "data": {
      "text/plain": [
       "PERIODO                                                        2013-02\n",
       "ANO                                                               2013\n",
       "MES                                                                  2\n",
       "SENADOR                                                RICARDO FERRAÇO\n",
       "TIPO_DESPESA         Passagens aéreas, aquáticas e terrestres nacio...\n",
       "CNPJ_CPF                                            02.012.862/0001-60\n",
       "FORNECEDOR                                                         TAM\n",
       "DOCUMENTO                                                9572462859757\n",
       "DATA                                                        2013-04-02\n",
       "DETALHAMENTO         CNPJ: 02.012.862/0001-60 FORNECEDOR: TAM DOCUM...\n",
       "VALOR_REEMBOLSADO                                          1\\r\\n675,55\n",
       "COD_DOCUMENTO                                                   698982\n",
       "Name: 115962, dtype: object"
      ]
     },
     "execution_count": 31,
     "metadata": {},
     "output_type": "execute_result"
    }
   ],
   "source": [
    "print(where_is_na)\n",
    "df_tratado.loc[where_is_na[0]]"
   ]
  },
  {
   "cell_type": "code",
   "execution_count": 32,
   "metadata": {
    "scrolled": true
   },
   "outputs": [
    {
     "data": {
      "text/plain": [
       "count    312597.000000\n",
       "mean       1005.278140\n",
       "std        2561.660456\n",
       "min       -1500.000000\n",
       "25%         100.000000\n",
       "50%         280.000000\n",
       "75%         994.080000\n",
       "max      270000.000000\n",
       "Name: VALOR_REEMBOLSADO, dtype: float64"
      ]
     },
     "execution_count": 32,
     "metadata": {},
     "output_type": "execute_result"
    }
   ],
   "source": [
    "valor_remb[where_is_na[0]]=675.55\n",
    "df_tratado['VALOR_REEMBOLSADO']=valor_remb\n",
    "df_tratado['VALOR_REEMBOLSADO'].describe()"
   ]
  },
  {
   "cell_type": "markdown",
   "metadata": {},
   "source": [
    "O método `describe()` revelou que há valores negativos na coluna 'VALOR_REEMBOLSADO'. Portanto vamos investigar esses valores e o que podemos fazer sobre isso."
   ]
  },
  {
   "cell_type": "code",
   "execution_count": 33,
   "metadata": {},
   "outputs": [
    {
     "name": "stdout",
     "output_type": "stream",
     "text": [
      "A coluna 'VALOR_REEMBOLSADO' apresentou 3 valores negativos \n",
      "\n"
     ]
    }
   ],
   "source": [
    "negativos=np.where(valor_remb<0)[0]\n",
    "print(\"A coluna 'VALOR_REEMBOLSADO' apresentou %d valores negativos\"%(len(negativos)),'\\n')"
   ]
  },
  {
   "cell_type": "markdown",
   "metadata": {},
   "source": [
    "Como exitem poucos valores negativos, vamos olhá-los individualmente."
   ]
  },
  {
   "cell_type": "code",
   "execution_count": 34,
   "metadata": {
    "scrolled": true
   },
   "outputs": [
    {
     "name": "stdout",
     "output_type": "stream",
     "text": [
      "ANO                                                               2015\n",
      "MES                                                                  2\n",
      "SENADOR                                                 GLADSON CAMELI\n",
      "TIPO_DESPESA         Aluguel de imóveis para escritório político, c...\n",
      "CNPJ_CPF                                            63.600.449/0001-00\n",
      "FORNECEDOR           Arras Adm. de Bens Imóveis Limpeza e Conservaç...\n",
      "DOCUMENTO                                                          NaN\n",
      "DATA                                                        15/01/2015\n",
      "DETALHAMENTO         Contrato de locação de Imóvel comercial do esc...\n",
      "VALOR_REEMBOLSADO                                                -1500\n",
      "COD_DOCUMENTO                                              2.00123e+06\n",
      "Name: 152315, dtype: object \n",
      "\n",
      "ANO                                                               2015\n",
      "MES                                                                  1\n",
      "SENADOR                                             RANDOLFE RODRIGUES\n",
      "TIPO_DESPESA         Passagens aéreas, aquáticas e terrestres nacio...\n",
      "CNPJ_CPF                                            02.012.862/0001-60\n",
      "FORNECEDOR                                       Tam Linhas Aereas S/A\n",
      "DOCUMENTO                                                9572104373256\n",
      "DATA                                                        28/01/2015\n",
      "DETALHAMENTO         9572100929351 - R$ 1.298,93 (1º bilhete emitid...\n",
      "VALOR_REEMBOLSADO                                                   -9\n",
      "COD_DOCUMENTO                                              2.00036e+06\n",
      "Name: 163225, dtype: object \n",
      "\n",
      "ANO                                                               2017\n",
      "MES                                                                  5\n",
      "SENADOR                                                   DÁRIO BERGER\n",
      "TIPO_DESPESA         Contratação de consultorias, assessorias, pesq...\n",
      "CNPJ_CPF                                            73.228.876/0001-63\n",
      "FORNECEDOR                                      TV CLIPAGEM LTDA. EPP.\n",
      "DOCUMENTO                                                       001661\n",
      "DATA                                                        02/06/2017\n",
      "DETALHAMENTO         Despesa com Monitoramento de Informação Jornal...\n",
      "VALOR_REEMBOLSADO                                               -243,4\n",
      "COD_DOCUMENTO                                              2.06857e+06\n",
      "Name: 201499, dtype: object \n",
      "\n"
     ]
    }
   ],
   "source": [
    "for i in negativos:\n",
    "    print(df.loc[i],'\\n')"
   ]
  },
  {
   "cell_type": "code",
   "execution_count": 35,
   "metadata": {},
   "outputs": [
    {
     "name": "stdout",
     "output_type": "stream",
     "text": [
      "Contrato de locação de Imóvel comercial do escritório de apoio do Senador Gladson Cameli no Estado \n",
      "\n",
      "9572100929351 - R$ 1.298,93 (1º bilhete emitido) 9572102224403 - R$ 1.418,93 (1ª remarcação) 9572104023443 - R$ 1.498,93 (2ª remarcação) 9572104373256 - R$ 2.412,03 (3ª remarcação - bilhete utilizado) \n",
      "\n",
      "Despesa com Monitoramento de Informação Jornalística em Mídia Eletrônica e Imprensa \n",
      "\n"
     ]
    }
   ],
   "source": [
    "for i in negativos:\n",
    "    print(df['DETALHAMENTO'].loc[i],'\\n')\n",
    "    "
   ]
  },
  {
   "cell_type": "markdown",
   "metadata": {},
   "source": [
    "Como não conseguimos inferir um novo número para essas linhas iremos excluí-las."
   ]
  },
  {
   "cell_type": "code",
   "execution_count": 36,
   "metadata": {},
   "outputs": [],
   "source": [
    "df_tratado=df_tratado.drop(index=negativos).reset_index()"
   ]
  },
  {
   "cell_type": "markdown",
   "metadata": {},
   "source": [
    "Agora vamos verificar as correções feitas usando o método `info()`."
   ]
  },
  {
   "cell_type": "code",
   "execution_count": 37,
   "metadata": {
    "scrolled": false
   },
   "outputs": [
    {
     "name": "stdout",
     "output_type": "stream",
     "text": [
      "<class 'pandas.core.frame.DataFrame'>\n",
      "RangeIndex: 312594 entries, 0 to 312593\n",
      "Data columns (total 13 columns):\n",
      " #   Column             Non-Null Count   Dtype    \n",
      "---  ------             --------------   -----    \n",
      " 0   index              312594 non-null  int64    \n",
      " 1   PERIODO            312594 non-null  period[M]\n",
      " 2   ANO                312594 non-null  int64    \n",
      " 3   MES                312594 non-null  int64    \n",
      " 4   SENADOR            312594 non-null  object   \n",
      " 5   TIPO_DESPESA       312594 non-null  object   \n",
      " 6   CNPJ_CPF           309450 non-null  object   \n",
      " 7   FORNECEDOR         309450 non-null  object   \n",
      " 8   DOCUMENTO          288097 non-null  object   \n",
      " 9   DATA               312594 non-null  object   \n",
      " 10  DETALHAMENTO       177655 non-null  object   \n",
      " 11  VALOR_REEMBOLSADO  312594 non-null  float64  \n",
      " 12  COD_DOCUMENTO      312594 non-null  object   \n",
      "dtypes: float64(1), int64(3), object(8), period[M](1)\n",
      "memory usage: 31.0+ MB\n"
     ]
    }
   ],
   "source": [
    "df_tratado.info()"
   ]
  },
  {
   "cell_type": "markdown",
   "metadata": {},
   "source": [
    "### Transformando a coluna DOCUMENTO em dados booleanos\n",
    "Vamos transformar a coluna DOCUMENTO em dados booleanos, de modo que o valor True representa a situação em que o senador incluiu o documento e o False representa que o senador não o incluiu."
   ]
  },
  {
   "cell_type": "code",
   "execution_count": 46,
   "metadata": {},
   "outputs": [
    {
     "name": "stdout",
     "output_type": "stream",
     "text": [
      "<class 'pandas.core.frame.DataFrame'>\n",
      "RangeIndex: 312594 entries, 0 to 312593\n",
      "Data columns (total 13 columns):\n",
      " #   Column             Non-Null Count   Dtype    \n",
      "---  ------             --------------   -----    \n",
      " 0   index              312594 non-null  int64    \n",
      " 1   PERIODO            312594 non-null  period[M]\n",
      " 2   SENADOR            312594 non-null  object   \n",
      " 3   DOCUMENTO          312594 non-null  bool     \n",
      " 4   DATA               312594 non-null  object   \n",
      " 5   VALOR_REEMBOLSADO  312594 non-null  float64  \n",
      " 6   DESPESA_0          312594 non-null  uint8    \n",
      " 7   DESPESA_1          312594 non-null  uint8    \n",
      " 8   DESPESA_2          312594 non-null  uint8    \n",
      " 9   DESPESA_3          312594 non-null  uint8    \n",
      " 10  DESPESA_4          312594 non-null  uint8    \n",
      " 11  DESPESA_5          312594 non-null  uint8    \n",
      " 12  DESPESA_6          312594 non-null  uint8    \n",
      "dtypes: bool(1), float64(1), int64(1), object(2), period[M](1), uint8(7)\n",
      "memory usage: 14.3+ MB\n"
     ]
    }
   ],
   "source": [
    "df_tratado['DOCUMENTO']=pd.to_numeric(df_tratado['DOCUMENTO'].isna()==False)\n",
    "df_tratado.info()"
   ]
  },
  {
   "cell_type": "markdown",
   "metadata": {},
   "source": [
    "### Convertendo variáveis categóricas em variáveis dummies da coluna TIPO_DESPESA\t"
   ]
  },
  {
   "cell_type": "markdown",
   "metadata": {},
   "source": [
    "Convertendo variáveis categóricas em variáveis dummies conseguimos gerar novas colunas com informações  sobre os tipos de despesa que podem ser analisadas."
   ]
  },
  {
   "cell_type": "code",
   "execution_count": 39,
   "metadata": {},
   "outputs": [
    {
     "data": {
      "text/html": [
       "<div>\n",
       "<style scoped>\n",
       "    .dataframe tbody tr th:only-of-type {\n",
       "        vertical-align: middle;\n",
       "    }\n",
       "\n",
       "    .dataframe tbody tr th {\n",
       "        vertical-align: top;\n",
       "    }\n",
       "\n",
       "    .dataframe thead th {\n",
       "        text-align: right;\n",
       "    }\n",
       "</style>\n",
       "<table border=\"1\" class=\"dataframe\">\n",
       "  <thead>\n",
       "    <tr style=\"text-align: right;\">\n",
       "      <th></th>\n",
       "      <th>Aluguel de imóveis para escritório político, compreendendo despesas concernentes a eles.</th>\n",
       "      <th>Aquisição de material de consumo para uso no escritório político, inclusive aquisição ou locação de software, despesas postais, aquisição de publicações, locação de móveis e de equipamentos.</th>\n",
       "      <th>Contratação de consultorias, assessorias, pesquisas, trabalhos técnicos e outros serviços de apoio ao exercício do mandato parlamentar</th>\n",
       "      <th>Divulgação da atividade parlamentar</th>\n",
       "      <th>Locomoção, hospedagem, alimentação, combustíveis e lubrificantes</th>\n",
       "      <th>Passagens aéreas, aquáticas e terrestres nacionais</th>\n",
       "      <th>Serviços de Segurança Privada</th>\n",
       "    </tr>\n",
       "  </thead>\n",
       "  <tbody>\n",
       "    <tr>\n",
       "      <th>0</th>\n",
       "      <td>0</td>\n",
       "      <td>0</td>\n",
       "      <td>1</td>\n",
       "      <td>0</td>\n",
       "      <td>0</td>\n",
       "      <td>0</td>\n",
       "      <td>0</td>\n",
       "    </tr>\n",
       "    <tr>\n",
       "      <th>1</th>\n",
       "      <td>0</td>\n",
       "      <td>0</td>\n",
       "      <td>0</td>\n",
       "      <td>0</td>\n",
       "      <td>1</td>\n",
       "      <td>0</td>\n",
       "      <td>0</td>\n",
       "    </tr>\n",
       "  </tbody>\n",
       "</table>\n",
       "</div>"
      ],
      "text/plain": [
       "   Aluguel de imóveis para escritório político, compreendendo despesas concernentes a eles.  \\\n",
       "0                                                  0                                          \n",
       "1                                                  0                                          \n",
       "\n",
       "   Aquisição de material de consumo para uso no escritório político, inclusive aquisição ou locação de software, despesas postais, aquisição de publicações, locação de móveis e de equipamentos.   \\\n",
       "0                                                  0                                                                                                                                                 \n",
       "1                                                  0                                                                                                                                                 \n",
       "\n",
       "   Contratação de consultorias, assessorias, pesquisas, trabalhos técnicos e outros serviços de apoio ao exercício do mandato parlamentar  \\\n",
       "0                                                  1                                                                                        \n",
       "1                                                  0                                                                                        \n",
       "\n",
       "   Divulgação da atividade parlamentar  \\\n",
       "0                                    0   \n",
       "1                                    0   \n",
       "\n",
       "   Locomoção, hospedagem, alimentação, combustíveis e lubrificantes  \\\n",
       "0                                                  0                  \n",
       "1                                                  1                  \n",
       "\n",
       "   Passagens aéreas, aquáticas e terrestres nacionais  \\\n",
       "0                                                  0    \n",
       "1                                                  0    \n",
       "\n",
       "   Serviços de Segurança Privada  \n",
       "0                              0  \n",
       "1                              0  "
      ]
     },
     "execution_count": 39,
     "metadata": {},
     "output_type": "execute_result"
    }
   ],
   "source": [
    "dummies=pd.get_dummies(df_tratado['TIPO_DESPESA'])\n",
    "col=dummies.columns\n",
    "dummies=pd.get_dummies(df_tratado['TIPO_DESPESA'])\n",
    "dummies.head(2)"
   ]
  },
  {
   "cell_type": "markdown",
   "metadata": {},
   "source": [
    "Como os nomes das colunas estão muito extensos, farei um dicionário para esses nomes da seguinte maneira:\n",
    " \n",
    "* **DESPESA_0**: Aluguel de imóveis para escritório político, compreendendo despesas concernentes a eles.\n",
    "* **DESPESA_1**: Aquisição de material de consumo para uso no escritório político, inclusive aquisição ou locação de software, despesas postais, aquisição de publicações, locação de móveis e de equipamentos. \n",
    "* **DESPESA_2**: Contratação de consultorias, assessorias, pesquisas, trabalhos técnicos e outros serviços de apoio ao exercício do mandato parlamentar\n",
    "* **DESPESA_3**: Divulgação da atividade parlamentar\n",
    "* **DESPESA_4**: Locomoção, hospedagem, alimentação, combustíveis e lubrificantes\n",
    "* **DESPESA_5**: Passagens aéreas, aquáticas e terrestres nacionais\n",
    "* **DESPESA_6**: Serviços de Segurança Privada"
   ]
  },
  {
   "cell_type": "code",
   "execution_count": 40,
   "metadata": {
    "scrolled": true
   },
   "outputs": [
    {
     "data": {
      "text/html": [
       "<div>\n",
       "<style scoped>\n",
       "    .dataframe tbody tr th:only-of-type {\n",
       "        vertical-align: middle;\n",
       "    }\n",
       "\n",
       "    .dataframe tbody tr th {\n",
       "        vertical-align: top;\n",
       "    }\n",
       "\n",
       "    .dataframe thead th {\n",
       "        text-align: right;\n",
       "    }\n",
       "</style>\n",
       "<table border=\"1\" class=\"dataframe\">\n",
       "  <thead>\n",
       "    <tr style=\"text-align: right;\">\n",
       "      <th></th>\n",
       "      <th>DESPESA_0</th>\n",
       "      <th>DESPESA_1</th>\n",
       "      <th>DESPESA_2</th>\n",
       "      <th>DESPESA_3</th>\n",
       "      <th>DESPESA_4</th>\n",
       "      <th>DESPESA_5</th>\n",
       "      <th>DESPESA_6</th>\n",
       "    </tr>\n",
       "  </thead>\n",
       "  <tbody>\n",
       "    <tr>\n",
       "      <th>0</th>\n",
       "      <td>0</td>\n",
       "      <td>0</td>\n",
       "      <td>1</td>\n",
       "      <td>0</td>\n",
       "      <td>0</td>\n",
       "      <td>0</td>\n",
       "      <td>0</td>\n",
       "    </tr>\n",
       "    <tr>\n",
       "      <th>1</th>\n",
       "      <td>0</td>\n",
       "      <td>0</td>\n",
       "      <td>0</td>\n",
       "      <td>0</td>\n",
       "      <td>1</td>\n",
       "      <td>0</td>\n",
       "      <td>0</td>\n",
       "    </tr>\n",
       "  </tbody>\n",
       "</table>\n",
       "</div>"
      ],
      "text/plain": [
       "   DESPESA_0  DESPESA_1  DESPESA_2  DESPESA_3  DESPESA_4  DESPESA_5  DESPESA_6\n",
       "0          0          0          1          0          0          0          0\n",
       "1          0          0          0          0          1          0          0"
      ]
     },
     "execution_count": 40,
     "metadata": {},
     "output_type": "execute_result"
    }
   ],
   "source": [
    "dict_col={}\n",
    "for i in range(len(col)):\n",
    "    dict_col[col[i]]='DESPESA_'+str(i)\n",
    "dummies=dummies.rename(columns=dict_col)\n",
    "dummies.head(2)"
   ]
  },
  {
   "cell_type": "code",
   "execution_count": 41,
   "metadata": {
    "scrolled": true
   },
   "outputs": [
    {
     "name": "stdout",
     "output_type": "stream",
     "text": [
      "<class 'pandas.core.frame.DataFrame'>\n",
      "RangeIndex: 312594 entries, 0 to 312593\n",
      "Data columns (total 20 columns):\n",
      " #   Column             Non-Null Count   Dtype    \n",
      "---  ------             --------------   -----    \n",
      " 0   index              312594 non-null  int64    \n",
      " 1   PERIODO            312594 non-null  period[M]\n",
      " 2   ANO                312594 non-null  int64    \n",
      " 3   MES                312594 non-null  int64    \n",
      " 4   SENADOR            312594 non-null  object   \n",
      " 5   TIPO_DESPESA       312594 non-null  object   \n",
      " 6   CNPJ_CPF           309450 non-null  object   \n",
      " 7   FORNECEDOR         309450 non-null  object   \n",
      " 8   DOCUMENTO          312594 non-null  bool     \n",
      " 9   DATA               312594 non-null  object   \n",
      " 10  DETALHAMENTO       177655 non-null  object   \n",
      " 11  VALOR_REEMBOLSADO  312594 non-null  float64  \n",
      " 12  COD_DOCUMENTO      312594 non-null  object   \n",
      " 13  DESPESA_0          312594 non-null  uint8    \n",
      " 14  DESPESA_1          312594 non-null  uint8    \n",
      " 15  DESPESA_2          312594 non-null  uint8    \n",
      " 16  DESPESA_3          312594 non-null  uint8    \n",
      " 17  DESPESA_4          312594 non-null  uint8    \n",
      " 18  DESPESA_5          312594 non-null  uint8    \n",
      " 19  DESPESA_6          312594 non-null  uint8    \n",
      "dtypes: bool(1), float64(1), int64(3), object(7), period[M](1), uint8(7)\n",
      "memory usage: 31.0+ MB\n"
     ]
    }
   ],
   "source": [
    "df_tratado=pd.concat([df_tratado,dummies],axis=1)\n",
    "df_tratado.info()"
   ]
  },
  {
   "cell_type": "markdown",
   "metadata": {},
   "source": [
    "### Removendo as colunas que não participarão da análise dos dados\n",
    "* **'ANO' e 'MES'**\n",
    "    - As colunas 'ANO' e 'MES' foram concatenadas na colunas 'PERIODO'\n",
    "\n",
    "* **'DETALHAMENTO'**\n",
    "    - A coluna 'DETALHAMENTO' te muitos valores ausentes e não será usada nas análises.\n",
    "    \n",
    "* **'COD_DOCUMENTO'**\n",
    "    - A coluna 'COD_DOCUMENTO' possuem informação que não serão úteis nas análises.\n",
    "    \n",
    "* **'CNPJ_CPF' e 'FORNECEDOR'**\n",
    "    - Como vimos, quando estavamos explorando os dados, as colunas 'CNPJ_CPF', 'FORNECEDOR' e 'DATA' não apareceram apenas em 2008 e em parte de 2009, de modo que não seria interessante transformar os dados 'CNPJ_CPF' e 'FORNECEDOR' em dados booleanos. \n",
    " \n",
    "* **'TIPO_DESPESA'**\n",
    "    - A coluna 'TIPO_DESPESA' não é mais necessária pois foi transformada em colunas com variáveis dummy."
   ]
  },
  {
   "cell_type": "code",
   "execution_count": 42,
   "metadata": {},
   "outputs": [],
   "source": [
    "remove_columns=['ANO','MES','DETALHAMENTO','COD_DOCUMENTO','CNPJ_CPF','FORNECEDOR','TIPO_DESPESA']\n",
    "df_tratado=df_tratado.drop(remove_columns,axis=1)"
   ]
  },
  {
   "cell_type": "code",
   "execution_count": 43,
   "metadata": {},
   "outputs": [
    {
     "data": {
      "text/html": [
       "<div>\n",
       "<style scoped>\n",
       "    .dataframe tbody tr th:only-of-type {\n",
       "        vertical-align: middle;\n",
       "    }\n",
       "\n",
       "    .dataframe tbody tr th {\n",
       "        vertical-align: top;\n",
       "    }\n",
       "\n",
       "    .dataframe thead th {\n",
       "        text-align: right;\n",
       "    }\n",
       "</style>\n",
       "<table border=\"1\" class=\"dataframe\">\n",
       "  <thead>\n",
       "    <tr style=\"text-align: right;\">\n",
       "      <th></th>\n",
       "      <th>index</th>\n",
       "      <th>PERIODO</th>\n",
       "      <th>SENADOR</th>\n",
       "      <th>DOCUMENTO</th>\n",
       "      <th>DATA</th>\n",
       "      <th>VALOR_REEMBOLSADO</th>\n",
       "      <th>DESPESA_0</th>\n",
       "      <th>DESPESA_1</th>\n",
       "      <th>DESPESA_2</th>\n",
       "      <th>DESPESA_3</th>\n",
       "      <th>DESPESA_4</th>\n",
       "      <th>DESPESA_5</th>\n",
       "      <th>DESPESA_6</th>\n",
       "    </tr>\n",
       "  </thead>\n",
       "  <tbody>\n",
       "    <tr>\n",
       "      <th>0</th>\n",
       "      <td>0</td>\n",
       "      <td>2008-09</td>\n",
       "      <td>ADA MELLO</td>\n",
       "      <td>False</td>\n",
       "      <td>2008-09-01</td>\n",
       "      <td>12351.52</td>\n",
       "      <td>0</td>\n",
       "      <td>0</td>\n",
       "      <td>1</td>\n",
       "      <td>0</td>\n",
       "      <td>0</td>\n",
       "      <td>0</td>\n",
       "      <td>0</td>\n",
       "    </tr>\n",
       "    <tr>\n",
       "      <th>1</th>\n",
       "      <td>1</td>\n",
       "      <td>2008-09</td>\n",
       "      <td>ADA MELLO</td>\n",
       "      <td>False</td>\n",
       "      <td>2008-09-01</td>\n",
       "      <td>386.60</td>\n",
       "      <td>0</td>\n",
       "      <td>0</td>\n",
       "      <td>0</td>\n",
       "      <td>0</td>\n",
       "      <td>1</td>\n",
       "      <td>0</td>\n",
       "      <td>0</td>\n",
       "    </tr>\n",
       "  </tbody>\n",
       "</table>\n",
       "</div>"
      ],
      "text/plain": [
       "   index  PERIODO    SENADOR  DOCUMENTO        DATA  VALOR_REEMBOLSADO  \\\n",
       "0      0  2008-09  ADA MELLO      False  2008-09-01           12351.52   \n",
       "1      1  2008-09  ADA MELLO      False  2008-09-01             386.60   \n",
       "\n",
       "   DESPESA_0  DESPESA_1  DESPESA_2  DESPESA_3  DESPESA_4  DESPESA_5  DESPESA_6  \n",
       "0          0          0          1          0          0          0          0  \n",
       "1          0          0          0          0          1          0          0  "
      ]
     },
     "execution_count": 43,
     "metadata": {},
     "output_type": "execute_result"
    }
   ],
   "source": [
    "df_tratado.head(2)"
   ]
  },
  {
   "cell_type": "code",
   "execution_count": 44,
   "metadata": {},
   "outputs": [
    {
     "name": "stdout",
     "output_type": "stream",
     "text": [
      "<class 'pandas.core.frame.DataFrame'>\n",
      "RangeIndex: 312594 entries, 0 to 312593\n",
      "Data columns (total 13 columns):\n",
      " #   Column             Non-Null Count   Dtype    \n",
      "---  ------             --------------   -----    \n",
      " 0   index              312594 non-null  int64    \n",
      " 1   PERIODO            312594 non-null  period[M]\n",
      " 2   SENADOR            312594 non-null  object   \n",
      " 3   DOCUMENTO          312594 non-null  bool     \n",
      " 4   DATA               312594 non-null  object   \n",
      " 5   VALOR_REEMBOLSADO  312594 non-null  float64  \n",
      " 6   DESPESA_0          312594 non-null  uint8    \n",
      " 7   DESPESA_1          312594 non-null  uint8    \n",
      " 8   DESPESA_2          312594 non-null  uint8    \n",
      " 9   DESPESA_3          312594 non-null  uint8    \n",
      " 10  DESPESA_4          312594 non-null  uint8    \n",
      " 11  DESPESA_5          312594 non-null  uint8    \n",
      " 12  DESPESA_6          312594 non-null  uint8    \n",
      "dtypes: bool(1), float64(1), int64(1), object(2), period[M](1), uint8(7)\n",
      "memory usage: 14.3+ MB\n"
     ]
    }
   ],
   "source": [
    "df_tratado.info()"
   ]
  },
  {
   "cell_type": "markdown",
   "metadata": {},
   "source": [
    "Agora temos nossos dados limpos e prontos para análises!"
   ]
  },
  {
   "cell_type": "markdown",
   "metadata": {},
   "source": [
    "## Análise dos dados"
   ]
  },
  {
   "cell_type": "code",
   "execution_count": 45,
   "metadata": {},
   "outputs": [
    {
     "data": {
      "text/html": [
       "<div>\n",
       "<style scoped>\n",
       "    .dataframe tbody tr th:only-of-type {\n",
       "        vertical-align: middle;\n",
       "    }\n",
       "\n",
       "    .dataframe tbody tr th {\n",
       "        vertical-align: top;\n",
       "    }\n",
       "\n",
       "    .dataframe thead th {\n",
       "        text-align: right;\n",
       "    }\n",
       "</style>\n",
       "<table border=\"1\" class=\"dataframe\">\n",
       "  <thead>\n",
       "    <tr style=\"text-align: right;\">\n",
       "      <th></th>\n",
       "      <th>DOCUMENTO</th>\n",
       "      <th>VALOR_REEMBOLSADO</th>\n",
       "      <th>DESPESA_0</th>\n",
       "      <th>DESPESA_1</th>\n",
       "      <th>DESPESA_2</th>\n",
       "      <th>DESPESA_3</th>\n",
       "      <th>DESPESA_4</th>\n",
       "      <th>DESPESA_5</th>\n",
       "      <th>DESPESA_6</th>\n",
       "    </tr>\n",
       "    <tr>\n",
       "      <th>SENADOR</th>\n",
       "      <th></th>\n",
       "      <th></th>\n",
       "      <th></th>\n",
       "      <th></th>\n",
       "      <th></th>\n",
       "      <th></th>\n",
       "      <th></th>\n",
       "      <th></th>\n",
       "      <th></th>\n",
       "    </tr>\n",
       "  </thead>\n",
       "  <tbody>\n",
       "    <tr>\n",
       "      <th>ACIR GURGACZ</th>\n",
       "      <td>2273</td>\n",
       "      <td>4412981.34</td>\n",
       "      <td>415.0</td>\n",
       "      <td>131.0</td>\n",
       "      <td>35.0</td>\n",
       "      <td>406.0</td>\n",
       "      <td>645.0</td>\n",
       "      <td>694.0</td>\n",
       "      <td>0.0</td>\n",
       "    </tr>\n",
       "    <tr>\n",
       "      <th>ADA MELLO</th>\n",
       "      <td>0</td>\n",
       "      <td>59962.46</td>\n",
       "      <td>0.0</td>\n",
       "      <td>0.0</td>\n",
       "      <td>4.0</td>\n",
       "      <td>0.0</td>\n",
       "      <td>4.0</td>\n",
       "      <td>0.0</td>\n",
       "      <td>0.0</td>\n",
       "    </tr>\n",
       "    <tr>\n",
       "      <th>ADELMIR SANTANA</th>\n",
       "      <td>37</td>\n",
       "      <td>536786.76</td>\n",
       "      <td>4.0</td>\n",
       "      <td>1.0</td>\n",
       "      <td>29.0</td>\n",
       "      <td>3.0</td>\n",
       "      <td>27.0</td>\n",
       "      <td>0.0</td>\n",
       "      <td>0.0</td>\n",
       "    </tr>\n",
       "    <tr>\n",
       "      <th>AIRTON SANDOVAL</th>\n",
       "      <td>562</td>\n",
       "      <td>560015.23</td>\n",
       "      <td>200.0</td>\n",
       "      <td>37.0</td>\n",
       "      <td>17.0</td>\n",
       "      <td>0.0</td>\n",
       "      <td>279.0</td>\n",
       "      <td>94.0</td>\n",
       "      <td>0.0</td>\n",
       "    </tr>\n",
       "    <tr>\n",
       "      <th>ALESSANDRO VIEIRA</th>\n",
       "      <td>845</td>\n",
       "      <td>1439178.28</td>\n",
       "      <td>168.0</td>\n",
       "      <td>53.0</td>\n",
       "      <td>182.0</td>\n",
       "      <td>1.0</td>\n",
       "      <td>236.0</td>\n",
       "      <td>208.0</td>\n",
       "      <td>0.0</td>\n",
       "    </tr>\n",
       "  </tbody>\n",
       "</table>\n",
       "</div>"
      ],
      "text/plain": [
       "                   DOCUMENTO  VALOR_REEMBOLSADO  DESPESA_0  DESPESA_1  \\\n",
       "SENADOR                                                                 \n",
       "ACIR GURGACZ            2273         4412981.34      415.0      131.0   \n",
       "ADA MELLO                  0           59962.46        0.0        0.0   \n",
       "ADELMIR SANTANA           37          536786.76        4.0        1.0   \n",
       "AIRTON SANDOVAL          562          560015.23      200.0       37.0   \n",
       "ALESSANDRO VIEIRA        845         1439178.28      168.0       53.0   \n",
       "\n",
       "                   DESPESA_2  DESPESA_3  DESPESA_4  DESPESA_5  DESPESA_6  \n",
       "SENADOR                                                                   \n",
       "ACIR GURGACZ            35.0      406.0      645.0      694.0        0.0  \n",
       "ADA MELLO                4.0        0.0        4.0        0.0        0.0  \n",
       "ADELMIR SANTANA         29.0        3.0       27.0        0.0        0.0  \n",
       "AIRTON SANDOVAL         17.0        0.0      279.0       94.0        0.0  \n",
       "ALESSANDRO VIEIRA      182.0        1.0      236.0      208.0        0.0  "
      ]
     },
     "execution_count": 45,
     "metadata": {},
     "output_type": "execute_result"
    }
   ],
   "source": [
    "df_tratado_senador=df_tratado.drop('index',axis=1).groupby('SENADOR').sum()#describe().loc[:,(slice(None),'max')]\n",
    "df_tratado_senador.head()"
   ]
  }
 ],
 "metadata": {
  "kernelspec": {
   "display_name": "Python 3",
   "language": "python",
   "name": "python3"
  },
  "language_info": {
   "codemirror_mode": {
    "name": "ipython",
    "version": 3
   },
   "file_extension": ".py",
   "mimetype": "text/x-python",
   "name": "python",
   "nbconvert_exporter": "python",
   "pygments_lexer": "ipython3",
   "version": "3.8.5"
  }
 },
 "nbformat": 4,
 "nbformat_minor": 4
}
